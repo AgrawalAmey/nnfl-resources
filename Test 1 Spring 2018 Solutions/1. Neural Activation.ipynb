{
 "cells": [
  {
   "cell_type": "markdown",
   "metadata": {
    "nbgrader": {
     "grade": false,
     "grade_id": "cell-d3072f29a29f6756",
     "locked": true,
     "schema_version": 1,
     "solution": false
    }
   },
   "source": [
    "# 1. Neural Activation\n",
    "## Activation Function\n",
    "With the advent of feedforword neural networks, activation functions have become an extremely important feature of the artificial neural networks. Activation functions are used to introduce non-lineraity in ANNs, and hence, determine whether a neuron is activated or not.\n",
    "\n",
    "Most neural networks describe the features by using an affine transformation controlled by learned parameters, followed by an activation function.\n",
    "\n",
    "A single layer in a neural network can be mathematically represented as:\n",
    "$$H = \\sigma (W*X + b)$$\n",
    "where $W$ is a weight matrix, $X$ is the input and $b$ is the bias matrix. $*$ denotes the matrix multiplication and $\\sigma (Y)$ is the activation function.\n",
    "\n",
    "**Note**:  $\\sigma (Y)$ is applied to every element of the matrix, Y.\n",
    "\n",
    "There are many activation functions that exist, but for this problem we will implement two activation functions."
   ]
  },
  {
   "cell_type": "code",
   "execution_count": 108,
   "metadata": {
    "collapsed": true,
    "nbgrader": {
     "grade": false,
     "grade_id": "cell-74bc49bdea7f7759",
     "locked": true,
     "schema_version": 1,
     "solution": false
    }
   },
   "outputs": [],
   "source": [
    "#Import libraries\n",
    "import numpy as np"
   ]
  },
  {
   "cell_type": "markdown",
   "metadata": {
    "nbgrader": {
     "grade": false,
     "grade_id": "cell-1fc9b2bf51c32f76",
     "locked": true,
     "schema_version": 1,
     "solution": false
    }
   },
   "source": [
    "### Part 1: Implement the affine transformation, $W*X + b$"
   ]
  },
  {
   "cell_type": "code",
   "execution_count": 109,
   "metadata": {
    "collapsed": true,
    "nbgrader": {
     "grade": false,
     "grade_id": "transformation",
     "locked": false,
     "schema_version": 1,
     "solution": true
    }
   },
   "outputs": [],
   "source": [
    "def transformation(W,X,b):\n",
    "    \"\"\"\n",
    "    Implement the transformation W*X + b, given the matrices W, X, and b.\n",
    "    \n",
    "    Note that all matrix calculations follow the general matrix arithmatic rules.\n",
    "    \n",
    "    Parameters: W,X,b\n",
    "    Output: transformed_X, i.e., W*X + b\n",
    "    \"\"\"\n",
    "    \n",
    "    ### BEGIN SOLUTION\n",
    "    transformed_X = np.dot(W,X) + b\n",
    "    ### END SOLUTION\n",
    "    \n",
    "    return transformed_X"
   ]
  },
  {
   "cell_type": "code",
   "execution_count": 110,
   "metadata": {
    "nbgrader": {
     "grade": true,
     "grade_id": "transformation-visible",
     "locked": true,
     "points": 0,
     "schema_version": 1,
     "solution": false
    }
   },
   "outputs": [
    {
     "name": "stdout",
     "output_type": "stream",
     "text": [
      "Running base test case 1...\n",
      "Base test case 1 successful!!\n",
      "\n",
      "Running base test case 2...\n",
      "Base test case 2 successful!!\n",
      "\n"
     ]
    }
   ],
   "source": [
    "print(\"Running base test case 1...\")\n",
    "\n",
    "W_test1 = np.array([[-4., 3., -6., 4.], \n",
    "                    [4., 0., -7., 6.], \n",
    "                    [-3., 6., -6., 0.]])\n",
    "\n",
    "X_test1 = np.array([[2., 2.], \n",
    "                    [5., 3.], \n",
    "                    [0., 5.], \n",
    "                    [0., 5.]])\n",
    "\n",
    "b_test1 = np.array([[0., 1.], \n",
    "                    [1., 0.], \n",
    "                    [1., 0.]])\n",
    "\n",
    "test1 = transformation(W_test1, X_test1, b_test1)\n",
    "\n",
    "ans_test1 = np.array([[  7.,  -8.],\n",
    "                      [  9.,   3.],\n",
    "                      [ 25., -18.]])\n",
    "\n",
    "assert np.allclose(test1, ans_test1, rtol=1e-05, atol=1e-06)\n",
    "\n",
    "print(\"Base test case 1 successful!!\\n\")\n",
    "\n",
    "\n",
    "\n",
    "print(\"Running base test case 2...\")\n",
    "\n",
    "W_test2 = np.array([[ -0.7787005 ,  -0.47647797,  0.11260233],\n",
    "                    [ -0.14420051,  0.17060967,  -0.6843165 ]])\n",
    "\n",
    "X_test2 = np.array([[ 0.11699419,  0.42106442],\n",
    "                    [ 0.9917111 ,  0.77009803],\n",
    "                    [ 0.84847815,  0.51806326]])\n",
    "\n",
    "b_test2 = np.array([[ 0.28954369,  0.33627522],\n",
    "                    [ 0.5604489 ,  0.67298448]])\n",
    "\n",
    "test2 = transformation(W_test2, X_test2, b_test2)\n",
    "\n",
    "ans_test2 = np.array([[-0.17854762, -0.30020747],\n",
    "                      [ 0.13214618,  0.38913371]])\n",
    "\n",
    "assert np.allclose(test2, ans_test2, rtol=1e-05, atol=1e-06)\n",
    "\n",
    "print(\"Base test case 2 successful!!\\n\")"
   ]
  },
  {
   "cell_type": "code",
   "execution_count": 111,
   "metadata": {
    "collapsed": true,
    "nbgrader": {
     "grade": true,
     "grade_id": "transformation-hidden",
     "locked": true,
     "points": 2,
     "schema_version": 1,
     "solution": false
    }
   },
   "outputs": [],
   "source": [
    "# Running hidden test case for transformation. Don't edit the cell.                            *** 2 marks ***\n",
    "### BEGIN HIDDEN TESTS\n",
    "W = np.array([[ -0.83083475,  0.61753942,  -0.63310377,  -0.48717415,  0.57504452, 0.32622988],\n",
    "              [ 0.36375663,  0.36765194,  -0.26286384,  -0.746221  ,  0.66730009, -0.56166359],\n",
    "              [ -0.35383057,  0.52264756,  0.99903579,  0.42882042,  0.73726324, -0.57431334],\n",
    "              [ 0.19099646,  -0.32582755,  -0.49521975,  0.05283398,  -0.91504005, 0.54497423],\n",
    "              [ -0.09900305,  -0.40533759,  0.42502027,  0.08126089,  0.05988224,-0.85102908]])\n",
    "\n",
    "X = np.array([[ 0.27170746,  0.89441607,  0.64849028],\n",
    "              [ 0.42296173,  0.54342876,  0.47889235],\n",
    "              [ 0.48688657,  0.11082849,  0.10691689],\n",
    "              [ 0.04419385,  0.68777309,  0.49437059],\n",
    "              [ 0.70143641,  0.09964604,  0.20949214],\n",
    "              [ 0.01725016,  0.37424641,  0.94070338]])\n",
    "\n",
    "b = np.array([[ 0.24232741,  0.08413896,  0.014919  ],\n",
    "              [ 0.15801316,  0.31713579,  0.0416702 ],\n",
    "              [ 0.15784176,  0.50998073,  0.45405793],\n",
    "              [ 0.44382259,  0.44515729,  0.49186482],\n",
    "              [ 0.00695024,  0.23603969,  0.77601819]])\n",
    "\n",
    "test = transformation(W, X, b)\n",
    "\n",
    "ans_test = np.array([[ 0.35698381, -0.54922425, -0.10931556],\n",
    "                     [ 0.70976779,  0.15620791, -0.33195047],\n",
    "                     [ 1.29536789,  0.74171413,  0.40789652],\n",
    "                     [-0.51331725,  0.5331514 ,  0.75382546],\n",
    "                     [ 0.04645917, -0.28231647, -0.18470363]])\n",
    "\n",
    "assert np.allclose(test, ans_test, rtol=1e-05, atol=1e-06)\n",
    "### END HIDDEN TESTS"
   ]
  },
  {
   "cell_type": "markdown",
   "metadata": {
    "nbgrader": {
     "grade": false,
     "grade_id": "cell-8b264b1f775f4552",
     "locked": true,
     "schema_version": 1,
     "solution": false
    }
   },
   "source": [
    "### Part 2: Implement the $tanh$ activation function\n",
    "\n",
    "$$\\sigma (x) = tanh(x) = \\frac{2}{1 + e^{-2x}} - 1$$"
   ]
  },
  {
   "cell_type": "code",
   "execution_count": 112,
   "metadata": {
    "collapsed": true,
    "nbgrader": {
     "grade": false,
     "grade_id": "activation_tanh",
     "locked": false,
     "schema_version": 1,
     "solution": true
    }
   },
   "outputs": [],
   "source": [
    "def activation_tanh(Y):\n",
    "    \"\"\"\n",
    "    Given a matrix Y, apply the tanh activation function to each element.\n",
    "    \n",
    "    Paramaters: Y\n",
    "    Output: H\n",
    "    \"\"\"\n",
    "    \n",
    "    ### BEGIN SOLUTION\n",
    "    H = (2/(1+np.exp(-2*Y)))-1\n",
    "    ### END SOLUTION\n",
    "         \n",
    "    return H"
   ]
  },
  {
   "cell_type": "code",
   "execution_count": 113,
   "metadata": {
    "nbgrader": {
     "grade": true,
     "grade_id": "tanh-visible",
     "locked": true,
     "points": 0,
     "schema_version": 1,
     "solution": false
    }
   },
   "outputs": [
    {
     "name": "stdout",
     "output_type": "stream",
     "text": [
      "Running base test case 1...\n",
      "Base test case 1 successful!!\n",
      "\n",
      "Running base test case 2...\n",
      "Base test case 2 successful!!\n",
      "\n"
     ]
    }
   ],
   "source": [
    "print(\"Running base test case 1...\")\n",
    "\n",
    "H_test1 = activation_tanh(ans_test1)\n",
    "\n",
    "H_ans_test1 = np.array([[ 0.99999834, -0.99999977],\n",
    "                        [ 0.99999997,  0.99505475],\n",
    "                        [ 1.        , -1.        ]])\n",
    "\n",
    "assert np.allclose(H_test1, H_ans_test1, rtol=1e-05, atol=1e-06)\n",
    "\n",
    "print(\"Base test case 1 successful!!\\n\")\n",
    "\n",
    "\n",
    "\n",
    "print(\"Running base test case 2...\")\n",
    "\n",
    "H_test2 = activation_tanh(ans_test2)\n",
    "\n",
    "H_ans_test2 = np.array([[-0.17667418, -0.29150246],\n",
    "                        [ 0.13138231,  0.37061317]])\n",
    "\n",
    "assert np.allclose(H_test2, H_ans_test2, rtol=1e-05, atol=1e-06)\n",
    "\n",
    "print(\"Base test case 2 successful!!\\n\")"
   ]
  },
  {
   "cell_type": "code",
   "execution_count": 114,
   "metadata": {
    "collapsed": true,
    "nbgrader": {
     "grade": true,
     "grade_id": "tanh-hidden",
     "locked": true,
     "points": 2,
     "schema_version": 1,
     "solution": false
    }
   },
   "outputs": [],
   "source": [
    "# # Running hidden test case for tanh. Don't edit the cell.                                     *** 2 marks ***\n",
    "### BEGIN HIDDEN TESTS\n",
    "H_test = activation_tanh(ans_test)\n",
    "\n",
    "H_ans_test = np.array([[ 0.34255453, -0.49993858, -0.10888219],\n",
    "                       [ 0.6105312 ,  0.15494965, -0.32027227],\n",
    "                       [ 0.86052593,  0.63017968,  0.38668518],\n",
    "                       [-0.47252581,  0.48778635,  0.63742562],\n",
    "                       [ 0.04642577, -0.27504767, -0.18263149]])\n",
    "\n",
    "assert np.allclose(H_test, H_ans_test, rtol=1e-05, atol=1e-06)\n",
    "### END HIDDEN TESTS"
   ]
  },
  {
   "cell_type": "markdown",
   "metadata": {
    "nbgrader": {
     "grade": false,
     "grade_id": "cell-45891893e47f420c",
     "locked": true,
     "schema_version": 1,
     "solution": false
    }
   },
   "source": [
    "### Part 3: Implement the Exponential Linear Unit (ELU) activation function\n",
    "\n",
    "$$ \\sigma (x) = f(\\alpha, x) = \\begin{cases} \\alpha(e^x -1) &\\mbox{if } x < 0 \\\\ \n",
    "x & \\mbox{if } x \\geq 0 \\end{cases} $$"
   ]
  },
  {
   "cell_type": "code",
   "execution_count": 115,
   "metadata": {
    "collapsed": true,
    "nbgrader": {
     "grade": false,
     "grade_id": "activation_elu",
     "locked": false,
     "schema_version": 1,
     "solution": true
    }
   },
   "outputs": [],
   "source": [
    "def activation_elu(Y, alpha):\n",
    "    \"\"\"\n",
    "    Given a matrix, Y, and a real number, alpha, apply the ELU activation function to each element.\n",
    "    \n",
    "    Paramaters: Y, alpha\n",
    "    Output: Z\n",
    "    \"\"\"\n",
    "    \n",
    "    # Hint: Use A = np.copy(B) to create deep copies of numpy array. A = B creates shallow copies of B.\n",
    "    \n",
    "    ### BEGIN SOLUTION\n",
    "    Z = np.copy(Y)\n",
    "    Z[Z<0] = alpha * (np.exp(Z[Z<0]) - 1)\n",
    "    ### END SOLUTION\n",
    "         \n",
    "    return Z"
   ]
  },
  {
   "cell_type": "code",
   "execution_count": 116,
   "metadata": {
    "nbgrader": {
     "grade": true,
     "grade_id": "elu-visible",
     "locked": true,
     "points": 0,
     "schema_version": 1,
     "solution": false
    }
   },
   "outputs": [
    {
     "name": "stdout",
     "output_type": "stream",
     "text": [
      "Running base test case 1...\n",
      "Base test case 1 successful!!\n",
      "\n",
      "Running base test case 2...\n",
      "Base test case 2 successful!!\n",
      "\n"
     ]
    }
   ],
   "source": [
    "print(\"Running base test case 1...\")\n",
    "\n",
    "Z_test1 = activation_elu(ans_test1, 0.8)\n",
    "\n",
    "Z_ans_test1 = np.array([[  7.        ,  -0.79973163],\n",
    "                        [  9.        ,   3.        ],\n",
    "                        [ 25.        ,  -0.79999999]])\n",
    "\n",
    "assert np.allclose(Z_test1, Z_ans_test1, rtol=1e-05, atol=1e-06)\n",
    "\n",
    "print(\"Base test case 1 successful!!\\n\")\n",
    "\n",
    "\n",
    "\n",
    "print(\"Running base test case 2...\")\n",
    "\n",
    "Z_test2 = activation_elu(ans_test2, 1.)\n",
    "\n",
    "Z_ans_test2 = np.array([[-0.16351578, -0.25933546],\n",
    "                     [ 0.13214618,  0.38913371]])\n",
    "\n",
    "assert np.allclose(Z_test2, Z_ans_test2, rtol=1e-05, atol=1e-06)\n",
    "\n",
    "print(\"Base test case 2 successful!!\\n\")"
   ]
  },
  {
   "cell_type": "code",
   "execution_count": 117,
   "metadata": {
    "collapsed": true,
    "nbgrader": {
     "grade": true,
     "grade_id": "elu-hidden",
     "locked": true,
     "points": 2,
     "schema_version": 1,
     "solution": false
    }
   },
   "outputs": [],
   "source": [
    "# # Running hidden test case for ELU. Don't edit the cell.                                      *** 2 marks ***\n",
    "### BEGIN HIDDEN TESTS\n",
    "Z_test = activation_elu(ans_test, 0.5)\n",
    "\n",
    "Z_ans_test = np.array([[ 0.35698381, -0.21130122, -0.05177626],\n",
    "                       [ 0.70976779,  0.15620791, -0.14123857],\n",
    "                       [ 1.29536789,  0.74171413,  0.40789652],\n",
    "                       [-0.20074656,  0.5331514 ,  0.75382546],\n",
    "                       [ 0.04645917, -0.12298249, -0.08432468]])\n",
    "\n",
    "assert np.allclose(Z_test, Z_ans_test, rtol=1e-05, atol=1e-06)\n",
    "### END HIDDEN TESTS"
   ]
  }
 ],
 "metadata": {
  "celltoolbar": "Create Assignment",
  "kernelspec": {
   "display_name": "Python 3",
   "language": "python",
   "name": "python3"
  },
  "language_info": {
   "codemirror_mode": {
    "name": "ipython",
    "version": 3
   },
   "file_extension": ".py",
   "mimetype": "text/x-python",
   "name": "python",
   "nbconvert_exporter": "python",
   "pygments_lexer": "ipython3",
   "version": "3.6.3"
  }
 },
 "nbformat": 4,
 "nbformat_minor": 2
}
