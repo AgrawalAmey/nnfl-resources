{
 "cells": [
  {
   "cell_type": "markdown",
   "metadata": {
    "nbgrader": {
     "grade": false,
     "grade_id": "cell-3f2bcc7da27dede0",
     "locked": true,
     "schema_version": 1,
     "solution": false
    }
   },
   "source": [
    "## 2. Non-Negative Matrix Factorization\n",
    "\n",
    "### Marks: 6\n"
   ]
  },
  {
   "cell_type": "markdown",
   "metadata": {
    "nbgrader": {
     "grade": false,
     "grade_id": "cell-2d1543a83ccb70fb",
     "locked": true,
     "schema_version": 1,
     "solution": false
    }
   },
   "source": [
    "Non-negative matrix factorization is a popular unsupervised learning algorithm used for clustering, deconvolution and generating a lower-level representation of the data. In this problem you have to implement the classical multiplicative update rules proposed by Lee and Seung in 2001 (NIPS) to the solve the factorization problem."
   ]
  },
  {
   "cell_type": "markdown",
   "metadata": {
    "nbgrader": {
     "grade": false,
     "grade_id": "cell-6d340c7f60690811",
     "locked": true,
     "schema_version": 1,
     "solution": false
    }
   },
   "source": [
    "### Problem:\n",
    "\n",
    "Given a non-negative matrix $V \\in m \\times n $, the goal is to determine two non-negative factors of a lower rank $k$, i.e.  $W \\in m \\times k $ and $H \\in k \\times n$ such that:\n",
    "\n",
    "$$ V \\approx WH $$\n",
    "\n",
    "To determine the matrices $W$ and $H$, one of the most common approaches is to minimize the frobenius norm between the original matrix and the reconstructed matrix, under the non-negativity constraint:\n",
    "\n",
    "$$ \\left \\| V-WH \\right \\|^{2}  \\ \\ \\ \\ s.t. \\ \\ V,W,H \\geq  0$$\n",
    "\n"
   ]
  },
  {
   "cell_type": "markdown",
   "metadata": {
    "nbgrader": {
     "grade": false,
     "grade_id": "cell-b2880e79ee23bd6c",
     "locked": true,
     "schema_version": 1,
     "solution": false
    }
   },
   "source": [
    "### Task:\n",
    "\n",
    "Your task in this question is only to implement the update rules for the above constrained problem. To minimize the frobenius norm under the given constraints, Lee and Seung proposed the following multiplicative update rules to update the matrices $W$ and $H$:\n",
    "\n",
    "\n",
    "$$ W \\leftarrow W \\ast   \\frac{(VH^T)}{(WHH^T)} $$\n",
    "\n",
    "$$ H \\leftarrow H \\ast \\frac{(W^TV)}{(W^TWH)} $$\n",
    "\n",
    "where $\\ast$ denotes element-wise multiplication. The division operation is element-wise and $AB$ denotes matrix multiplication between $A$ and $B$. \n",
    "\n",
    "To solve the non-negative matrix factorization problem we generally initialize matrices $W$ and $H$ randomly according to the required lower rank $k$ and then apply the update rules iteratively until convergence.\n"
   ]
  },
  {
   "cell_type": "code",
   "execution_count": 1,
   "metadata": {
    "collapsed": true,
    "nbgrader": {
     "grade": false,
     "grade_id": "cell-798121ad3962b8af",
     "locked": true,
     "schema_version": 1,
     "solution": false
    }
   },
   "outputs": [],
   "source": [
    "# Import libraries \n",
    "import numpy as np\n",
    "import numpy.linalg as LA\n"
   ]
  },
  {
   "cell_type": "code",
   "execution_count": 2,
   "metadata": {
    "collapsed": true,
    "nbgrader": {
     "grade": false,
     "grade_id": "cell-4aecfbd7efd9ddaf",
     "locked": true,
     "schema_version": 1,
     "solution": false
    }
   },
   "outputs": [],
   "source": [
    "# Base Function\n",
    "# You do not have to modify this\n",
    "\n",
    "def compute_NMF(V,W,H):\n",
    "    \"\"\"\n",
    "    Given the matrices V and randomly initialized W and H, this function calls the functions \n",
    "    for updates rules iteratively and returns the updated matrices W, H and the frobenius error.\n",
    "    \"\"\"\n",
    "\n",
    "    for i in range(50):\n",
    "        W = update_W(V,W,H)\n",
    "        H = update_H(V,W,H)\n",
    "\n",
    "    error= LA.norm(V - np.dot(W,H))\n",
    "\n",
    "    return W,H,error"
   ]
  },
  {
   "cell_type": "markdown",
   "metadata": {
    "nbgrader": {
     "grade": false,
     "grade_id": "cell-92f13f8cd8b3ba8f",
     "locked": true,
     "schema_version": 1,
     "solution": false
    }
   },
   "source": [
    "### Part 1 : Implement update rules for W"
   ]
  },
  {
   "cell_type": "code",
   "execution_count": 3,
   "metadata": {
    "collapsed": true,
    "nbgrader": {
     "grade": false,
     "grade_id": "Update_W",
     "locked": false,
     "schema_version": 1,
     "solution": true
    }
   },
   "outputs": [],
   "source": [
    "def update_W(V,W,H):\n",
    "    \"\"\"\n",
    "    Implement the update rules for W, given the matrices W, H and V\n",
    "    Parameters : Matrices V, W and H\n",
    "    Output: Matrix W with updated Values    \n",
    "    \"\"\"\n",
    "\n",
    "    \n",
    "    ### BEGIN SOLUTION\n",
    "    VH = V.dot(H.T)\n",
    "    WHtH = W.dot(H.dot(H.T))\n",
    "    W *= VH\n",
    "    W /= WHtH\n",
    "    ### END SOLUTION\n",
    "    \n",
    "    return W"
   ]
  },
  {
   "cell_type": "markdown",
   "metadata": {
    "nbgrader": {
     "grade": false,
     "grade_id": "cell-86d64db14882fefd",
     "locked": true,
     "schema_version": 1,
     "solution": false
    }
   },
   "source": [
    "### Part 2 : Implement update rules for H"
   ]
  },
  {
   "cell_type": "code",
   "execution_count": 8,
   "metadata": {
    "collapsed": true,
    "nbgrader": {
     "grade": false,
     "grade_id": "Update_H",
     "locked": false,
     "schema_version": 1,
     "solution": true
    }
   },
   "outputs": [],
   "source": [
    "def update_H(V,W,H):\n",
    "    \"\"\"\n",
    "    Implement the update rules for H, given the matrices W, H and V\n",
    "    Parameters : Matrices V, W and H\n",
    "    Output: Matrix H with updated Values\n",
    "    \n",
    "    \"\"\"\n",
    "    \n",
    "    \n",
    "    ### BEGIN SOLUTION\n",
    "    VtW = np.dot(W.T,V)\n",
    "    HWtW = np.dot(W.T.dot(W),H)\n",
    "    H *= VtW\n",
    "    H /= HWtW\n",
    "    ### END SOLUTION\n",
    "    \n",
    "    return H"
   ]
  },
  {
   "cell_type": "code",
   "execution_count": 9,
   "metadata": {
    "nbgrader": {
     "grade": true,
     "grade_id": "case_1",
     "locked": true,
     "points": 0,
     "schema_version": 1,
     "solution": false
    }
   },
   "outputs": [
    {
     "name": "stdout",
     "output_type": "stream",
     "text": [
      "Running base test case 1...\n",
      "\n",
      "Initial Frobenius Error: 6067.71604477\n",
      "Final Frobenius Error: 38.7679913414\n",
      "\n",
      "Base test case 1 successful!!\n"
     ]
    }
   ],
   "source": [
    "print(\"Running base test case 1...\\n\")\n",
    "V= np.array(  [[ 51.,  84.,  86.,  67.,  11.],\n",
    "               [ 57.,  37.,  62.,  87.,   6.],\n",
    "               [ 31.,  10.,  79.,  39.,  85.],\n",
    "               [ 84.,  59.,  46.,  80.,  36.],\n",
    "               [ 77.,  58.,  28.,  94.,  69.]])\n",
    "\n",
    "W = np.array( [[  5.,   8.,  19.],\n",
    "               [ 46.,   9.,  31.],\n",
    "               [ 19.,   2.,  14.],\n",
    "               [ 41.,  16.,   5.],\n",
    "               [ 20.,  38.,   6.]])\n",
    "\n",
    "H = np.array( [[ 34.,  34.,  43.,   3.,   6.],\n",
    "               [ 33.,  18.,  15.,  29.,   9.],\n",
    "               [  2.,  22.,   3.,   4.,   6.]])\n",
    "\n",
    "ans_W = np.array( [[ 0.08544129,  0.64652928,  3.38656155],\n",
    "                   [ 0.17424102,  0.9338013 ,  1.89953141],\n",
    "                   [ 2.30985524,  0.0704793 ,  0.14674537],\n",
    "                   [ 0.59893525,  1.35729956,  0.91280561],\n",
    "                   [ 1.13200231,  1.5201163 ,  0.01445199]])\n",
    "\n",
    "ans_H = np.array( [[  1.11310981e+01,   3.68721639e+00,   3.08251281e+01, 1.42221620e+01,   3.79139869e+01],\n",
    "                   [  4.66804619e+01,   3.05525948e+01,   1.64087722e+00, 5.09355415e+01,   1.11386279e+01],\n",
    "                   [  6.28131421e+00,   1.53952944e+01,   2.55431038e+01, 1.14672560e+01,   5.64956239e-09]])\n",
    "\n",
    "\n",
    "error= LA.norm(V-np.dot(W,H))\n",
    "print(\"Initial Frobenius Error: \" + str(error))\n",
    "W, H, error = compute_NMF(V,W,H)\n",
    "print(\"Final Frobenius Error: \" + str(error))\n",
    "\n",
    "assert LA.norm(W - ans_W) < 10**-5\n",
    "assert LA.norm(H - ans_H) < 10**-5\n",
    "\n",
    "print(\"\\nBase test case 1 successful!!\")"
   ]
  },
  {
   "cell_type": "code",
   "execution_count": 6,
   "metadata": {
    "nbgrader": {
     "grade": true,
     "grade_id": "case_2",
     "locked": true,
     "points": 0,
     "schema_version": 1,
     "solution": false
    }
   },
   "outputs": [
    {
     "name": "stdout",
     "output_type": "stream",
     "text": [
      "Running base test case 2...\n",
      "\n",
      "Initial Frobenius Error: 35195.0462423\n",
      "Final Frobenius Error: 97.4290913594\n",
      "\n",
      "Base test case 2 successful!!\n"
     ]
    }
   ],
   "source": [
    "print(\"Running base test case 2...\\n\")\n",
    "\n",
    "V= np.load('./inputs/V_2.npy')\n",
    "W= np.load('./inputs/W_2.npy')\n",
    "H= np.load('./inputs/H_2.npy')\n",
    "ans_W= np.load('./inputs/W_2_ans.npy')\n",
    "ans_H= np.load('./inputs/H_2_ans.npy')\n",
    "\n",
    "\n",
    "\n",
    "error= LA.norm(V-np.dot(W,H))\n",
    "print(\"Initial Frobenius Error: \" + str(error))\n",
    "W, H, error = compute_NMF(V,W,H)\n",
    "print(\"Final Frobenius Error: \" + str(error))\n",
    "\n",
    "assert LA.norm(W - ans_W) < 10**-5\n",
    "assert LA.norm(H - ans_H) < 10**-5\n",
    "\n",
    "print(\"\\nBase test case 2 successful!!\")"
   ]
  },
  {
   "cell_type": "code",
   "execution_count": 7,
   "metadata": {
    "nbgrader": {
     "grade": true,
     "grade_id": "case_3",
     "locked": true,
     "points": 6,
     "schema_version": 1,
     "solution": false
    }
   },
   "outputs": [
    {
     "name": "stdout",
     "output_type": "stream",
     "text": [
      "Running base test case 3...\n",
      "\n",
      "Initial Frobenius Error: 253525.880028\n",
      "Final Frobenius Error: 188.118488805\n",
      "\n",
      "Base test case 3 successful!!\n"
     ]
    }
   ],
   "source": [
    "# RUNNING HIDDEN TEST CASE\n",
    "### BEGIN HIDDEN TESTS\n",
    "print(\"Running base test case 3...\\n\")\n",
    "\n",
    "V= np.load('./inputs/V_3.npy')\n",
    "W= np.load('./inputs/W_3.npy')\n",
    "H= np.load('./inputs/H_3.npy')\n",
    "ans_W= np.load('./inputs/W_3_ans.npy')\n",
    "ans_H= np.load('./inputs/H_3_ans.npy')\n",
    "\n",
    "\n",
    "\n",
    "error= LA.norm(V-np.dot(W,H))\n",
    "print(\"Initial Frobenius Error: \" + str(error))\n",
    "W, H, error = compute_NMF(V,W,H)\n",
    "print(\"Final Frobenius Error: \" + str(error))\n",
    "\n",
    "assert LA.norm(W - ans_W) < 10**-5\n",
    "assert LA.norm(H - ans_H) < 10**-5\n",
    "print(\"\\nBase test case 3 successful!!\")\n",
    "### END HIDDEN TESTS"
   ]
  }
 ],
 "metadata": {
  "celltoolbar": "Create Assignment",
  "kernelspec": {
   "display_name": "Python 2",
   "language": "python",
   "name": "python2"
  },
  "language_info": {
   "codemirror_mode": {
    "name": "ipython",
    "version": 3
   },
   "file_extension": ".py",
   "mimetype": "text/x-python",
   "name": "python",
   "nbconvert_exporter": "python",
   "pygments_lexer": "ipython3",
   "version": "3.6.3"
  }
 },
 "nbformat": 4,
 "nbformat_minor": 1
}
