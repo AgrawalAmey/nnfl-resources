{
 "cells": [
  {
   "cell_type": "markdown",
   "metadata": {
    "nbgrader": {
     "grade": false,
     "grade_id": "cell-b33b915606011135",
     "locked": true,
     "schema_version": 1,
     "solution": false
    }
   },
   "source": [
    "# 3. Nearest Redi Problem\n",
    "### Marks : 8\n",
    "In a hypothetical $n$-dimensional universe, there exists $p$ population of a particular species of human, Homo BITSians. These species like to hangout in specialized eateries, called Redi. In this universe, there are $q$ Redis which serve delicious snacks and beverages at nominal prices. Our task is to find the nearest Redi from each of the Homo BITSians so that they spend less time on commuting. Another part of the probelem is to give the number of Redis inside a radius of $r$ metres from each Homo BITSians which will help them to hangout in as many Redis as possible.\n",
    "### Problem :\n",
    "Matrices, $X \\in p \\times n$ and $Y \\in q \\times n$, which has the co-ordinates of $p$ Homo BITSians and $q$ Redis respectively in the $n$-dimensional universe are given. The $i^{th}$ row in the matrix, $X$, corresponds to the $i^{th}$ Homo BITSian. Similarly, the $i^{th}$ row in the matrix, $Y$, corresponds to the $i^{th}$ Redi.\n",
    "\n",
    "**Note**: Here, row numbering (indexing) starts from $0$.\n",
    "### Task:\n",
    "In this question there are two tasks which need to completed :\n",
    "1. Given $X$, $Y$, find a vector, $V$, of length $p$. The vector, $V$, is such that the $i^{th}$ element of $V$ has the index of the nearest Redi from the $i^{th}$ Homo BITSian.\n",
    "\n",
    "2. Given $X$, $Y$ and $r$, find a vector, $W$, of length $p$. The vector, $W$, is such that the $i^{th}$ element of $W$ has the number of Redis inside a radius of $r$ (strictly less than), centered at the $i^{th}$ Homo BITSian.\n",
    "\n",
    "\n",
    "Distance metric is the usual $l_2$-norm.\n",
    "In a n-dimensional space with points $x = (x_0, x_0, \\ldots, x_{n-1})$ and $y = (y_0, y_0, \\ldots, y_{n-1})$, the distance can be calculated as:\n",
    "\n",
    "$$D_{xy}^2 = (x_0 - y_0)^2 \n",
    "+ (x_1 - y_1)^2 + \\ldots + (x_{n-1} - y_{n-1})^2$$"
   ]
  },
  {
   "cell_type": "code",
   "execution_count": 27,
   "metadata": {
    "collapsed": true,
    "nbgrader": {
     "grade": false,
     "grade_id": "cell-d5d19853f92009d9",
     "locked": true,
     "schema_version": 1,
     "solution": false
    }
   },
   "outputs": [],
   "source": [
    "import numpy as np"
   ]
  },
  {
   "cell_type": "markdown",
   "metadata": {
    "nbgrader": {
     "grade": false,
     "grade_id": "cell-1cabb5fad0128a8a",
     "locked": true,
     "schema_version": 1,
     "solution": false
    }
   },
   "source": [
    "### Part 1: Find the index of the nearest Redi from each Homo BITSian"
   ]
  },
  {
   "cell_type": "code",
   "execution_count": 28,
   "metadata": {
    "collapsed": true,
    "nbgrader": {
     "grade": false,
     "grade_id": "distances",
     "locked": false,
     "schema_version": 1,
     "solution": true
    }
   },
   "outputs": [],
   "source": [
    "# Base Distance Function to be completed by the student\n",
    "\n",
    "def distances(X,Y):\n",
    "    \"\"\"\n",
    "    Given matrices X and Y, the function returns a distance matrix. \n",
    "    The (i,j)th element of the matrix contains the distance of jth Redi \n",
    "    from the ith Homo BITSian.\n",
    "    \n",
    "    Parameters: X,Y\n",
    "    Returns: D\n",
    "    \"\"\"\n",
    "    \n",
    "    ### BEGIN SOLUTION\n",
    "    diff = X.reshape(X.shape[0], 1, X.shape[1]) - Y\n",
    "    D_squared = np.sum(np.square(diff), axis=2)\n",
    "    D = np.sqrt(D_squared)\n",
    "    ### END SOLUTION\n",
    "    \n",
    "    return D"
   ]
  },
  {
   "cell_type": "code",
   "execution_count": 29,
   "metadata": {
    "collapsed": true,
    "nbgrader": {
     "grade": false,
     "grade_id": "nearest_redi",
     "locked": false,
     "schema_version": 1,
     "solution": true
    }
   },
   "outputs": [],
   "source": [
    "def nearest_redi(X,Y):\n",
    "    \"\"\"\n",
    "    Given matrices X and Y, the function returns a nearest redi vector. \n",
    "    The i-th element of the vector contains the index of nearest Redi \n",
    "    from the ith Homo BITSian.\n",
    "    \n",
    "    Parameters: X,Y\n",
    "    Returns: V\n",
    "    \"\"\"\n",
    "    \n",
    "    D = distances(X,Y)\n",
    "    \n",
    "    ### BEGIN SOLUTION\n",
    "    V = np.argmin(D,1)\n",
    "    ### END SOLUTION\n",
    "    \n",
    "    return V"
   ]
  },
  {
   "cell_type": "code",
   "execution_count": 30,
   "metadata": {
    "nbgrader": {
     "grade": true,
     "grade_id": "visible-task1",
     "locked": true,
     "points": 0,
     "schema_version": 1,
     "solution": false
    }
   },
   "outputs": [
    {
     "name": "stdout",
     "output_type": "stream",
     "text": [
      "Running base test case 1...\n",
      "Base test case 1 successful!!\n",
      "\n",
      "Running base test case 2...\n",
      "Base test case 2 successful!!\n",
      "\n"
     ]
    }
   ],
   "source": [
    "print(\"Running base test case 1...\")\n",
    "\n",
    "X_test1 = np.array([[-3.,  4.],\n",
    "                    [ 4., -2.],\n",
    "                    [-1.,  0.]])\n",
    "\n",
    "Y_test1 = np.array([[-3.,  0.],\n",
    "                    [-3., -3.]])\n",
    "\n",
    "V_test1 = nearest_redi(X_test1, Y_test1)\n",
    "V_ans_test1 = np.array([0, 1, 0])\n",
    "\n",
    "assert np.array_equal(V_test1, V_ans_test1)\n",
    "\n",
    "print(\"Base test case 1 successful!!\\n\")\n",
    "\n",
    "\n",
    "\n",
    "print(\"Running base test case 2...\")\n",
    "\n",
    "X_test2 = np.array([[ 0.08170274, -4.8955951 , -4.0473417 ],\n",
    "                    [-1.13259313,  4.38171415, -3.22068891]])\n",
    "\n",
    "Y_test2 = np.array([[ 3.79010736,  1.70042849, -3.06603884],\n",
    "                    [ 3.8921235 , -1.85207272,  2.33340715],\n",
    "                    [ 1.67360485,  2.11437547,  0.87529999]])\n",
    "\n",
    "V_test2 = nearest_redi(X_test2, Y_test2)\n",
    "V_ans_test2 = np.array([0, 2])\n",
    "\n",
    "assert np.array_equal(V_test2, V_ans_test2)\n",
    "\n",
    "print(\"Base test case 2 successful!!\\n\")"
   ]
  },
  {
   "cell_type": "code",
   "execution_count": 31,
   "metadata": {
    "collapsed": true,
    "nbgrader": {
     "grade": true,
     "grade_id": "hidden-task1",
     "locked": true,
     "points": 5,
     "schema_version": 1,
     "solution": false
    }
   },
   "outputs": [],
   "source": [
    "# Running hidden test case for Part 1. Don't edit the cell.                                     *** 5 marks ***\n",
    "### BEGIN HIDDEN TESTS\n",
    "X = np.array([[ 0.27170746,  0.89441607,  0.64849028],\n",
    "              [ 0.42296173,  0.54342876,  0.47889235],\n",
    "              [ 0.48688657,  0.11082849,  0.10691689],\n",
    "              [ 0.04419385,  0.68777309,  0.49437059],\n",
    "              [ 0.70143641,  0.09964604,  0.20949214],\n",
    "              [ 0.01725016,  0.37424641,  0.94070338]])\n",
    "\n",
    "Y = np.array([[ 0.24232741,  0.08413896,  0.014919  ],\n",
    "              [ 0.15801316,  0.31713579,  0.0416702 ],\n",
    "              [ 0.15784176,  0.50998073,  0.45405793],\n",
    "              [ 0.44382259,  0.44515729,  0.49186482],\n",
    "              [ 0.00695024,  0.23603969,  0.77601819]])\n",
    "\n",
    "V = nearest_redi(X,Y)\n",
    "V_ans = np.array([2, 3, 0, 2, 0, 4])\n",
    "\n",
    "assert np.array_equal(V, V_ans)\n",
    "### END HIDDEN TESTS"
   ]
  },
  {
   "cell_type": "markdown",
   "metadata": {
    "nbgrader": {
     "grade": false,
     "grade_id": "cell-382db5af9c26c68e",
     "locked": true,
     "schema_version": 1,
     "solution": false
    }
   },
   "source": [
    "### Part 2: Find the number of Redis inside a radius of $r$ from each Homo BITSian"
   ]
  },
  {
   "cell_type": "code",
   "execution_count": 32,
   "metadata": {
    "collapsed": true,
    "nbgrader": {
     "grade": false,
     "grade_id": "num_redis",
     "locked": false,
     "schema_version": 1,
     "solution": true
    }
   },
   "outputs": [],
   "source": [
    "def num_redis(X,Y,r):\n",
    "    \"\"\"\n",
    "    Given matrices X and Y, the function returns a vector, where the i-th element \n",
    "    of the vector contains the number of Redis inside a radius of r,\n",
    "    centered at the i-th Homo BITSian.\n",
    "    \n",
    "    Parameters: X,Y,r\n",
    "    Returns: W\n",
    "    \"\"\"\n",
    "    \n",
    "    D = distances(X,Y)\n",
    "    \n",
    "    ### BEGIN SOLUTION\n",
    "    bool_less_r = D < r\n",
    "    W = np.sum(bool_less_r, axis = 1)\n",
    "    ### END SOLUTION\n",
    "    \n",
    "    return W"
   ]
  },
  {
   "cell_type": "code",
   "execution_count": 33,
   "metadata": {
    "nbgrader": {
     "grade": true,
     "grade_id": "visible-task2",
     "locked": true,
     "points": 0,
     "schema_version": 1,
     "solution": false
    }
   },
   "outputs": [
    {
     "name": "stdout",
     "output_type": "stream",
     "text": [
      "Running base test case 1...\n",
      "Base test case 1 successful!!\n",
      "\n",
      "Running base test case 2...\n",
      "Base test case 2 successful!!\n",
      "\n"
     ]
    }
   ],
   "source": [
    "print(\"Running base test case 1...\")\n",
    "\n",
    "W_test1 = num_redis(X_test1, Y_test1, 5.)\n",
    "W_ans_test1 = np.array([1, 0, 2])\n",
    "\n",
    "assert np.array_equal(W_test1, W_ans_test1)\n",
    "\n",
    "print(\"Base test case 1 successful!!\\n\")\n",
    "\n",
    "\n",
    "\n",
    "print(\"Running base test case 2...\")\n",
    "\n",
    "W_test2 = num_redis(X_test2, Y_test2, 8.)\n",
    "W_ans_test2 = np.array([1, 2])\n",
    "\n",
    "assert np.array_equal(W_test2, W_ans_test2)\n",
    "\n",
    "print(\"Base test case 2 successful!!\\n\")"
   ]
  },
  {
   "cell_type": "code",
   "execution_count": 36,
   "metadata": {
    "collapsed": true,
    "nbgrader": {
     "grade": true,
     "grade_id": "hidden_task2",
     "locked": true,
     "points": 3,
     "schema_version": 1,
     "solution": false
    }
   },
   "outputs": [],
   "source": [
    "# Running hidden test case for Part 2. Don't edit the cell.                                     *** 3 marks ***\n",
    "### BEGIN HIDDEN TESTS\n",
    "\n",
    "W = num_redis(X,Y, 0.7)\n",
    "W_ans = np.array([2, 5, 4, 4, 3, 3])\n",
    "\n",
    "assert np.array_equal(W, W_ans)\n",
    "\n",
    "### END HIDDEN TESTS"
   ]
  }
 ],
 "metadata": {
  "celltoolbar": "Create Assignment",
  "kernelspec": {
   "display_name": "Python 3",
   "language": "python",
   "name": "python3"
  },
  "language_info": {
   "codemirror_mode": {
    "name": "ipython",
    "version": 3
   },
   "file_extension": ".py",
   "mimetype": "text/x-python",
   "name": "python",
   "nbconvert_exporter": "python",
   "pygments_lexer": "ipython3",
   "version": "3.6.3"
  }
 },
 "nbformat": 4,
 "nbformat_minor": 2
}
