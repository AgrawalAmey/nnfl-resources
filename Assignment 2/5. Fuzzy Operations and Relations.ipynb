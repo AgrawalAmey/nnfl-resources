{
 "cells": [
  {
   "cell_type": "code",
   "execution_count": 1,
   "metadata": {
    "collapsed": true,
    "deletable": true,
    "editable": true
   },
   "outputs": [],
   "source": [
    "import numpy as np"
   ]
  },
  {
   "cell_type": "code",
   "execution_count": 51,
   "metadata": {
    "collapsed": false,
    "deletable": true,
    "editable": true
   },
   "outputs": [
    {
     "name": "stdout",
     "output_type": "stream",
     "text": [
      "{ 1/0.01 }\n"
     ]
    }
   ],
   "source": [
    "# Helper function to print a fuzzy membership function\n",
    "# The function prints the membership function in the following way:-\n",
    "# { 0.1/1 0.2/2 0.3/3 }\n",
    "\n",
    "def print_fuzzy(D):\n",
    "    print('{ ', end='')\n",
    "    for keys in D.keys():\n",
    "        print(keys + \" \" + D[keys], end='')\n",
    "    print('}')   "
   ]
  },
  {
   "cell_type": "markdown",
   "metadata": {
    "deletable": true,
    "editable": true
   },
   "source": [
    "## 1. Bold Intersection\n",
    "\n",
    "Bold Intersection is defined as:-  \n",
    "µAoB(x) = Max [0, µA(x) + µB(x) - 1]\n",
    "\n",
    "### Question 1: \n",
    "Compute AoB, where   \n",
    "A = { 0.4/1, 0.9/2, 0.9/3, 1/4 }  \n",
    "B = { 0.9/1, 0.5/2, 0.8/3  }  \n",
    "X = {1, 2, 3, 4} Universe of Discourse"
   ]
  },
  {
   "cell_type": "code",
   "execution_count": 3,
   "metadata": {
    "collapsed": false,
    "deletable": true,
    "editable": true
   },
   "outputs": [
    {
     "ename": "SyntaxError",
     "evalue": "invalid syntax (<ipython-input-3-89f9489c0816>, line 1)",
     "output_type": "error",
     "traceback": [
      "\u001b[1;36m  File \u001b[1;32m\"<ipython-input-3-89f9489c0816>\"\u001b[1;36m, line \u001b[1;32m1\u001b[0m\n\u001b[1;33m    def fuzzy_bold_union(A,B)\u001b[0m\n\u001b[1;37m                             ^\u001b[0m\n\u001b[1;31mSyntaxError\u001b[0m\u001b[1;31m:\u001b[0m invalid syntax\n"
     ]
    }
   ],
   "source": [
    "def fuzzy_bold_intersection(A,B):\n",
    "    # A and B are dictionaries whose keys are integers and whose values are the degrees of membership of the integers.\n",
    "    # Compute the Bold Intersection of A and B store it in a new dictionary fuzz_bu.\n",
    "    return fuzz_bu\n",
    "\n",
    "# Create dictionary A\n",
    "\n",
    "# Create dictionary B\n",
    "\n",
    "print_fuzzy(fuzzy_bold_intersection(A,B))"
   ]
  },
  {
   "cell_type": "markdown",
   "metadata": {
    "deletable": true,
    "editable": true
   },
   "source": [
    "## 2. Complement\n",
    "\n",
    "Complement is defined as:-  \n",
    "µA’(x) =  [1 - µA(x) ], x belongs to X,  \n",
    "where X is the Universe of Discourse\n",
    "\n",
    "### Question 2:  \n",
    "Compute C complement  \n",
    "C = { 0.2/1, 0.9/3, 0.5/4 }  \n",
    "X = {1, 2, 3, 4} Universe of Discourse\n",
    "\n"
   ]
  },
  {
   "cell_type": "code",
   "execution_count": 5,
   "metadata": {
    "collapsed": false,
    "deletable": true,
    "editable": true
   },
   "outputs": [
    {
     "ename": "SyntaxError",
     "evalue": "invalid syntax (<ipython-input-5-75e3f15c4e76>, line 1)",
     "output_type": "error",
     "traceback": [
      "\u001b[1;36m  File \u001b[1;32m\"<ipython-input-5-75e3f15c4e76>\"\u001b[1;36m, line \u001b[1;32m1\u001b[0m\n\u001b[1;33m    def fuzzy_complement(A)\u001b[0m\n\u001b[1;37m                           ^\u001b[0m\n\u001b[1;31mSyntaxError\u001b[0m\u001b[1;31m:\u001b[0m invalid syntax\n"
     ]
    }
   ],
   "source": [
    "def fuzzy_complement(C):\n",
    "    # C is a dictionary whose keys are integers and whose values are the degrees of membership of the integers.\n",
    "    # Compute the Complement of C store it in a new dictionary fuzz_comp.\n",
    "    return fuzz_comp\n",
    "\n",
    "# Create fuzzy set C\n",
    "\n",
    "print_fuzzy(fuzzy_complement(C))"
   ]
  },
  {
   "cell_type": "markdown",
   "metadata": {
    "deletable": true,
    "editable": true
   },
   "source": [
    "## 3. Addition\n",
    "\n",
    "+ Consider all possible pairs (x,y) such that x belongs to A and y belongs to B. \n",
    "+ Each pair gives rise to a new element in the set(A+B) whose value is (x+y) and corresponding membership degree is min(µA(x), µB(y)). \n",
    "+ Next eliminate all the repeating values in the set(A+B) by picking the maximum membership degree among all membership degrees for a particular value.  \n",
    "\n",
    "Here is an example:-\n",
    "\n",
    "A = 0.3/1 + 0.6/2 + 1/3 + 0.7/4 + 0.2/5  \n",
    "B = 0.5/10 + 1/11 + 0.5/12\n",
    "\n",
    "(A + B) = 0.3/11 + 0.5/12 + 0.5/13 + 0.5/14 + 0.2/15 + 0.3/12 + 0.6/13+1/14 + 0.7/15 + 0.2/16 + 0.3/13 + 0.5/14 + 0.5/15 + 0.5/16 + 0.2/17  \n",
    "\n",
    "Get the max of the duplicates, so we get,  \n",
    "(A + B) = (0.3/11) + 0.5/12 + 0.6/13 + 1/14 + 0.7/15 + 0.5/16 + 0.2/17\n",
    "\n",
    "## 4. Addition Modified:-\n",
    "\n",
    "Define a function 'fuzzy_add_mod' which takes in 3 membership functions A,B and C.  \n",
    "Modified add is defined as follows:-  \n",
    "µ(A,B,C) =  µ(AoB) +  µC'\n",
    "\n",
    "### Question 3: \n",
    "Compute Add_modified(A,B,C)   \n",
    "Use A,B and C from questions 1 and 2\n"
   ]
  },
  {
   "cell_type": "code",
   "execution_count": 4,
   "metadata": {
    "collapsed": false,
    "deletable": true,
    "editable": true
   },
   "outputs": [
    {
     "ename": "SyntaxError",
     "evalue": "invalid syntax (<ipython-input-4-19c9a4360142>, line 1)",
     "output_type": "error",
     "traceback": [
      "\u001b[1;36m  File \u001b[1;32m\"<ipython-input-4-19c9a4360142>\"\u001b[1;36m, line \u001b[1;32m1\u001b[0m\n\u001b[1;33m    def fuzzy_add(A,B)\u001b[0m\n\u001b[1;37m                      ^\u001b[0m\n\u001b[1;31mSyntaxError\u001b[0m\u001b[1;31m:\u001b[0m invalid syntax\n"
     ]
    }
   ],
   "source": [
    "def fuzzy_add_mod(A,B,C):\n",
    "    # A,B and C are dictionaries whose keys are integers and whose values are the degrees of membership of the integers.\n",
    "    # Compute the Modified Sum of A, B and C and store it in a new dictionary fuzz_sum.\n",
    "    return fuzz_sum \n",
    "    \n",
    "# Create fuzzy set A\n",
    "\n",
    "# Create fuzzy set B\n",
    "\n",
    "# Create fuzzy set C\n",
    "\n",
    "\n",
    "print_fuzzy(fuzzy_add_mod(A,B,C))"
   ]
  },
  {
   "cell_type": "markdown",
   "metadata": {},
   "source": [
    "# 4. Fuzzy Relations\n",
    "\n",
    "Let's define a fuzzy relation for the statement, \"If test is tough, marks are scored\".\n",
    "\n",
    "We can have 2 fuzzy sets for toughness of a test and scores in the test. Assume toughness on a scale of 1 to 5 and marks from 0 to 10.\n",
    "\n",
    "A = 0.3/1 + 0.4/2 + 0.7/3 + 0.5/4 + 0.2/5\n",
    "\n",
    "B = 0.1/0 + 0.3/1 + 0.5/2 + 0.7/3 + 0.8/4 + 0.9/5 + 0.8/6 + 0.7/7 + 0.5/8 + 0.3/9 + 0.1/10\n",
    "\n",
    "The fuzzy relation can be calculated by computing the minimum of µA(x) and µB(y) for each µR(x, y). This would give us:\n",
    "\n",
    "µR(x, y) = [ 0.1  0.3  0.3  0.3  0.3  0.3  0.3  0.3  0.3  0.3  0.1   \n",
    "&nbsp;&nbsp;&nbsp;&nbsp;&nbsp;&nbsp;&nbsp;&nbsp;&nbsp;&nbsp;&nbsp;&nbsp;&nbsp;&nbsp;&nbsp;&nbsp;&nbsp;&nbsp;&nbsp;0.1  0.3  0.4  0.4  0.4  0.4  0.4  0.4  0.4  0.3  0.1   \n",
    "&nbsp;&nbsp;&nbsp;&nbsp;&nbsp;&nbsp;&nbsp;&nbsp;&nbsp;&nbsp;&nbsp;&nbsp;&nbsp;&nbsp;&nbsp;&nbsp;&nbsp;&nbsp;&nbsp;0.1  0.3  0.5  0.7  0.7  0.7  0.7  0.7  0.5  0.3  0.1   \n",
    "&nbsp;&nbsp;&nbsp;&nbsp;&nbsp;&nbsp;&nbsp;&nbsp;&nbsp;&nbsp;&nbsp;&nbsp;&nbsp;&nbsp;&nbsp;&nbsp;&nbsp;&nbsp;&nbsp;0.1  0.3  0.5  0.5  0.5  0.5  0.5  0.5  0.5  0.3  0.1   \n",
    "&nbsp;&nbsp;&nbsp;&nbsp;&nbsp;&nbsp;&nbsp;&nbsp;&nbsp;&nbsp;&nbsp;&nbsp;&nbsp;&nbsp;&nbsp;&nbsp;&nbsp;&nbsp;&nbsp;0.1  0.2  0.2  0.2  0.2  0.2  0.2  0.2  0.2  0.2  0.1 ]\n",
    "             "
   ]
  },
  {
   "cell_type": "code",
   "execution_count": null,
   "metadata": {
    "collapsed": true
   },
   "outputs": [],
   "source": [
    "def fuzzy_if(A, B):\n",
    "    # A and B are dictionaries whose keys are integers and whose values are the degrees of membership of the integers.\n",
    "    # Compute the fuzzy relation of A and B and store it in a new matrix fuzz_rel.\n",
    "    return fuzz_rel\n",
    "    \n",
    "# Create fuzzy set A for toughness\n",
    "\n",
    "# Create fuzzy set B for scores\n",
    "\n",
    "\n",
    "print(fuzzy_if(A, B))"
   ]
  },
  {
   "cell_type": "markdown",
   "metadata": {},
   "source": [
    "### Composite relation\n",
    " We can define another to relate toughness with the preparedness for the test.\n",
    " \n",
    " Let preparedness be on a scale of 1 to 5:\n",
    " \n",
    " C = 0.2/1 + 0.3/2 + 0.5/3 + 0.7/4 + 0.2/5\n",
    " \n",
    " We can now define two relations from A to B and from B to C to relate A to C. We will use the min-max method to do the same."
   ]
  },
  {
   "cell_type": "code",
   "execution_count": null,
   "metadata": {
    "collapsed": true,
    "deletable": true,
    "editable": true
   },
   "outputs": [],
   "source": [
    "def fuzzy_comp(A, B):\n",
    "    # A and B are relations.\n",
    "    # Compute the fuzzy composition of A and B and store it in a new matrix fuzz_rel.\n",
    "    return fuzz_rel\n",
    "    \n",
    "# Create fuzzy set C for preparedness\n",
    "\n",
    "# Create fuzzy relation R1 for toughness to scores\n",
    "\n",
    "# Create fuzzy relation R2 for scores to preparedness\n",
    "\n",
    "\n",
    "print(fuzzy_comp(R1, R2))"
   ]
  }
 ],
 "metadata": {
  "kernelspec": {
   "display_name": "Python 3",
   "language": "python",
   "name": "python3"
  },
  "language_info": {
   "codemirror_mode": {
    "name": "ipython",
    "version": 3
   },
   "file_extension": ".py",
   "mimetype": "text/x-python",
   "name": "python",
   "nbconvert_exporter": "python",
   "pygments_lexer": "ipython3",
   "version": "3.5.1"
  }
 },
 "nbformat": 4,
 "nbformat_minor": 0
}
