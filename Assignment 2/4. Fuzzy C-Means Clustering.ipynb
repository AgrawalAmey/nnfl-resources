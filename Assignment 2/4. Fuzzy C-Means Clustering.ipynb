{
 "cells": [
  {
   "cell_type": "markdown",
   "metadata": {},
   "source": [
    "# Fuzzy C-Means Clustering\n",
    "\n",
    "Similar to K-Means, Fuzzy C-Means organises items into groups based on a similarity criteria. However, unlike K-Means, each item may belong to more than one group (hence the word fuzzy), where the degree of membership for each item is given by a probability distribution over the clusters.\n",
    "\n",
    "The goal of this algorithm is to minimize the objective function $J$ in each iteration. Here $N$ is the number of data points, $C$ is the number of clusters required, $c_j$ is the centre vector for cluster $j$, and $\\delta_{ij}$ is the degree of membership for the $i$th data point $x_i$ in cluster $j$. The norm,  $\\Vert x_i - c_j \\Vert$ is the standard Euclidian distance metric $ \\sqrt{(x_{i,1} - c_{j,1})^2 + (x_{i,2} - c_{j,2})^2 + \\cdots} $.\n",
    "\n",
    "$$ J = \\sum_{i=1}^N \\sum_{j=1}^C \\delta_{ij} \\Vert x_i - c_j \\Vert ^2 $$\n",
    "\n",
    "Note that, in each iteration, the algorithm maintains a centre vector $c_j$ for each of the clusters. These centres are calculated as the weighted average of the data-points, where the weights are given by the degrees of membership. $m$ is the fuzziness coefficient which determines the amount of overlap between clusters. A higher value of $m$ implies greater overlap. The degree of membership $\\delta{ij}$ and the centres $c_j$ are calculated as follows:\n",
    "\n",
    "$$ \\delta{ij} = \\frac{1}{ \\sum_{k=1}^{C} \\left(\\left\\Vert \\frac{x_i - c_j}{x_i - c_k} \\right\\Vert\\right)^{\\frac{2}{m-1}} }   $$\n",
    "\n",
    "$$ c_j = \\frac{ \\sum_{i=1}^{N} \\delta_{ij}^m \\cdot x_i }{ \\sum_{i=1}^{N} \\delta_{ij}^m }  $$\n",
    "\n",
    "At the start of the algorithm, the degree of membership for data point $i$ to cluster $j$ is initialised\n",
    "with a random value $\\theta_{ij}$ , 0 $\\leq$ $\\theta_{ij}$ $\\leq$ 1, such that $ \\sum_{j}^C \\delta_{ij} = 1 $\n",
    "\n",
    "\n",
    "Convince yourself that you did something similar in K-Means, although implicitly. As an analogy, replace $C$ with $K$, and $\\delta_{ij}$ with 1 or 0 depending on whether a given data point $x_i$ belongs to cluster $j$. You will soon realize that minimizing $J$ is nothing but updating the clusters $c_j$ with the mean of their corresponding data points.\n",
    "\n",
    "All the math may seem to be complicated, but you should be able to cope up with a bit of practice. We'll use the same accelerometer dataset from the previous notebook and try to cluster using Fuzzy C-Means."
   ]
  },
  {
   "cell_type": "code",
   "execution_count": 107,
   "metadata": {
    "collapsed": true
   },
   "outputs": [],
   "source": [
    "# Customary Imports\n",
    "import numpy as np\n",
    "import matplotlib.pyplot as plt\n",
    "% matplotlib inline\n",
    "# A thing of beauty is a joy forever\n",
    "import seaborn as sns\n",
    "sns.set()\n",
    "sns.set_palette(\"husl\")"
   ]
  },
  {
   "cell_type": "markdown",
   "metadata": {},
   "source": [
    "Let's start with the algorithm. We'll first set some constants and load the data points."
   ]
  },
  {
   "cell_type": "code",
   "execution_count": 108,
   "metadata": {
    "collapsed": true
   },
   "outputs": [],
   "source": [
    "C = 4 # We need 4 clusters\n",
    "m = 2 # This is arbitrary\n",
    "data = np.load('data/acc.npy')"
   ]
  },
  {
   "cell_type": "markdown",
   "metadata": {},
   "source": [
    "Next, let's assign membership values to each data point. Keep in mind that for every data point, the memberships should add up to 1.  \n",
    "Complete the function below\n",
    "\n",
    "## Task 1"
   ]
  },
  {
   "cell_type": "code",
   "execution_count": 109,
   "metadata": {
    "collapsed": true
   },
   "outputs": [],
   "source": [
    "def initialize_memberships(data, C):\n",
    "    \"\"\"Returns an NxC array of randomly assigned memberships.\"\"\"\n",
    "    N, _ = data.shape\n",
    "    # Your code here\n",
    "    return False  "
   ]
  },
  {
   "cell_type": "markdown",
   "metadata": {},
   "source": [
    "Once we have the initial memberships, we update the centres. Complete the function below\n",
    "\n",
    "## Task 2"
   ]
  },
  {
   "cell_type": "code",
   "execution_count": 110,
   "metadata": {
    "collapsed": true
   },
   "outputs": [],
   "source": [
    "def update_centres(data, memberships, m):\n",
    "    \"\"\"Returns new centres from given data points and memberships.\"\"\"\n",
    "    # Your code here\n",
    "    return False"
   ]
  },
  {
   "cell_type": "markdown",
   "metadata": {},
   "source": [
    "As in K-Means, we would need to calculate distances from each centre. Complete the function below.\n",
    "\n",
    "## Task 3"
   ]
  },
  {
   "cell_type": "code",
   "execution_count": 111,
   "metadata": {
    "collapsed": true
   },
   "outputs": [],
   "source": [
    "def get_distances(data, centres):\n",
    "    \"\"\"Returns distances between each point and every centre.\"\"\"\n",
    "    # Your code here\n",
    "    return False"
   ]
  },
  {
   "cell_type": "markdown",
   "metadata": {},
   "source": [
    "You can now make good use of `get_distances` to finally calculate the updated memberships. Complete the function below. \n",
    "\n",
    "## Task 4"
   ]
  },
  {
   "cell_type": "code",
   "execution_count": 112,
   "metadata": {
    "collapsed": true
   },
   "outputs": [],
   "source": [
    "def update_memberships(data, centres, m):\n",
    "    \"\"\"Update the memberships according to new centres.\"\"\"\n",
    "    distances = get_distances(data, centres)\n",
    "    # Your code here\n",
    "    return False"
   ]
  },
  {
   "cell_type": "markdown",
   "metadata": {},
   "source": [
    "Now that all's set, the only thing left is the termination criteria. Complete the function below.\n",
    "\n",
    "## Task 5"
   ]
  },
  {
   "cell_type": "code",
   "execution_count": 130,
   "metadata": {
    "collapsed": true
   },
   "outputs": [],
   "source": [
    "def fcmeans(data, C, m):\n",
    "    \"\"\"The Fuzzy C-Means algorithm.\"\"\"\n",
    "    memberships = initialize_memberships(data, C)\n",
    "    initial_centres = update_centres(data, memberships, m)\n",
    "    # Your code here\n",
    "\n",
    "    while True: # Check for convergence here\n",
    "\n",
    "        centres = update_centres(data, memberships, m)\n",
    "        memberships = update_memberships(data, centres, m)\n",
    "    return memberships, centres, initial_centres"
   ]
  },
  {
   "cell_type": "markdown",
   "metadata": {},
   "source": [
    "## Showtime"
   ]
  },
  {
   "cell_type": "code",
   "execution_count": 221,
   "metadata": {},
   "outputs": [
    {
     "data": {
      "image/png": "[encoded data removed]",
      "text/plain": [
       "<matplotlib.figure.Figure at 0x7f891e2240b8>"
      ]
     },
     "metadata": {},
     "output_type": "display_data"
    }
   ],
   "source": [
    "C = 4\n",
    "m = 2\n",
    "data = np.load('data/acc.npy')\n",
    "\n",
    "memberships, centres, initial_centres = fcmeans(data, C, m)\n",
    "\n",
    "plt.subplot(121)\n",
    "plt.scatter(data[:, 0], data[:, 1])\n",
    "plt.scatter(initial_centres[:, 0], initial_centres[:, 1], c='r', s=100)\n",
    "plt.subplot(122)\n",
    "plt.scatter(data[:, 0], data[:, 1], c=memberships.argmax(axis=1))\n",
    "plt.scatter(centres[:, 0], centres[:, 1], c='r', s=100)\n",
    "plt.show()"
   ]
  },
  {
   "cell_type": "markdown",
   "metadata": {},
   "source": [
    "Try running the cell above multiple times. Do you notice that the clusters are perfect everytime? Does K-Means show the same results? everytime?"
   ]
  }
 ],
 "metadata": {
  "kernelspec": {
   "display_name": "Python 3",
   "language": "python",
   "name": "python3"
  },
  "language_info": {
   "codemirror_mode": {
    "name": "ipython",
    "version": 3
   },
   "file_extension": ".py",
   "mimetype": "text/x-python",
   "name": "python",
   "nbconvert_exporter": "python",
   "pygments_lexer": "ipython3",
   "version": "3.5.2"
  }
 },
 "nbformat": 4,
 "nbformat_minor": 2
}
