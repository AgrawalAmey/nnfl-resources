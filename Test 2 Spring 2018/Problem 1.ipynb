{
 "cells": [
  {
   "cell_type": "markdown",
   "metadata": {
    "deletable": false,
    "editable": false,
    "nbgrader": {
     "checksum": "cb7f0bcb3c5d967fef3f0763dccfd0ee",
     "grade": false,
     "grade_id": "cell-7064cd59bad4ebf2",
     "locked": true,
     "schema_version": 1,
     "solution": false
    }
   },
   "source": [
    "# Fraud Detection Algorithm for Banks\n",
    "\n",
    "As a data scientist at JPMorgan Chase & Co., you have been asked to design a fraud detection algorithm for identifying the cases of fraud in the bank database. \n",
    "You decide to use the Mamdani fuzzy inference process for the same. \n",
    "\n",
    "**Input parameters:**\n",
    "\n",
    "- Age of the account-holder\n",
    "- Salary of the account-holder\n",
    "- Pending Loan-Amount of the account holder\n",
    "\n",
    "**Output parameters:**\n",
    "\n",
    "- Probability of the current case being a fraud \n",
    "\n",
    "The definition for all the variables and their classes are as follows:\n",
    "\n",
    "* Age of the account-holder\n",
    "   - Young\n",
    "   - Middle-aged \n",
    "   - Old-age\n",
    "   \n",
    "* Salary of the account-holder\n",
    "   - Low salary range \n",
    "   - Medium salary range \n",
    "   - High salary range \n",
    "   \n",
    "* Pending loan amount of the account holder\n",
    "   - Low amount \n",
    "   - Medium amount \n",
    "   - High amount\n",
    "   \n",
    "* Fraud probability\n",
    "   - Low probability \n",
    "   - Medium probability \n",
    "   - High probability \n",
    "   \n",
    "The rules which are to be used for inference are as follows:\n",
    "\n",
    "```\n",
    "1. IF age==high AND salary==low THEN probability of fraud=high\n",
    "2. IF age==low AND salary==high THEN probability of fraud=low\n",
    "3. IF age==middle OR loan amount==middle THEN probability of fraud=medium\n",
    "```"
   ]
  },
  {
   "cell_type": "markdown",
   "metadata": {
    "deletable": false,
    "editable": false,
    "nbgrader": {
     "checksum": "9723eb70db8f1ce0de4d159f3b50ae6f",
     "grade": false,
     "grade_id": "cell-9795e72b9871b4d9",
     "locked": true,
     "schema_version": 1,
     "solution": false
    }
   },
   "source": [
    "## Graded Components\n",
    "\n",
    "You will be implementing the following functions in this notebook\n",
    "\n",
    "-  **line(a, b, x)** 1 Marks\n",
    "-  **up(a, b, x)** 1.5 Mark\n",
    "-  **down(a, b, x)** 1 Marks\n",
    "-  **triangle(a, b, x)** 1.5 Mark\n",
    "-  **trapezoid(a, b, c, d, x)** 1 Mark\n",
    "-  **def calculate_rule_strength(memberships)** 1 Marks\n",
    "-  **def get_output_fuzzy_set(age, salary, loan_amount, X)** 2 Marks \n",
    "-  **get_centroid(X, Y)** 1 Mark\n",
    "\n",
    "**Super Important: Whenever required to return an array in any function make sure its a numpy array. To convert a python list to a numpy array, use np.array(A) where A is a python list**"
   ]
  },
  {
   "cell_type": "code",
   "execution_count": null,
   "metadata": {
    "deletable": false,
    "editable": false,
    "nbgrader": {
     "checksum": "4c4c8ff014d5b15337bfd2ea3a12aa77",
     "grade": false,
     "grade_id": "cell-7f073de515230c21",
     "locked": true,
     "schema_version": 1,
     "solution": false
    }
   },
   "outputs": [],
   "source": [
    "import matplotlib\n",
    "import matplotlib.pyplot as plt\n",
    "from mpl_toolkits.mplot3d import Axes3D\n",
    "import numpy as np\n",
    "%matplotlib notebook"
   ]
  },
  {
   "cell_type": "code",
   "execution_count": null,
   "metadata": {
    "deletable": false,
    "editable": false,
    "nbgrader": {
     "checksum": "5b4060ef2d8b0aa1ab33e576f4f6078c",
     "grade": false,
     "grade_id": "cell-9191a8637cf4d862",
     "locked": true,
     "schema_version": 1,
     "solution": false
    }
   },
   "outputs": [],
   "source": [
    "# Utility function to check if a variable is a lambda\n",
    "def is_lambda(v):\n",
    "  LAMBDA = lambda:0\n",
    "  return isinstance(v, type(LAMBDA)) and v.__name__ == LAMBDA.__name__"
   ]
  },
  {
   "cell_type": "code",
   "execution_count": null,
   "metadata": {
    "deletable": false,
    "editable": false,
    "nbgrader": {
     "checksum": "86b3672751370b73a76dcb250c192117",
     "grade": false,
     "grade_id": "cell-e729e28d55b05c20",
     "locked": true,
     "schema_version": 1,
     "solution": false
    }
   },
   "outputs": [],
   "source": [
    "# Utility function to plot membership functions\n",
    "def plot_membership_func(membership_func, plot_range, title='', legends=('Low', 'Medium', 'High')):\n",
    "    x = np.arange(*plot_range)\n",
    "    \n",
    "    memberships = [membership_func(k) for k in x]\n",
    "    low = [membership['low'] for membership in memberships]\n",
    "    medium = [membership['medium'] for membership in memberships]\n",
    "    high = [membership['high'] for membership in memberships]\n",
    "    \n",
    "    fig = plt.figure()\n",
    "    \n",
    "    ax = fig.gca()\n",
    "    \n",
    "    handles = plt.plot(x, low, x, medium, x, high)\n",
    "    plt.figlegend(handles=handles, labels=legends, loc='upper right')\n",
    "    plt.title(title)\n",
    "    plt.show()"
   ]
  },
  {
   "cell_type": "markdown",
   "metadata": {
    "deletable": false,
    "editable": false,
    "nbgrader": {
     "checksum": "a8055cca14d1a2088b51d8240eef3473",
     "grade": false,
     "grade_id": "cell-455c421a56c74e46",
     "locked": true,
     "schema_version": 1,
     "solution": false
    }
   },
   "source": [
    "## Task 1\n",
    "\n",
    "Write a lambda to return $y$ for straight line $y(x)$ given $a, b, x$ where,\n",
    "\n",
    "$$y(a) = 0 $$\n",
    "$$y(b) = 1 $$"
   ]
  },
  {
   "cell_type": "code",
   "execution_count": null,
   "metadata": {
    "deletable": false,
    "nbgrader": {
     "checksum": "8cfd261d884ce6bc7bee7bebf88ff76d",
     "grade": false,
     "grade_id": "cell-b85cab0ea8b182e0",
     "locked": false,
     "schema_version": 1,
     "solution": true
    }
   },
   "outputs": [],
   "source": [
    "# Graded component 1:\n",
    "\n",
    "# Implement a lambda, `line` which takes three numbers a, b, x as input and returns y according\n",
    "# to the equations given above. \n",
    "\n",
    "line = None\n",
    "\n",
    "# YOUR CODE HERE\n",
    "raise NotImplementedError()"
   ]
  },
  {
   "cell_type": "code",
   "execution_count": null,
   "metadata": {
    "deletable": false,
    "editable": false,
    "nbgrader": {
     "checksum": "19e6ce2011a2e7366d0c6d48d810c91c",
     "grade": false,
     "grade_id": "cell-6924fd8d048d7cee",
     "locked": true,
     "schema_version": 1,
     "solution": false
    }
   },
   "outputs": [],
   "source": [
    "#SAMPLE TEST CASE\n",
    "print(\"Running Sample Test Case\")\n",
    "output = line(0, 10, 5)\n",
    "answer = 0.5\n",
    "assert np.allclose(output, answer, rtol=1e-05, atol=1e-06)\n",
    "assert is_lambda(line)\n",
    "print(\"Sample Test Case Passed\")"
   ]
  },
  {
   "cell_type": "code",
   "execution_count": null,
   "metadata": {
    "deletable": false,
    "editable": false,
    "nbgrader": {
     "checksum": "c4fc8bc713486995ee1f0d0695990334",
     "grade": true,
     "grade_id": "cell-0390295e2d4ace2f",
     "locked": true,
     "points": 1,
     "schema_version": 1,
     "solution": false
    }
   },
   "outputs": [],
   "source": [
    "#Hidden Test cases\n"
   ]
  },
  {
   "cell_type": "markdown",
   "metadata": {
    "deletable": false,
    "editable": false,
    "nbgrader": {
     "checksum": "63808b2db7eba5dedd11d22fbc02e63f",
     "grade": false,
     "grade_id": "cell-1a8a8aab6bd98f35",
     "locked": true,
     "schema_version": 1,
     "solution": false
    }
   },
   "source": [
    "# Task 2\n",
    "\n",
    "Write a lambda to return $y$ given $a, b, x$ where,\n",
    "\n",
    "$$ y(x) = \\begin{cases}\n",
    "0 & x \\le a \\\\\n",
    "\\frac{x - a}{b - a} & x > a, x < b \\\\\n",
    "1 & x \\ge b \\end{cases} $$"
   ]
  },
  {
   "cell_type": "code",
   "execution_count": null,
   "metadata": {
    "deletable": false,
    "nbgrader": {
     "checksum": "be962f37f53f7ac54187e3e246874129",
     "grade": false,
     "grade_id": "cell-7cb705adc8136fc4",
     "locked": false,
     "schema_version": 1,
     "solution": true
    }
   },
   "outputs": [],
   "source": [
    "# Graded component 2:\n",
    "\n",
    "# Implement a lambda, `up` which takes three numbers a, b, x as input and returns y according\n",
    "# to the equations given above.\n",
    "\n",
    "# Hint: Use the `line` lambda defined eariler.\n",
    "\n",
    "up = None\n",
    "\n",
    "# YOUR CODE HERE\n",
    "raise NotImplementedError()"
   ]
  },
  {
   "cell_type": "code",
   "execution_count": null,
   "metadata": {
    "deletable": false,
    "editable": false,
    "nbgrader": {
     "checksum": "f75b3beea0d627dffe6215d5afe2d080",
     "grade": false,
     "grade_id": "cell-853ed83e4307dad7",
     "locked": true,
     "schema_version": 1,
     "solution": false
    }
   },
   "outputs": [],
   "source": [
    "#SAMPLE TEST CASE\n",
    "print(\"Running Sample Test Case\")\n",
    "output = up(4, 6, 7)\n",
    "answer = 1\n",
    "assert np.allclose(output, answer, rtol=1e-05, atol=1e-06)\n",
    "assert is_lambda(up)\n",
    "print(\"Sample Test Case Passed\")"
   ]
  },
  {
   "cell_type": "code",
   "execution_count": null,
   "metadata": {
    "deletable": false,
    "editable": false,
    "nbgrader": {
     "checksum": "492c31211d17ce2954fd5a4208fd4144",
     "grade": true,
     "grade_id": "cell-5a347a4b5378ec07",
     "locked": true,
     "points": 1.5,
     "schema_version": 1,
     "solution": false
    }
   },
   "outputs": [],
   "source": [
    "#Hidden Test cases\n"
   ]
  },
  {
   "cell_type": "markdown",
   "metadata": {
    "deletable": false,
    "editable": false,
    "nbgrader": {
     "checksum": "736e9d2e05505b7d3341dd4da0d96ce3",
     "grade": false,
     "grade_id": "cell-22e0da1890568048",
     "locked": true,
     "schema_version": 1,
     "solution": false
    }
   },
   "source": [
    "# Task 3\n",
    "\n",
    "Write a lambda to return $y$ given $a, b, x$ where,\n",
    "\n",
    "$$ y(x) = \\begin{cases}\n",
    "1 & x \\le a \\\\\n",
    "\\frac{x - b}{a - b} & x > a, x < b \\\\\n",
    "0 & x \\ge b \\end{cases} $$"
   ]
  },
  {
   "cell_type": "code",
   "execution_count": null,
   "metadata": {
    "deletable": false,
    "nbgrader": {
     "checksum": "82cbe5f71db3642a37137cbb6aab5f23",
     "grade": false,
     "grade_id": "cell-8a06091798fdae00",
     "locked": false,
     "schema_version": 1,
     "solution": true
    }
   },
   "outputs": [],
   "source": [
    "# Graded component 3:\n",
    "\n",
    "# Implement a lambda, `down` which takes three numbers a, b, x as input and returns y according\n",
    "# to the equations given above. \n",
    "\n",
    "# Hint: Use the `up` lambda defined earlier.\n",
    "\n",
    "down = None\n",
    "\n",
    "# YOUR CODE HERE\n",
    "raise NotImplementedError()"
   ]
  },
  {
   "cell_type": "code",
   "execution_count": null,
   "metadata": {
    "deletable": false,
    "editable": false,
    "nbgrader": {
     "checksum": "b8eb7621f7a02bf0485e9c33c920faec",
     "grade": false,
     "grade_id": "cell-1022ae598d4a585f",
     "locked": true,
     "schema_version": 1,
     "solution": false
    }
   },
   "outputs": [],
   "source": [
    "#SAMPLE TEST CASE\n",
    "print(\"Running Sample Test Case\")\n",
    "output = down(4, 6, 7)\n",
    "answer = 0\n",
    "assert np.allclose(output, answer, rtol=1e-05, atol=1e-06)\n",
    "assert is_lambda(down)\n",
    "print(\"Sample Test Case Passed\")"
   ]
  },
  {
   "cell_type": "code",
   "execution_count": null,
   "metadata": {
    "deletable": false,
    "editable": false,
    "nbgrader": {
     "checksum": "886be636be5b5cc4a693cfd7fab5782e",
     "grade": true,
     "grade_id": "cell-99af626fdeea9119",
     "locked": true,
     "points": 1,
     "schema_version": 1,
     "solution": false
    }
   },
   "outputs": [],
   "source": [
    "#Hidden Test cases\n"
   ]
  },
  {
   "cell_type": "markdown",
   "metadata": {
    "deletable": false,
    "editable": false,
    "nbgrader": {
     "checksum": "005cb470063df85d627bb55c7d59407d",
     "grade": false,
     "grade_id": "cell-3d2dcb120e0a3ccf",
     "locked": true,
     "schema_version": 1,
     "solution": false
    }
   },
   "source": [
    "# Task 4\n",
    "\n",
    "Write a lambda to return $y$ given $a, b, x$ where,\n",
    "\n",
    "\n",
    "$$m = \\frac{a + b}{2}$$\n",
    "$$ y(x) = \\begin{cases}\n",
    "0 & x \\le a \\\\\n",
    "\\frac{x - a}{m - a} & x > a, x < m \\\\\n",
    "\\frac{x - m}{b - m} & x \\ge m, x < b \\\\\n",
    "0 & x \\ge b \\end{cases} $$"
   ]
  },
  {
   "cell_type": "code",
   "execution_count": null,
   "metadata": {
    "deletable": false,
    "nbgrader": {
     "checksum": "1867b7454a106fddac020261064325ff",
     "grade": false,
     "grade_id": "cell-e27931f3b56f9854",
     "locked": false,
     "schema_version": 1,
     "solution": true
    }
   },
   "outputs": [],
   "source": [
    "# Graded component 4:\n",
    "\n",
    "# Implement a lambda, `triangle` which takes three numbers a, b, x as input and returns y according\n",
    "# to the equations given above. \n",
    "\n",
    "# Hint: Use the `up` and `down` lambdas defined earlier.\n",
    "\n",
    "triangle = None\n",
    "\n",
    "# YOUR CODE HERE\n",
    "raise NotImplementedError()"
   ]
  },
  {
   "cell_type": "code",
   "execution_count": null,
   "metadata": {
    "deletable": false,
    "editable": false,
    "nbgrader": {
     "checksum": "8c8704dc540e1832adf8d984d10c3a87",
     "grade": false,
     "grade_id": "cell-4b0d366d81f29b70",
     "locked": true,
     "schema_version": 1,
     "solution": false
    }
   },
   "outputs": [],
   "source": [
    "#SAMPLE TEST CASE\n",
    "print(\"Running Sample Test Case\")\n",
    "output = triangle(4, 6, 4.5)\n",
    "answer = 0.5\n",
    "assert np.allclose(output, answer, rtol=1e-05, atol=1e-06)\n",
    "assert is_lambda(triangle)\n",
    "print(\"Sample Test Case Passed\")"
   ]
  },
  {
   "cell_type": "code",
   "execution_count": null,
   "metadata": {
    "deletable": false,
    "editable": false,
    "nbgrader": {
     "checksum": "68d6f9a760430bf3f1f2abd8b8a5dde8",
     "grade": true,
     "grade_id": "cell-83b1c3ad5a92a291",
     "locked": true,
     "points": 1.5,
     "schema_version": 1,
     "solution": false
    }
   },
   "outputs": [],
   "source": [
    "#Hidden Test cases\n"
   ]
  },
  {
   "cell_type": "markdown",
   "metadata": {},
   "source": [
    "# Task 5\n",
    "\n",
    "Write a lambda to return $y$ given $a, b, c, d, x$ where,\n",
    "\n",
    "$$ y(x) = \\begin{cases}\n",
    "0 & x \\le a \\\\\n",
    "\\frac{x - a}{b - a} & x > a, x < b \\\\\n",
    "1 & x \\ge b, x < c \\\\\n",
    "\\frac{x - d}{d - c} & x \\ge c, x < d \\\\\n",
    "0 & x \\ge d \\end{cases} $$"
   ]
  },
  {
   "cell_type": "code",
   "execution_count": null,
   "metadata": {
    "deletable": false,
    "nbgrader": {
     "checksum": "43f71d17a60137d28d2797ca287642e4",
     "grade": false,
     "grade_id": "cell-387fd4abf50bc194",
     "locked": false,
     "schema_version": 1,
     "solution": true
    }
   },
   "outputs": [],
   "source": [
    "# Graded component 5:\n",
    "\n",
    "# Implement a lambda, `trapezoid` which takes three numbers a, b, x as input and returns y according\n",
    "# to the equations given above. \n",
    "\n",
    "# Hint: Use the `up` and `down` lambdas defined earlier.\n",
    "\n",
    "trapezoid = None\n",
    "\n",
    "# YOUR CODE HERE\n",
    "raise NotImplementedError()"
   ]
  },
  {
   "cell_type": "code",
   "execution_count": null,
   "metadata": {
    "deletable": false,
    "editable": false,
    "nbgrader": {
     "checksum": "b9929cc6c37004ca9a1a6ea9ac210c0c",
     "grade": false,
     "grade_id": "cell-73e5b4885341eb74",
     "locked": true,
     "schema_version": 1,
     "solution": false
    }
   },
   "outputs": [],
   "source": [
    "#SAMPLE TEST CASE\n",
    "print(\"Running Sample Test Case\")\n",
    "output = trapezoid(4, 5, 6, 7, 4.5)\n",
    "answer = 0.5\n",
    "assert np.allclose(output, answer, rtol=1e-05, atol=1e-06)\n",
    "assert is_lambda(trapezoid)\n",
    "print(\"Sample Test Case Passed\")"
   ]
  },
  {
   "cell_type": "code",
   "execution_count": null,
   "metadata": {
    "deletable": false,
    "editable": false,
    "nbgrader": {
     "checksum": "3ba0021d7c5f5b430ed3beb70949d971",
     "grade": true,
     "grade_id": "cell-50f8bfc53327117e",
     "locked": true,
     "points": 1,
     "schema_version": 1,
     "solution": false
    }
   },
   "outputs": [],
   "source": [
    "#Hidden Test cases\n"
   ]
  },
  {
   "cell_type": "code",
   "execution_count": null,
   "metadata": {
    "deletable": false,
    "editable": false,
    "nbgrader": {
     "checksum": "ed00874e081f23e0e09b72252bebfc9e",
     "grade": false,
     "grade_id": "cell-fb41331bb8e959c0",
     "locked": true,
     "schema_version": 1,
     "solution": false
    }
   },
   "outputs": [],
   "source": [
    "# Fuzzy membership function for salary ranges\n",
    "def salary_membership_func(x):\n",
    "\n",
    "    x = float(x)\n",
    "    \n",
    "    membership = {}\n",
    "\n",
    "    membership['low'] = down(4, 6, x)\n",
    "    membership['medium'] = triangle(5, 11, x)\n",
    "    membership['high'] = up(9, 11, x)\n",
    "    \n",
    "    return membership"
   ]
  },
  {
   "cell_type": "code",
   "execution_count": null,
   "metadata": {
    "deletable": false,
    "editable": false,
    "nbgrader": {
     "checksum": "457401443012b52d2949e88c988e8992",
     "grade": false,
     "grade_id": "cell-d3b45be9af1a18fc",
     "locked": true,
     "schema_version": 1,
     "solution": false
    }
   },
   "outputs": [],
   "source": [
    "plot_membership_func(salary_membership_func, (0, 15, 1), title='Salary of the Account-Holder')"
   ]
  },
  {
   "cell_type": "code",
   "execution_count": null,
   "metadata": {
    "deletable": false,
    "editable": false,
    "nbgrader": {
     "checksum": "443596ec12343e1d93ed0b5ccb769fa0",
     "grade": false,
     "grade_id": "cell-d9bb7eaa786733f1",
     "locked": true,
     "schema_version": 1,
     "solution": false
    }
   },
   "outputs": [],
   "source": [
    "# Fuzzy membership function for pending loan amount ranges\n",
    "def loan_amount_membership_func(x):\n",
    "    \n",
    "    x = float(x)\n",
    "    \n",
    "    membership = {}\n",
    "\n",
    "    membership['low'] = down(15, 30, x)\n",
    "    membership['medium'] = trapezoid(15, 30, 40, 50, x)\n",
    "    membership['high'] = up(35, 60, x)\n",
    "    \n",
    "    return membership"
   ]
  },
  {
   "cell_type": "code",
   "execution_count": null,
   "metadata": {
    "deletable": false,
    "editable": false,
    "nbgrader": {
     "checksum": "ecdc5f7e5e57d5f2c9f8e8bb2194736c",
     "grade": false,
     "grade_id": "cell-4330487fb31c42bc",
     "locked": true,
     "schema_version": 1,
     "solution": false
    }
   },
   "outputs": [],
   "source": [
    "plot_membership_func(loan_amount_membership_func, (0, 70, 1), title='Pending Loan Amount')"
   ]
  },
  {
   "cell_type": "code",
   "execution_count": null,
   "metadata": {
    "deletable": false,
    "editable": false,
    "nbgrader": {
     "checksum": "44ec13a51f8b45b9e481075bf569611a",
     "grade": false,
     "grade_id": "cell-8bbd241d33d5c4b2",
     "locked": true,
     "schema_version": 1,
     "solution": false
    }
   },
   "outputs": [],
   "source": [
    "# Fuzzy membership function for age ranges of account holder\n",
    "def age_membership_func(x):\n",
    "\n",
    "    x = float(x)\n",
    "    \n",
    "    membership = {}\n",
    "    \n",
    "    membership['low'] = down(35, 40, x)\n",
    "    membership['medium'] = triangle(30.0, 55.0, x)\n",
    "    membership['high'] = up(45, 55, x)\n",
    "        \n",
    "    return membership"
   ]
  },
  {
   "cell_type": "code",
   "execution_count": null,
   "metadata": {
    "deletable": false,
    "editable": false,
    "nbgrader": {
     "checksum": "b7a17b456c8dbd5fb32677816d1ec040",
     "grade": false,
     "grade_id": "cell-da6d10f368946dd5",
     "locked": true,
     "schema_version": 1,
     "solution": false
    }
   },
   "outputs": [],
   "source": [
    "plot_membership_func(age_membership_func, (0, 90, 0.5), title='Age of the Account-Holder', \n",
    "                     legends=('Young', 'Middle-Age', 'Old'))"
   ]
  },
  {
   "cell_type": "code",
   "execution_count": null,
   "metadata": {
    "deletable": false,
    "editable": false,
    "nbgrader": {
     "checksum": "61ac37b957443fd3d39f5c04d7621346",
     "grade": false,
     "grade_id": "cell-85a07033b25a632e",
     "locked": true,
     "schema_version": 1,
     "solution": false
    }
   },
   "outputs": [],
   "source": [
    "# Fuzzy membership function for fraud probablities\n",
    "def fraud_prob_membership_func(x):\n",
    "\n",
    "    x = float(x)\n",
    "    \n",
    "    membership = {}\n",
    "\n",
    "    membership['low'] = down(0.25, 0.6, x)\n",
    "    membership['medium'] = trapezoid(0.25, 0.4, 0.6, 0.75, x)\n",
    "    membership['high'] = up(0.5, 0.65, x)\n",
    "    \n",
    "    return membership"
   ]
  },
  {
   "cell_type": "code",
   "execution_count": null,
   "metadata": {
    "deletable": false,
    "editable": false,
    "nbgrader": {
     "checksum": "03bdbcee1093c64e3729dfc910fda5de",
     "grade": false,
     "grade_id": "cell-a5e77692f37c0853",
     "locked": true,
     "schema_version": 1,
     "solution": false
    }
   },
   "outputs": [],
   "source": [
    "plot_membership_func(fraud_prob_membership_func, (0, 1, 0.05), title='Probablity of fraud')"
   ]
  },
  {
   "cell_type": "markdown",
   "metadata": {
    "deletable": false,
    "editable": false,
    "nbgrader": {
     "checksum": "0cad5a7ee8e354d08208154c3b479347",
     "grade": false,
     "grade_id": "cell-773b70b51812a29b",
     "locked": true,
     "schema_version": 1,
     "solution": false
    }
   },
   "source": [
    "## Task 6\n",
    "\n",
    "Implement function `calculate_rule_strength` which takes `memberships` as input and returns a dictionary containing rule strengths.\n",
    "\n",
    "`memberships` is defined as,\n",
    "\n",
    "```py\n",
    "memberships ={\n",
    "    'age': age_membership_func(age),\n",
    "    'salary': salary_membership_func(salary),\n",
    "    'loan_amount': loan_amount_membership_func(loan_amount)\n",
    "}\n",
    "```\n",
    "\n",
    "The output dictionary should contain three key-value pairs corrosponding to following rules,\n",
    "\n",
    "- `low`: \n",
    "\n",
    "    `IF age==low AND salary==high THEN probability of fraud=low`\n",
    "    \n",
    "\n",
    "- `medium`: \n",
    "\n",
    "    `IF age==middle OR loan amount==middle THEN probability of fraud=medium`\n",
    "\n",
    "\n",
    "- `high`: \n",
    "\n",
    "    `IF age==high AND salary==low THEN probability of fraud=high`\n",
    "    \n",
    "![](rule.png)"
   ]
  },
  {
   "cell_type": "code",
   "execution_count": null,
   "metadata": {
    "deletable": false,
    "nbgrader": {
     "checksum": "3b3721ce46cb73592f4e0eac6db853be",
     "grade": false,
     "grade_id": "cell-321778318ef41e64",
     "locked": false,
     "schema_version": 1,
     "solution": true
    }
   },
   "outputs": [],
   "source": [
    "# Graded component 6:\n",
    "\n",
    "def calculate_rule_strength(memberships):\n",
    "    \n",
    "    rule_strength = {}\n",
    "    \n",
    "    # IF age==low AND salary==high THEN probability of fraud=low\n",
    "    rule_strength['low'] = None\n",
    "    # IF age==middle OR loan amount==middle THEN probability of fraud=medium\n",
    "    rule_strength['medium'] = None\n",
    "    # IF age==high AND salary==low THEN probability of fraud=high\n",
    "    rule_strength['high'] = None\n",
    "    \n",
    "    # YOUR CODE HERE\n",
    "    raise NotImplementedError()\n",
    "    \n",
    "    return rule_strength"
   ]
  },
  {
   "cell_type": "code",
   "execution_count": null,
   "metadata": {
    "deletable": false,
    "editable": false,
    "nbgrader": {
     "checksum": "6dd18bba15f66f42bf5645ea9d458da0",
     "grade": false,
     "grade_id": "cell-a9274d7c57029d56",
     "locked": true,
     "schema_version": 1,
     "solution": false
    }
   },
   "outputs": [],
   "source": [
    "#SAMPLE TEST CASE\n",
    "print(\"Running Sample Test Case\")\n",
    "\n",
    "memberships ={\n",
    "    'age': age_membership_func(35),\n",
    "    'salary': salary_membership_func(10.5),\n",
    "    'loan_amount': loan_amount_membership_func(12.5)\n",
    "}\n",
    "\n",
    "output = calculate_rule_strength(memberships)\n",
    "answer = {'high': 0.0, 'low': 0.75, 'medium': 0.4}\n",
    "\n",
    "assert sum([np.allclose(output[x], answer[y], rtol=1e-05, atol=1e-06) for x, y in zip(sorted(output), sorted(answer))]) == 3\n",
    "print(\"Sample Test Case Passed\")"
   ]
  },
  {
   "cell_type": "code",
   "execution_count": null,
   "metadata": {
    "deletable": false,
    "editable": false,
    "nbgrader": {
     "checksum": "14db594765e93ef764948c199d95e62a",
     "grade": true,
     "grade_id": "cell-652b891188ee001a",
     "locked": true,
     "points": 1,
     "schema_version": 1,
     "solution": false
    }
   },
   "outputs": [],
   "source": [
    "#Hidden Test cases\n"
   ]
  },
  {
   "cell_type": "markdown",
   "metadata": {
    "deletable": false,
    "editable": false,
    "nbgrader": {
     "checksum": "d2e2b1e4a327bf9b30c2cd8ab3b0fdf6",
     "grade": false,
     "grade_id": "cell-c5e63037436c9893",
     "locked": true,
     "schema_version": 1,
     "solution": false
    }
   },
   "source": [
    "# Task 7\n",
    "\n",
    "Implement function `get_output_fuzzy_set`, which takes age, salary, pending loan amount and X as input. X is a NumPy array conatining the values for which we calculate output fuzzy set. Return a NumPy array containing the values of output fuzzy set corrosponding to each value in X.\n",
    "\n",
    "![](fuzzy_inf.png)"
   ]
  },
  {
   "cell_type": "code",
   "execution_count": null,
   "metadata": {
    "deletable": false,
    "nbgrader": {
     "checksum": "511421d5383d0a7d974420ef94fc472d",
     "grade": false,
     "grade_id": "cell-131d376342fec1b3",
     "locked": false,
     "schema_version": 1,
     "solution": true
    }
   },
   "outputs": [],
   "source": [
    "# Graded component 7:\n",
    "\n",
    "# Function to caluclate output fuzzy set\n",
    "def get_output_fuzzy_set(age, salary, loan_amount, X):\n",
    "    \n",
    "    memberships ={\n",
    "        'age': age_membership_func(age),\n",
    "        'salary': salary_membership_func(salary),\n",
    "        'loan_amount': loan_amount_membership_func(loan_amount)\n",
    "    }\n",
    "    \n",
    "    # Get rule strengths     \n",
    "    rule_strength = calculate_rule_strength(memberships)\n",
    "\n",
    "    # YOUR CODE HERE\n",
    "    raise NotImplementedError()\n",
    "    return output_fuzzy_set"
   ]
  },
  {
   "cell_type": "code",
   "execution_count": null,
   "metadata": {
    "deletable": false,
    "editable": false,
    "nbgrader": {
     "checksum": "50a4dcdd8098cb28a5d6e677e640368d",
     "grade": false,
     "grade_id": "cell-3ce8991d62d80709",
     "locked": true,
     "schema_version": 1,
     "solution": false
    }
   },
   "outputs": [],
   "source": [
    "# Plot the output set\n",
    "fig = plt.figure()\n",
    "ax = fig.gca()\n",
    "plt.plot(get_output_fuzzy_set(35, 10.5, 12.5, np.arange(0, 1, 0.01)))\n",
    "plt.title(\"Net Output Fuzzy Set\")\n",
    "plt.show()"
   ]
  },
  {
   "cell_type": "code",
   "execution_count": null,
   "metadata": {
    "deletable": false,
    "editable": false,
    "nbgrader": {
     "checksum": "cfaa138df685994a3d5504993c1ebc40",
     "grade": false,
     "grade_id": "cell-08e98086f1208cbf",
     "locked": true,
     "schema_version": 1,
     "solution": false
    }
   },
   "outputs": [],
   "source": [
    "#SAMPLE TEST CASE\n",
    "print(\"Running Sample Test Case\")\n",
    "\n",
    "output = get_output_fuzzy_set(35, 10.5, 12.5, np.arange(0, 1, 0.01))\n",
    "answer = np.array([0.75      , 0.75      , 0.75      , 0.75      , 0.75      ,\n",
    "       0.75      , 0.75      , 0.75      , 0.75      , 0.75      ,\n",
    "       0.75      , 0.75      , 0.75      , 0.75      , 0.75      ,\n",
    "       0.75      , 0.75      , 0.75      , 0.75      , 0.75      ,\n",
    "       0.75      , 0.75      , 0.75      , 0.75      , 0.75      ,\n",
    "       0.75      , 0.75      , 0.75      , 0.75      , 0.75      ,\n",
    "       0.75      , 0.75      , 0.75      , 0.75      , 0.74285714,\n",
    "       0.71428571, 0.68571429, 0.65714286, 0.62857143, 0.6       ,\n",
    "       0.57142857, 0.54285714, 0.51428571, 0.48571429, 0.45714286,\n",
    "       0.42857143, 0.4       , 0.4       , 0.4       , 0.4       ,\n",
    "       0.4       , 0.4       , 0.4       , 0.4       , 0.4       ,\n",
    "       0.4       , 0.4       , 0.4       , 0.4       , 0.4       ,\n",
    "       0.4       , 0.4       , 0.4       , 0.4       , 0.4       ,\n",
    "       0.4       , 0.4       , 0.4       , 0.4       , 0.4       ,\n",
    "       0.33333333, 0.26666667, 0.2       , 0.13333333, 0.06666667,\n",
    "       0.        , 0.        , 0.        , 0.        , 0.        ,\n",
    "       0.        , 0.        , 0.        , 0.        , 0.        ,\n",
    "       0.        , 0.        , 0.        , 0.        , 0.        ,\n",
    "       0.        , 0.        , 0.        , 0.        , 0.        ,\n",
    "       0.        , 0.        , 0.        , 0.        , 0.        ])\n",
    "\n",
    "assert np.allclose(output, answer, rtol=1e-05, atol=1e-06)\n",
    "print(\"Sample Test Case Passed\")"
   ]
  },
  {
   "cell_type": "code",
   "execution_count": null,
   "metadata": {
    "deletable": false,
    "editable": false,
    "nbgrader": {
     "checksum": "04dc3f8ce9d86c6ed8d73b3e5dc91013",
     "grade": true,
     "grade_id": "cell-7b7a4bdec862d81e",
     "locked": true,
     "points": 2,
     "schema_version": 1,
     "solution": false
    }
   },
   "outputs": [],
   "source": [
    "#Hidden Test cases\n"
   ]
  },
  {
   "cell_type": "markdown",
   "metadata": {
    "deletable": false,
    "editable": false,
    "nbgrader": {
     "checksum": "361ad53f4a653567235d74da2f7cb835",
     "grade": false,
     "grade_id": "cell-37b1c1b903848407",
     "locked": true,
     "schema_version": 1,
     "solution": false
    }
   },
   "source": [
    "## Task 8\n",
    "\n",
    "Write a lambda which takes two NumPy arrays $X, Y$ as input and return centroid given by formula,\n",
    "\n",
    "$$ \\text{Centroid}  = \\frac{\\sum_{i=1}^{n} X_i * Y_i}{\\sum_{i=1}^{n} X_i} $$"
   ]
  },
  {
   "cell_type": "code",
   "execution_count": null,
   "metadata": {
    "deletable": false,
    "nbgrader": {
     "checksum": "c046582309f2c1d6980544b2766c27c3",
     "grade": false,
     "grade_id": "cell-4f68e56e54dec4c4",
     "locked": false,
     "schema_version": 1,
     "solution": true
    }
   },
   "outputs": [],
   "source": [
    "# Graded component 8:\n",
    "\n",
    "# Implement a lambda, `line` which takes three numbers a, b, x as input and returns y according\n",
    "# to the equations given above. \n",
    "\n",
    "get_centroid = None\n",
    "\n",
    "# YOUR CODE HERE\n",
    "raise NotImplementedError()"
   ]
  },
  {
   "cell_type": "code",
   "execution_count": null,
   "metadata": {
    "deletable": false,
    "editable": false,
    "nbgrader": {
     "checksum": "772dff05efdb6132e556ccc99f85232b",
     "grade": false,
     "grade_id": "cell-affa4e4404adcbb8",
     "locked": true,
     "schema_version": 1,
     "solution": false
    }
   },
   "outputs": [],
   "source": [
    "#SAMPLE TEST CASE\n",
    "print(\"Running Sample Test Case\")\n",
    "output = get_centroid(np.array([1, 2, 3]), np.array([4, 5, 6])) \n",
    "answer = 5.333333\n",
    "assert np.allclose(output, answer, rtol=1e-05, atol=1e-06)\n",
    "assert is_lambda(get_centroid)\n",
    "print(\"Sample Test Case Passed\")"
   ]
  },
  {
   "cell_type": "code",
   "execution_count": null,
   "metadata": {
    "deletable": false,
    "editable": false,
    "nbgrader": {
     "checksum": "3c81e8b9393bb2890d5ebc936803f8a1",
     "grade": true,
     "grade_id": "cell-3a74d9680fe1f969",
     "locked": true,
     "points": 1,
     "schema_version": 1,
     "solution": false
    }
   },
   "outputs": [],
   "source": [
    "#Hidden Test cases\n"
   ]
  },
  {
   "cell_type": "code",
   "execution_count": null,
   "metadata": {
    "deletable": false,
    "editable": false,
    "nbgrader": {
     "checksum": "24dccd5895a11fbc7a186ef996f4815b",
     "grade": false,
     "grade_id": "cell-b71cf57265d2cc62",
     "locked": true,
     "schema_version": 1,
     "solution": false
    }
   },
   "outputs": [],
   "source": [
    "# Infer probablity of fraud using fuzzy inference\n",
    "def infer_fraud_prob(age, salary, loan_amount):\n",
    "    X = np.arange(0, 1, 0.01)\n",
    "    Y = get_output_fuzzy_set(age, salary, loan_amount, X)\n",
    "    \n",
    "    return get_centroid(X, Y)"
   ]
  },
  {
   "cell_type": "code",
   "execution_count": null,
   "metadata": {
    "deletable": false,
    "editable": false,
    "nbgrader": {
     "checksum": "bf492a8ba3a72f6aec424632225f1aec",
     "grade": false,
     "grade_id": "cell-4850b5c9153adcc7",
     "locked": true,
     "schema_version": 1,
     "solution": false
    }
   },
   "outputs": [],
   "source": [
    "# Lets visualize the inference funnction as a 3D scatter plot\n",
    "\n",
    "age_range = np.arange(0, 100, 10)\n",
    "salary_range = np.arange(0, 20, 1)\n",
    "loan_amount_range = np.arange(0, 80, 10)\n",
    "\n",
    "X = np.array(np.meshgrid(age_range, salary_range, loan_amount_range)).T.reshape(-1,3)\n",
    "y = np.array([infer_fraud_prob(*x) for x in X])\n",
    "\n",
    "fig = plt.figure()\n",
    "ax = fig.gca(projection='3d')\n",
    "\n",
    "ax.scatter3D(X[:,0], X[:,1], X[:,2], c=y)\n",
    "\n",
    "ax.set_xlabel('Age')\n",
    "ax.set_ylabel('Salary')\n",
    "ax.set_zlabel('Loan Amount')\n",
    "\n",
    "fig.show()"
   ]
  }
 ],
 "metadata": {
  "kernelspec": {
   "display_name": "Python 3",
   "language": "python",
   "name": "python3"
  },
  "language_info": {
   "codemirror_mode": {
    "name": "ipython",
    "version": 3
   },
   "file_extension": ".py",
   "mimetype": "text/x-python",
   "name": "python",
   "nbconvert_exporter": "python",
   "pygments_lexer": "ipython3",
   "version": "3.6.4"
  }
 },
 "nbformat": 4,
 "nbformat_minor": 2
}
