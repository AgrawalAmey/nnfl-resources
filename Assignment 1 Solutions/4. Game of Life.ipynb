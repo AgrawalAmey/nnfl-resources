{
 "cells": [
  {
   "cell_type": "code",
   "execution_count": 1,
   "metadata": {
    "collapsed": true
   },
   "outputs": [],
   "source": [
    "# Import libraries\n",
    "import numpy as np\n",
    "import matplotlib.pyplot as plt\n",
    "import seaborn as sns\n",
    "from IPython.display import clear_output, display_html, HTML\n",
    "import time"
   ]
  },
  {
   "cell_type": "code",
   "execution_count": 2,
   "metadata": {
    "collapsed": true
   },
   "outputs": [],
   "source": [
    "# Some defaults for beautiful plots\n",
    "%matplotlib inline\n",
    "sns.set()\n",
    "sns.set_palette(\"GnBu\")"
   ]
  },
  {
   "cell_type": "markdown",
   "metadata": {
    "collapsed": true
   },
   "source": [
    "# The game of life\n",
    "\n",
    "The universe of the Game of Life is an infinite two-dimensional orthogonal grid of square cells, each of which is in one of two possible states, alive or dead, or \"populated\" or \"unpopulated\". Every cell interacts with its eight neighbours, which are the cells that are horizontally, vertically, or diagonally adjacent. At each step in time, the following transitions occur:\n",
    "- Any live cell with fewer than two live neighbours dies, as if caused by underpopulation.\n",
    "- Any live cell with two or three live neighbours lives on to the next generation.\n",
    "- Any live cell with more than three live neighbours dies, as if by overpopulation.\n",
    "- Any dead cell with exactly three live neighbours becomes a live cell, as if by reproduction.\n",
    "\n",
    "The initial pattern constitutes the seed of the system. The first generation is created by applying the above rules simultaneously to every cell in the seed—births and deaths occur simultaneously, and the discrete moment at which this happens is sometimes called a tick (in other words, each generation is a pure function of the preceding one). The rules continue to be applied repeatedly to create further generations."
   ]
  },
  {
   "cell_type": "code",
   "execution_count": 3,
   "metadata": {},
   "outputs": [
    {
     "data": {
      "text/html": [
       "<iframe width=\"640\" height=\"360\" src=\"https://www.youtube.com/embed/0XI6s-TGzSs\" frameborder=\"0\" allowfullscreen></iframe>"
      ],
      "text/plain": [
       "<IPython.core.display.HTML object>"
      ]
     },
     "metadata": {},
     "output_type": "display_data"
    }
   ],
   "source": [
    "%%HTML\n",
    "<iframe width=\"640\" height=\"360\" src=\"https://www.youtube.com/embed/0XI6s-TGzSs\" frameborder=\"0\" allowfullscreen></iframe>"
   ]
  },
  {
   "cell_type": "markdown",
   "metadata": {},
   "source": [
    "### Problem 1.4.1\n",
    "\n",
    "Write a function which takes as input the current state as input and returns the next state.\n",
    "\n",
    "**For hackers:** Try solving without using loops.\n",
    "\n",
    "Time profile of our solution:\n",
    "91.1 µs ± 1.4 µs per loop (mean ± std. dev. of 7 runs, 10000 loops each)\n",
    "\n",
    "Let us know if you beat it ;)"
   ]
  },
  {
   "cell_type": "code",
   "execution_count": 4,
   "metadata": {},
   "outputs": [
    {
     "name": "stdout",
     "output_type": "stream",
     "text": [
      "95.6 µs ± 4.41 µs per loop (mean ± std. dev. of 7 runs, 10000 loops each)\n"
     ]
    }
   ],
   "source": [
    "def get_next_state(Z):\n",
    "    # Your code here\n",
    "    # We obviously do not expect this level of optimization,\n",
    "    # but you can appreciate the beauty of this solution anyway.\n",
    "    # Count neighbours\n",
    "    N = (Z[0:-2,0:-2] + Z[0:-2,1:-1] + Z[0:-2,2:] +\n",
    "         Z[1:-1,0:-2]                + Z[1:-1,2:] +\n",
    "         Z[2:  ,0:-2] + Z[2:  ,1:-1] + Z[2:  ,2:])\n",
    "\n",
    "    # Apply rules\n",
    "    birth = (N==3) & (Z[1:-1,1:-1]==0)\n",
    "    survive = ((N==2) | (N==3)) & (Z[1:-1,1:-1]==1)\n",
    "    Z[...] = 0\n",
    "    Z[1:-1,1:-1][birth | survive] = 1\n",
    "    # For explanation, see https://www.labri.fr/perso/nrougier/teaching/numpy/numpy.html\n",
    "    return Z\n",
    "\n",
    "%timeit get_next_state(np.random.random((50, 50)))"
   ]
  },
  {
   "cell_type": "code",
   "execution_count": 5,
   "metadata": {
    "collapsed": true,
    "scrolled": true
   },
   "outputs": [],
   "source": [
    "# A helper function to plot the state\n",
    "\n",
    "def show_matrix(matrix):\n",
    "    clear_output()\n",
    "    nx, ny = matrix.shape\n",
    "    table = '<table style=\"border-color: black; border-width: 5px;\">\\n'\n",
    "    for y in range(ny-1, -1, -1):\n",
    "        table += '<tr>'\n",
    "        for x in range(0, nx):\n",
    "            if matrix[x, y]:\n",
    "                table += '<td style=\"background: black; border-color: white;\"></td>'\n",
    "            else:\n",
    "                table += '<td style=\"border-color: white;\"></td>'\n",
    "        table += '</tr>\\n'\n",
    "    table += '</table>'\n",
    "    display_html(table, raw=True)\n",
    "    time.sleep(0.5)"
   ]
  },
  {
   "cell_type": "markdown",
   "metadata": {},
   "source": [
    "### Show time"
   ]
  },
  {
   "cell_type": "code",
   "execution_count": 6,
   "metadata": {},
   "outputs": [
    {
     "data": {
      "text/html": [
       "<table style=\"border-color: black; border-width: 5px;\">\n",
       "<tr><td style=\"border-color: white;\"></td><td style=\"border-color: white;\"></td><td style=\"border-color: white;\"></td><td style=\"border-color: white;\"></td><td style=\"border-color: white;\"></td><td style=\"border-color: white;\"></td><td style=\"border-color: white;\"></td><td style=\"border-color: white;\"></td><td style=\"border-color: white;\"></td><td style=\"border-color: white;\"></td><td style=\"border-color: white;\"></td><td style=\"border-color: white;\"></td><td style=\"border-color: white;\"></td><td style=\"border-color: white;\"></td></tr>\n",
       "<tr><td style=\"border-color: white;\"></td><td style=\"border-color: white;\"></td><td style=\"border-color: white;\"></td><td style=\"border-color: white;\"></td><td style=\"border-color: white;\"></td><td style=\"border-color: white;\"></td><td style=\"border-color: white;\"></td><td style=\"border-color: white;\"></td><td style=\"border-color: white;\"></td><td style=\"border-color: white;\"></td><td style=\"border-color: white;\"></td><td style=\"border-color: white;\"></td><td style=\"border-color: white;\"></td><td style=\"border-color: white;\"></td></tr>\n",
       "<tr><td style=\"border-color: white;\"></td><td style=\"border-color: white;\"></td><td style=\"border-color: white;\"></td><td style=\"border-color: white;\"></td><td style=\"border-color: white;\"></td><td style=\"border-color: white;\"></td><td style=\"border-color: white;\"></td><td style=\"border-color: white;\"></td><td style=\"border-color: white;\"></td><td style=\"border-color: white;\"></td><td style=\"border-color: white;\"></td><td style=\"border-color: white;\"></td><td style=\"border-color: white;\"></td><td style=\"border-color: white;\"></td></tr>\n",
       "<tr><td style=\"border-color: white;\"></td><td style=\"border-color: white;\"></td><td style=\"background: black; border-color: white;\"></td><td style=\"background: black; border-color: white;\"></td><td style=\"border-color: white;\"></td><td style=\"border-color: white;\"></td><td style=\"border-color: white;\"></td><td style=\"border-color: white;\"></td><td style=\"border-color: white;\"></td><td style=\"border-color: white;\"></td><td style=\"border-color: white;\"></td><td style=\"border-color: white;\"></td><td style=\"border-color: white;\"></td><td style=\"border-color: white;\"></td></tr>\n",
       "<tr><td style=\"border-color: white;\"></td><td style=\"background: black; border-color: white;\"></td><td style=\"border-color: white;\"></td><td style=\"border-color: white;\"></td><td style=\"background: black; border-color: white;\"></td><td style=\"border-color: white;\"></td><td style=\"border-color: white;\"></td><td style=\"border-color: white;\"></td><td style=\"border-color: white;\"></td><td style=\"border-color: white;\"></td><td style=\"border-color: white;\"></td><td style=\"border-color: white;\"></td><td style=\"border-color: white;\"></td><td style=\"border-color: white;\"></td></tr>\n",
       "<tr><td style=\"border-color: white;\"></td><td style=\"border-color: white;\"></td><td style=\"background: black; border-color: white;\"></td><td style=\"background: black; border-color: white;\"></td><td style=\"border-color: white;\"></td><td style=\"border-color: white;\"></td><td style=\"border-color: white;\"></td><td style=\"border-color: white;\"></td><td style=\"border-color: white;\"></td><td style=\"border-color: white;\"></td><td style=\"border-color: white;\"></td><td style=\"border-color: white;\"></td><td style=\"border-color: white;\"></td><td style=\"border-color: white;\"></td></tr>\n",
       "<tr><td style=\"border-color: white;\"></td><td style=\"border-color: white;\"></td><td style=\"border-color: white;\"></td><td style=\"border-color: white;\"></td><td style=\"border-color: white;\"></td><td style=\"border-color: white;\"></td><td style=\"border-color: white;\"></td><td style=\"border-color: white;\"></td><td style=\"border-color: white;\"></td><td style=\"border-color: white;\"></td><td style=\"border-color: white;\"></td><td style=\"border-color: white;\"></td><td style=\"border-color: white;\"></td><td style=\"border-color: white;\"></td></tr>\n",
       "<tr><td style=\"border-color: white;\"></td><td style=\"border-color: white;\"></td><td style=\"border-color: white;\"></td><td style=\"border-color: white;\"></td><td style=\"border-color: white;\"></td><td style=\"border-color: white;\"></td><td style=\"border-color: white;\"></td><td style=\"border-color: white;\"></td><td style=\"border-color: white;\"></td><td style=\"border-color: white;\"></td><td style=\"border-color: white;\"></td><td style=\"border-color: white;\"></td><td style=\"border-color: white;\"></td><td style=\"border-color: white;\"></td></tr>\n",
       "<tr><td style=\"border-color: white;\"></td><td style=\"border-color: white;\"></td><td style=\"border-color: white;\"></td><td style=\"border-color: white;\"></td><td style=\"border-color: white;\"></td><td style=\"border-color: white;\"></td><td style=\"border-color: white;\"></td><td style=\"border-color: white;\"></td><td style=\"border-color: white;\"></td><td style=\"border-color: white;\"></td><td style=\"border-color: white;\"></td><td style=\"border-color: white;\"></td><td style=\"border-color: white;\"></td><td style=\"border-color: white;\"></td></tr>\n",
       "<tr><td style=\"border-color: white;\"></td><td style=\"border-color: white;\"></td><td style=\"background: black; border-color: white;\"></td><td style=\"background: black; border-color: white;\"></td><td style=\"border-color: white;\"></td><td style=\"border-color: white;\"></td><td style=\"border-color: white;\"></td><td style=\"border-color: white;\"></td><td style=\"border-color: white;\"></td><td style=\"border-color: white;\"></td><td style=\"border-color: white;\"></td><td style=\"border-color: white;\"></td><td style=\"border-color: white;\"></td><td style=\"border-color: white;\"></td></tr>\n",
       "<tr><td style=\"border-color: white;\"></td><td style=\"background: black; border-color: white;\"></td><td style=\"border-color: white;\"></td><td style=\"border-color: white;\"></td><td style=\"background: black; border-color: white;\"></td><td style=\"border-color: white;\"></td><td style=\"border-color: white;\"></td><td style=\"border-color: white;\"></td><td style=\"border-color: white;\"></td><td style=\"border-color: white;\"></td><td style=\"border-color: white;\"></td><td style=\"border-color: white;\"></td><td style=\"border-color: white;\"></td><td style=\"border-color: white;\"></td></tr>\n",
       "<tr><td style=\"border-color: white;\"></td><td style=\"border-color: white;\"></td><td style=\"background: black; border-color: white;\"></td><td style=\"background: black; border-color: white;\"></td><td style=\"border-color: white;\"></td><td style=\"border-color: white;\"></td><td style=\"border-color: white;\"></td><td style=\"border-color: white;\"></td><td style=\"border-color: white;\"></td><td style=\"border-color: white;\"></td><td style=\"border-color: white;\"></td><td style=\"border-color: white;\"></td><td style=\"border-color: white;\"></td><td style=\"border-color: white;\"></td></tr>\n",
       "<tr><td style=\"border-color: white;\"></td><td style=\"border-color: white;\"></td><td style=\"border-color: white;\"></td><td style=\"border-color: white;\"></td><td style=\"border-color: white;\"></td><td style=\"border-color: white;\"></td><td style=\"border-color: white;\"></td><td style=\"border-color: white;\"></td><td style=\"border-color: white;\"></td><td style=\"border-color: white;\"></td><td style=\"border-color: white;\"></td><td style=\"border-color: white;\"></td><td style=\"border-color: white;\"></td><td style=\"border-color: white;\"></td></tr>\n",
       "<tr><td style=\"border-color: white;\"></td><td style=\"border-color: white;\"></td><td style=\"border-color: white;\"></td><td style=\"border-color: white;\"></td><td style=\"border-color: white;\"></td><td style=\"border-color: white;\"></td><td style=\"border-color: white;\"></td><td style=\"border-color: white;\"></td><td style=\"border-color: white;\"></td><td style=\"border-color: white;\"></td><td style=\"border-color: white;\"></td><td style=\"border-color: white;\"></td><td style=\"border-color: white;\"></td><td style=\"border-color: white;\"></td></tr>\n",
       "<tr><td style=\"border-color: white;\"></td><td style=\"border-color: white;\"></td><td style=\"border-color: white;\"></td><td style=\"border-color: white;\"></td><td style=\"border-color: white;\"></td><td style=\"border-color: white;\"></td><td style=\"border-color: white;\"></td><td style=\"border-color: white;\"></td><td style=\"border-color: white;\"></td><td style=\"border-color: white;\"></td><td style=\"border-color: white;\"></td><td style=\"border-color: white;\"></td><td style=\"border-color: white;\"></td><td style=\"border-color: white;\"></td></tr>\n",
       "</table>"
      ]
     },
     "metadata": {},
     "output_type": "display_data"
    }
   ],
   "source": [
    "# A sweet little surprise, run the cell\n",
    "\n",
    "X = np.array([[0, 0, 0, 1, 1, 1, 0, 0, 0, 1, 1, 1, 0, 0, 0],\n",
    "              [0, 0, 0, 0, 0, 0, 0, 0, 0, 0, 0, 0, 0, 0, 0],\n",
    "              [0, 1, 0, 0, 0, 0, 1, 0, 1, 0, 0, 0, 0, 1, 0],\n",
    "              [0, 1, 0, 0, 0, 0, 1, 0, 1, 0, 0, 0, 0, 1, 0],\n",
    "              [0, 1, 0, 0, 0, 0, 1, 0, 1, 0, 0, 0, 0, 1, 0],\n",
    "              [0, 0, 0, 1, 1, 1, 0, 0, 0, 1, 1, 1, 0, 0, 0],\n",
    "              [0, 0, 0, 0, 0, 0, 0, 0, 0, 0, 0, 0, 0, 0, 0],\n",
    "              [0, 0, 0, 1, 1, 1, 0, 0, 0, 1, 1, 1, 0, 0, 0],\n",
    "              [0, 1, 0, 0, 0, 0, 1, 0, 1, 0, 0, 0, 0, 1, 0],\n",
    "              [0, 1, 0, 0, 0, 0, 1, 0, 1, 0, 0, 0, 0, 1, 0],\n",
    "              [0, 1, 0, 0, 0, 0, 1, 0, 1, 0, 0, 0, 0, 1, 0],\n",
    "              [0, 0, 0, 0, 0, 0, 0, 0, 0, 0, 0, 0, 0, 0, 0],\n",
    "              [0, 0, 0, 1, 1, 1, 0, 0, 0, 1, 1, 1, 0, 0, 0],\n",
    "              [0, 0, 0, 0, 0, 0, 0, 0, 0, 0, 0, 0, 0, 0, 0]])\n",
    "\n",
    "\n",
    "for _ in range(500): \n",
    "    X = get_next_state(X)\n",
    "    show_matrix(X)"
   ]
  }
 ],
 "metadata": {
  "kernelspec": {
   "display_name": "Python 3",
   "language": "python",
   "name": "python3"
  },
  "language_info": {
   "codemirror_mode": {
    "name": "ipython",
    "version": 3
   },
   "file_extension": ".py",
   "mimetype": "text/x-python",
   "name": "python",
   "nbconvert_exporter": "python",
   "pygments_lexer": "ipython3",
   "version": "3.5.1"
  }
 },
 "nbformat": 4,
 "nbformat_minor": 2
}
