{
 "cells": [
  {
   "cell_type": "code",
   "execution_count": 1,
   "metadata": {},
   "outputs": [],
   "source": [
    "# Import libraries\n",
    "import numpy as np\n",
    "import matplotlib.pyplot as plt\n",
    "from PIL import Image\n",
    "from scipy import misc"
   ]
  },
  {
   "cell_type": "markdown",
   "metadata": {},
   "source": [
    "# Check if a given image crop is taken from a given image\n",
    "\n",
    "An image crop is a part of a bigger image that is produced from the bigger image without altering the individual pixel intensities. In this particular problem, you will be given the bigger image and the crop and you will have to determine if the crop has been taken from the bigger image or not. Accordingly, you have to return a boolean value from the function that you fill up.\n",
    "\n",
    "** Use numpy to load the images in matrices **\n",
    "\n",
    "_Note: Images can be gray-scale or RGB images_\n"
   ]
  },
  {
   "cell_type": "code",
   "execution_count": 2,
   "metadata": {
    "collapsed": true
   },
   "outputs": [],
   "source": [
    "# crop contains the numpy array of the cropped image\n",
    "# img contains the original image\n",
    "# write the code to check if \"crop\" is cropped out out of \"img\" \n",
    "def cropChecker(crop, img):\n",
    "    ##########################################################\n",
    "                        #Your Code Here#\n",
    "        \n",
    "    r1=img.shape[0]                  # dimension 1 of crop\n",
    "    c1=img.shape[1]                  # dimension 2 of crop\n",
    "    r2=crop.shape[0]                 # dimension 1 of image\n",
    "    c2=crop.shape[1]                 # dimension 2 of image\n",
    "    for i in range(r1-r2+1):         # checking out if the crop matches\n",
    "        for j in range(c1-c2+1):     # any of the different possible sub-images from the image \n",
    "            temp=img[i:(i+r2),j:(j+c2),:]-crop    # taking the differnce of the sub-image and the crop\n",
    "            sm=0                                   \n",
    "            for k in range(r2):            # set of\n",
    "                for l in range(c2):        # loops to\n",
    "                    for m in range(3):     # check if\n",
    "                        sm+=temp[k][l][m]  # all the pixels of the sub-image match the crop\n",
    "                        if(sm==0):         # if sum==0 \n",
    "                            return True    # crop found; return True\n",
    "   ##########################################################\n",
    "                                \n",
    "    return False                      # crop not found"
   ]
  },
  {
   "cell_type": "markdown",
   "metadata": {},
   "source": [
    "_Note: Kindly upload data locally and change the paths in readImagesnCheck() function_"
   ]
  },
  {
   "cell_type": "code",
   "execution_count": 3,
   "metadata": {},
   "outputs": [
    {
     "name": "stdout",
     "output_type": "stream",
     "text": [
      "False\n"
     ]
    }
   ],
   "source": [
    "# load the images by using Data tab and Upload at the top. Then copy the paths from the upload status bar\n",
    "# and pass them as parameters to Image.open() function\n",
    "def readImagesNCheck():\n",
    "        img=misc.imread(\"images/dog.jpg\")\n",
    "        crop=misc.imread(\"images/equation.jpg\")  #loading a non-crop image\n",
    "        x_lim1=160 \n",
    "        x_lim2=360 \n",
    "        y_lim1=40\n",
    "        y_lim2=180\n",
    "        take_crop=False                   #set this to True if you want to create a crop with the above dimensions and check with the crop \n",
    "        if take_crop:\n",
    "                crop=img[x_lim1:x_lim2,y_lim1:y_lim2,:]   #creating a crop\n",
    "                misc.imsave(\"images/dog_cropped2.jpg\",crop)   #saving a crop as an image\n",
    "        val=cropChecker(crop, img)\n",
    "        print(val)\n",
    "readImagesNCheck()"
   ]
  }
 ],
 "metadata": {
  "kernelspec": {
   "display_name": "Python 3",
   "language": "python",
   "name": "python3"
  },
  "language_info": {
   "codemirror_mode": {
    "name": "ipython",
    "version": 3
   },
   "file_extension": ".py",
   "mimetype": "text/x-python",
   "name": "python",
   "nbconvert_exporter": "python",
   "pygments_lexer": "ipython3",
   "version": "3.5.1"
  }
 },
 "nbformat": 4,
 "nbformat_minor": 2
}
