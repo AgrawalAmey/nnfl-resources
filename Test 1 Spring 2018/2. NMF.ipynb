{
 "cells": [
  {
   "cell_type": "markdown",
   "metadata": {
    "deletable": false,
    "editable": false,
    "nbgrader": {
     "checksum": "28349626b471b3862d9cae09af8c2fa7",
     "grade": false,
     "grade_id": "cell-3f2bcc7da27dede0",
     "locked": true,
     "schema_version": 1,
     "solution": false
    }
   },
   "source": [
    "## 2. Non-Negative Matrix Factorization\n",
    "\n",
    "### Marks: 6\n"
   ]
  },
  {
   "cell_type": "markdown",
   "metadata": {
    "deletable": false,
    "editable": false,
    "nbgrader": {
     "checksum": "f66c8982b537d8fe3fb5c3e90bbcdf28",
     "grade": false,
     "grade_id": "cell-2d1543a83ccb70fb",
     "locked": true,
     "schema_version": 1,
     "solution": false
    }
   },
   "source": [
    "Non-negative matrix factorization is a popular unsupervised learning algorithm used for clustering, deconvolution and generating a lower-level representation of the data. In this problem you have to implement the classical multiplicative update rules proposed by Lee and Seung in 2001 (NIPS) to the solve the factorization problem."
   ]
  },
  {
   "cell_type": "markdown",
   "metadata": {
    "deletable": false,
    "editable": false,
    "nbgrader": {
     "checksum": "fc56aaa284d5f05f25bb2cd9a047163b",
     "grade": false,
     "grade_id": "cell-6d340c7f60690811",
     "locked": true,
     "schema_version": 1,
     "solution": false
    }
   },
   "source": [
    "### Problem:\n",
    "\n",
    "Given a non-negative matrix $V \\in m \\times n $, the goal is to determine two non-negative factors of a lower rank $k$, i.e.  $W \\in m \\times k $ and $H \\in k \\times n$ such that:\n",
    "\n",
    "$$ V \\approx WH $$\n",
    "\n",
    "To determine the matrices $W$ and $H$, one of the most common approaches is to minimize the frobenius norm between the original matrix and the reconstructed matrix, under the non-negativity constraint:\n",
    "\n",
    "$$ \\left \\| V-WH \\right \\|^{2}  \\ \\ \\ \\ s.t. \\ \\ V,W,H \\geq  0$$\n",
    "\n"
   ]
  },
  {
   "cell_type": "markdown",
   "metadata": {
    "deletable": false,
    "editable": false,
    "nbgrader": {
     "checksum": "3b1791363c916c9edbef024088d0de69",
     "grade": false,
     "grade_id": "cell-b2880e79ee23bd6c",
     "locked": true,
     "schema_version": 1,
     "solution": false
    }
   },
   "source": [
    "### Task:\n",
    "\n",
    "Your task in this question is only to implement the update rules for the above constrained problem. To minimize the frobenius norm under the given constraints, Lee and Seung proposed the following multiplicative update rules to update the matrices $W$ and $H$:\n",
    "\n",
    "\n",
    "$$ W \\leftarrow W \\ast   \\frac{(VH^T)}{(WHH^T)} $$\n",
    "\n",
    "$$ H \\leftarrow H \\ast \\frac{(W^TV)}{(W^TWH)} $$\n",
    "\n",
    "where $\\ast$ denotes element-wise multiplication. The division operation is element-wise and $AB$ denotes matrix multiplication between $A$ and $B$. \n",
    "\n",
    "To solve the non-negative matrix factorization problem we generally initialize matrices $W$ and $H$ randomly according to the required lower rank $k$ and then apply the update rules iteratively until convergence.\n"
   ]
  },
  {
   "cell_type": "code",
   "execution_count": null,
   "metadata": {
    "collapsed": true,
    "deletable": false,
    "editable": false,
    "nbgrader": {
     "checksum": "9a0402e2a5fe6adbab31246fe99185e9",
     "grade": false,
     "grade_id": "cell-798121ad3962b8af",
     "locked": true,
     "schema_version": 1,
     "solution": false
    }
   },
   "outputs": [],
   "source": [
    "# Import libraries \n",
    "import numpy as np\n",
    "import numpy.linalg as LA\n"
   ]
  },
  {
   "cell_type": "code",
   "execution_count": 1,
   "metadata": {
    "collapsed": true,
    "deletable": false,
    "editable": false,
    "nbgrader": {
     "checksum": "80c8c74daaad011b2061c2b21d656d57",
     "grade": false,
     "grade_id": "cell-4aecfbd7efd9ddaf",
     "locked": true,
     "schema_version": 1,
     "solution": false
    }
   },
   "outputs": [],
   "source": [
    "# Base Function\n",
    "# You do not have to modify this\n",
    "\n",
    "def compute_NMF(V,W,H):\n",
    "    \"\"\"\n",
    "    Given the matrices V and randomly initialized W and H, this function calls the functions \n",
    "    for updates rules iteratively and returns the updated matrices W, H and the frobenius error.\n",
    "    \"\"\"\n",
    "\n",
    "    for i in range(50):\n",
    "        W = update_W(V,W,H)\n",
    "        H = update_H(V,W,H)\n",
    "\n",
    "    error= LA.norm(V - np.dot(W,H))\n",
    "\n",
    "    return W,H,error"
   ]
  },
  {
   "cell_type": "markdown",
   "metadata": {
    "deletable": false,
    "editable": false,
    "nbgrader": {
     "checksum": "8ccb371667e41318937fce8bb4071190",
     "grade": false,
     "grade_id": "cell-92f13f8cd8b3ba8f",
     "locked": true,
     "schema_version": 1,
     "solution": false
    }
   },
   "source": [
    "### Part 1 : Implement update rules for W"
   ]
  },
  {
   "cell_type": "code",
   "execution_count": null,
   "metadata": {
    "collapsed": true,
    "deletable": false,
    "nbgrader": {
     "checksum": "2f5c3a006e7c0e44e3a8a148f86b4e68",
     "grade": false,
     "grade_id": "Update_W",
     "locked": false,
     "schema_version": 1,
     "solution": true
    }
   },
   "outputs": [],
   "source": [
    "def update_W(V,W,H):\n",
    "    \"\"\"\n",
    "    Implement the update rules for W, given the matrices W, H and V\n",
    "    Parameters : Matrices V, W and H\n",
    "    Output: Matrix W with updated Values    \n",
    "    \"\"\"\n",
    "\n",
    "    \n",
    "    # YOUR CODE HERE\n",
    "    raise NotImplementedError()\n",
    "    \n",
    "    return W"
   ]
  },
  {
   "cell_type": "markdown",
   "metadata": {
    "deletable": false,
    "editable": false,
    "nbgrader": {
     "checksum": "8cdf11d9031e2b73781bc9c8a5ec1126",
     "grade": false,
     "grade_id": "cell-86d64db14882fefd",
     "locked": true,
     "schema_version": 1,
     "solution": false
    }
   },
   "source": [
    "### Part 2 : Implement update rules for H"
   ]
  },
  {
   "cell_type": "code",
   "execution_count": null,
   "metadata": {
    "collapsed": true,
    "deletable": false,
    "nbgrader": {
     "checksum": "4cf19d641811e497f5291291bfef8566",
     "grade": false,
     "grade_id": "Update_H",
     "locked": false,
     "schema_version": 1,
     "solution": true
    }
   },
   "outputs": [],
   "source": [
    "def update_H(V,W,H):\n",
    "    \"\"\"\n",
    "    Implement the update rules for H, given the matrices W, H and V\n",
    "    Parameters : Matrices V, W and H\n",
    "    Output: Matrix H with updated Values\n",
    "    \n",
    "    \"\"\"\n",
    "    \n",
    "    \n",
    "    # YOUR CODE HERE\n",
    "    raise NotImplementedError()\n",
    "    \n",
    "    return H"
   ]
  },
  {
   "cell_type": "code",
   "execution_count": null,
   "metadata": {
    "collapsed": true,
    "deletable": false,
    "editable": false,
    "nbgrader": {
     "checksum": "2386bff7516048ea8b61dd55cfb52ca8",
     "grade": true,
     "grade_id": "case_1",
     "locked": true,
     "points": 0,
     "schema_version": 1,
     "solution": false
    }
   },
   "outputs": [],
   "source": [
    "print(\"Running base test case 1...\\n\")\n",
    "V= np.array(  [[ 51.,  84.,  86.,  67.,  11.],\n",
    "               [ 57.,  37.,  62.,  87.,   6.],\n",
    "               [ 31.,  10.,  79.,  39.,  85.],\n",
    "               [ 84.,  59.,  46.,  80.,  36.],\n",
    "               [ 77.,  58.,  28.,  94.,  69.]])\n",
    "\n",
    "W = np.array( [[  5.,   8.,  19.],\n",
    "               [ 46.,   9.,  31.],\n",
    "               [ 19.,   2.,  14.],\n",
    "               [ 41.,  16.,   5.],\n",
    "               [ 20.,  38.,   6.]])\n",
    "\n",
    "H = np.array( [[ 34.,  34.,  43.,   3.,   6.],\n",
    "               [ 33.,  18.,  15.,  29.,   9.],\n",
    "               [  2.,  22.,   3.,   4.,   6.]])\n",
    "\n",
    "ans_W = np.array( [[ 0.08544129,  0.64652928,  3.38656155],\n",
    "                   [ 0.17424102,  0.9338013 ,  1.89953141],\n",
    "                   [ 2.30985524,  0.0704793 ,  0.14674537],\n",
    "                   [ 0.59893525,  1.35729956,  0.91280561],\n",
    "                   [ 1.13200231,  1.5201163 ,  0.01445199]])\n",
    "\n",
    "ans_H = np.array( [[  1.11310981e+01,   3.68721639e+00,   3.08251281e+01, 1.42221620e+01,   3.79139869e+01],\n",
    "                   [  4.66804619e+01,   3.05525948e+01,   1.64087722e+00, 5.09355415e+01,   1.11386279e+01],\n",
    "                   [  6.28131421e+00,   1.53952944e+01,   2.55431038e+01, 1.14672560e+01,   5.64956239e-09]])\n",
    "\n",
    "\n",
    "error= LA.norm(V-np.dot(W,H))\n",
    "print(\"Initial Frobenius Error: \" + str(error))\n",
    "W, H, error = compute_NMF(V,W,H)\n",
    "print(\"Final Frobenius Error: \" + str(error))\n",
    "\n",
    "assert LA.norm(W - ans_W) < 10**-5\n",
    "assert LA.norm(H - ans_H) < 10**-5\n",
    "\n",
    "print(\"\\nBase test case 1 successful!!\")"
   ]
  },
  {
   "cell_type": "code",
   "execution_count": null,
   "metadata": {
    "collapsed": true,
    "deletable": false,
    "editable": false,
    "nbgrader": {
     "checksum": "087ee90a472a9e711742b8759ccc6e58",
     "grade": true,
     "grade_id": "case_2",
     "locked": true,
     "points": 0,
     "schema_version": 1,
     "solution": false
    }
   },
   "outputs": [],
   "source": [
    "print(\"Running base test case 2...\\n\")\n",
    "\n",
    "V= np.load('./inputs/V_2.npy')\n",
    "W= np.load('./inputs/W_2.npy')\n",
    "H= np.load('./inputs/H_2.npy')\n",
    "ans_W= np.load('./inputs/W_2_ans.npy')\n",
    "ans_H= np.load('./inputs/H_2_ans.npy')\n",
    "\n",
    "\n",
    "\n",
    "error= LA.norm(V-np.dot(W,H))\n",
    "print(\"Initial Frobenius Error: \" + str(error))\n",
    "W, H, error = compute_NMF(V,W,H)\n",
    "print(\"Final Frobenius Error: \" + str(error))\n",
    "\n",
    "assert LA.norm(W - ans_W) < 10**-5\n",
    "assert LA.norm(H - ans_H) < 10**-5\n",
    "\n",
    "print(\"\\nBase test case 2 successful!!\")"
   ]
  },
  {
   "cell_type": "code",
   "execution_count": null,
   "metadata": {
    "collapsed": true,
    "deletable": false,
    "editable": false,
    "nbgrader": {
     "checksum": "593a3410d8586632f984c1da8385d73f",
     "grade": true,
     "grade_id": "case_3",
     "locked": true,
     "points": 6,
     "schema_version": 1,
     "solution": false
    }
   },
   "outputs": [],
   "source": [
    "# RUNNING HIDDEN TEST CASE"
   ]
  }
 ],
 "metadata": {
  "kernelspec": {
   "display_name": "Python 2",
   "language": "python",
   "name": "python2"
  }
 },
 "nbformat": 4,
 "nbformat_minor": 1
}
