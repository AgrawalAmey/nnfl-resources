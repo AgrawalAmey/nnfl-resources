{
 "cells": [
  {
   "cell_type": "markdown",
   "metadata": {
    "deletable": false,
    "editable": false,
    "nbgrader": {
     "checksum": "f53dcd050cd888e1530f0299f8ac00c0",
     "grade": false,
     "grade_id": "cell-b33b915606011135",
     "locked": true,
     "schema_version": 1,
     "solution": false
    }
   },
   "source": [
    "# 3. Nearest Redi Problem\n",
    "### Marks : 8\n",
    "In a hypothetical $n$-dimensional universe, there exists $p$ population of a particular species of human, Homo BITSians. These species like to hangout in specialized eateries, called Redi. In this universe, there are $q$ Redis which serve delicious snacks and beverages at nominal prices. Our task is to find the nearest Redi from each of the Homo BITSians so that they spend less time on commuting. Another part of the probelem is to give the number of Redis inside a radius of $r$ metres from each Homo BITSians which will help them to hangout in as many Redis as possible.\n",
    "### Problem :\n",
    "Matrices, $X \\in p \\times n$ and $Y \\in q \\times n$, which has the co-ordinates of $p$ Homo BITSians and $q$ Redis respectively in the $n$-dimensional universe are given. The $i^{th}$ row in the matrix, $X$, corresponds to the $i^{th}$ Homo BITSian. Similarly, the $i^{th}$ row in the matrix, $Y$, corresponds to the $i^{th}$ Redi.\n",
    "\n",
    "**Note**: Here, row numbering (indexing) starts from $0$.\n",
    "### Task:\n",
    "In this question there are two tasks which need to completed :\n",
    "1. Given $X$, $Y$, find a vector, $V$, of length $p$. The vector, $V$, is such that the $i^{th}$ element of $V$ has the index of the nearest Redi from the $i^{th}$ Homo BITSian.\n",
    "\n",
    "2. Given $X$, $Y$ and $r$, find a vector, $W$, of length $p$. The vector, $W$, is such that the $i^{th}$ element of $W$ has the number of Redis inside a radius of $r$ (strictly less than), centered at the $i^{th}$ Homo BITSian.\n",
    "\n",
    "\n",
    "Distance metric is the usual $l_2$-norm.\n",
    "In a n-dimensional space with points $x = (x_0, x_0, \\ldots, x_{n-1})$ and $y = (y_0, y_0, \\ldots, y_{n-1})$, the distance can be calculated as:\n",
    "\n",
    "$$D_{xy}^2 = (x_0 - y_0)^2 \n",
    "+ (x_1 - y_1)^2 + \\ldots + (x_{n-1} - y_{n-1})^2$$"
   ]
  },
  {
   "cell_type": "code",
   "execution_count": null,
   "metadata": {
    "deletable": false,
    "editable": false,
    "nbgrader": {
     "checksum": "6f679a8a52f87e1ae551d2cbb81f2b58",
     "grade": false,
     "grade_id": "cell-d5d19853f92009d9",
     "locked": true,
     "schema_version": 1,
     "solution": false
    }
   },
   "outputs": [],
   "source": [
    "import numpy as np"
   ]
  },
  {
   "cell_type": "markdown",
   "metadata": {
    "deletable": false,
    "editable": false,
    "nbgrader": {
     "checksum": "734735872c9e75046ce64016ad77233e",
     "grade": false,
     "grade_id": "cell-1cabb5fad0128a8a",
     "locked": true,
     "schema_version": 1,
     "solution": false
    }
   },
   "source": [
    "### Part 1: Find the index of the nearest Redi from each Homo BITSian"
   ]
  },
  {
   "cell_type": "code",
   "execution_count": null,
   "metadata": {
    "deletable": false,
    "nbgrader": {
     "checksum": "ad91ad9e6977d3bc4a0d418838d3419b",
     "grade": false,
     "grade_id": "distances",
     "locked": false,
     "schema_version": 1,
     "solution": true
    }
   },
   "outputs": [],
   "source": [
    "# Base Distance Function to be completed by the student\n",
    "\n",
    "def distances(X,Y):\n",
    "    \"\"\"\n",
    "    Given matrices X and Y, the function returns a distance matrix. \n",
    "    The (i,j)th element of the matrix contains the distance of jth Redi \n",
    "    from the ith Homo BITSian.\n",
    "    \n",
    "    Parameters: X,Y\n",
    "    Returns: D\n",
    "    \"\"\"\n",
    "    \n",
    "    # YOUR CODE HERE\n",
    "    raise NotImplementedError()\n",
    "    \n",
    "    return D"
   ]
  },
  {
   "cell_type": "code",
   "execution_count": null,
   "metadata": {
    "deletable": false,
    "nbgrader": {
     "checksum": "ca8840bb27a5a9cf392a6d44c48d770b",
     "grade": false,
     "grade_id": "nearest_redi",
     "locked": false,
     "schema_version": 1,
     "solution": true
    }
   },
   "outputs": [],
   "source": [
    "def nearest_redi(X,Y):\n",
    "    \"\"\"\n",
    "    Given matrices X and Y, the function returns a nearest redi vector. \n",
    "    The i-th element of the vector contains the index of nearest Redi \n",
    "    from the ith Homo BITSian.\n",
    "    \n",
    "    Parameters: X,Y\n",
    "    Returns: V\n",
    "    \"\"\"\n",
    "    \n",
    "    D = distances(X,Y)\n",
    "    \n",
    "    # YOUR CODE HERE\n",
    "    raise NotImplementedError()\n",
    "    \n",
    "    return V"
   ]
  },
  {
   "cell_type": "code",
   "execution_count": null,
   "metadata": {
    "deletable": false,
    "editable": false,
    "nbgrader": {
     "checksum": "9f83814096b57f21cf0c46188263d462",
     "grade": true,
     "grade_id": "visible-task1",
     "locked": true,
     "points": 0,
     "schema_version": 1,
     "solution": false
    }
   },
   "outputs": [],
   "source": [
    "print(\"Running base test case 1...\")\n",
    "\n",
    "X_test1 = np.array([[-3.,  4.],\n",
    "                    [ 4., -2.],\n",
    "                    [-1.,  0.]])\n",
    "\n",
    "Y_test1 = np.array([[-3.,  0.],\n",
    "                    [-3., -3.]])\n",
    "\n",
    "V_test1 = nearest_redi(X_test1, Y_test1)\n",
    "V_ans_test1 = np.array([0, 1, 0])\n",
    "\n",
    "assert np.array_equal(V_test1, V_ans_test1)\n",
    "\n",
    "print(\"Base test case 1 successful!!\\n\")\n",
    "\n",
    "\n",
    "\n",
    "print(\"Running base test case 2...\")\n",
    "\n",
    "X_test2 = np.array([[ 0.08170274, -4.8955951 , -4.0473417 ],\n",
    "                    [-1.13259313,  4.38171415, -3.22068891]])\n",
    "\n",
    "Y_test2 = np.array([[ 3.79010736,  1.70042849, -3.06603884],\n",
    "                    [ 3.8921235 , -1.85207272,  2.33340715],\n",
    "                    [ 1.67360485,  2.11437547,  0.87529999]])\n",
    "\n",
    "V_test2 = nearest_redi(X_test2, Y_test2)\n",
    "V_ans_test2 = np.array([0, 2])\n",
    "\n",
    "assert np.array_equal(V_test2, V_ans_test2)\n",
    "\n",
    "print(\"Base test case 2 successful!!\\n\")"
   ]
  },
  {
   "cell_type": "code",
   "execution_count": null,
   "metadata": {
    "deletable": false,
    "editable": false,
    "nbgrader": {
     "checksum": "b34cdb01ea7c0a8eb1518c430e24d033",
     "grade": true,
     "grade_id": "hidden-task1",
     "locked": true,
     "points": 5,
     "schema_version": 1,
     "solution": false
    }
   },
   "outputs": [],
   "source": [
    "# Running hidden test case for Part 1. Don't edit the cell.                                     *** 5 marks ***"
   ]
  },
  {
   "cell_type": "markdown",
   "metadata": {
    "deletable": false,
    "editable": false,
    "nbgrader": {
     "checksum": "e3f22a4aa673b9dd30410c1a0a75937e",
     "grade": false,
     "grade_id": "cell-382db5af9c26c68e",
     "locked": true,
     "schema_version": 1,
     "solution": false
    }
   },
   "source": [
    "### Part 2: Find the number of Redis inside a radius of $r$ from each Homo BITSian"
   ]
  },
  {
   "cell_type": "code",
   "execution_count": null,
   "metadata": {
    "deletable": false,
    "nbgrader": {
     "checksum": "aff18ab0ace5a387975b165aea1fb448",
     "grade": false,
     "grade_id": "num_redis",
     "locked": false,
     "schema_version": 1,
     "solution": true
    }
   },
   "outputs": [],
   "source": [
    "def num_redis(X,Y,r):\n",
    "    \"\"\"\n",
    "    Given matrices X and Y, the function returns a vector, where the i-th element \n",
    "    of the vector contains the number of Redis inside a radius of r,\n",
    "    centered at the i-th Homo BITSian.\n",
    "    \n",
    "    Parameters: X,Y,r\n",
    "    Returns: W\n",
    "    \"\"\"\n",
    "    \n",
    "    D = distances(X,Y)\n",
    "    \n",
    "    # YOUR CODE HERE\n",
    "    raise NotImplementedError()\n",
    "    \n",
    "    return W"
   ]
  },
  {
   "cell_type": "code",
   "execution_count": null,
   "metadata": {
    "deletable": false,
    "editable": false,
    "nbgrader": {
     "checksum": "dfc322ae5c899c64f5e65b418cc4818d",
     "grade": true,
     "grade_id": "visible-task2",
     "locked": true,
     "points": 0,
     "schema_version": 1,
     "solution": false
    }
   },
   "outputs": [],
   "source": [
    "print(\"Running base test case 1...\")\n",
    "\n",
    "W_test1 = num_redis(X_test1, Y_test1, 5.)\n",
    "W_ans_test1 = np.array([1, 0, 2])\n",
    "\n",
    "assert np.array_equal(W_test1, W_ans_test1)\n",
    "\n",
    "print(\"Base test case 1 successful!!\\n\")\n",
    "\n",
    "\n",
    "\n",
    "print(\"Running base test case 2...\")\n",
    "\n",
    "W_test2 = num_redis(X_test2, Y_test2, 8.)\n",
    "W_ans_test2 = np.array([1, 2])\n",
    "\n",
    "assert np.array_equal(W_test2, W_ans_test2)\n",
    "\n",
    "print(\"Base test case 2 successful!!\\n\")"
   ]
  },
  {
   "cell_type": "code",
   "execution_count": null,
   "metadata": {
    "deletable": false,
    "editable": false,
    "nbgrader": {
     "checksum": "a1cb8e2669e72bdcda983d8ebcc1f3cb",
     "grade": true,
     "grade_id": "hidden_task2",
     "locked": true,
     "points": 3,
     "schema_version": 1,
     "solution": false
    }
   },
   "outputs": [],
   "source": [
    "# Running hidden test case for Part 2. Don't edit the cell.                                     *** 3 marks ***"
   ]
  }
 ],
 "metadata": {
  "kernelspec": {
   "display_name": "Python 3",
   "language": "python",
   "name": "python3"
  },
  "language_info": {
   "codemirror_mode": {
    "name": "ipython",
    "version": 3
   },
   "file_extension": ".py",
   "mimetype": "text/x-python",
   "name": "python",
   "nbconvert_exporter": "python",
   "pygments_lexer": "ipython3",
   "version": "3.6.3"
  }
 },
 "nbformat": 4,
 "nbformat_minor": 2
}
