{
 "cells": [
  {
   "cell_type": "markdown",
   "metadata": {},
   "source": [
    "Make sure you fill in any place that says `YOUR CODE HERE` or \"YOUR ANSWER HERE\", as well as your name and collaborators below:"
   ]
  },
  {
   "cell_type": "code",
   "execution_count": null,
   "metadata": {
    "collapsed": true,
    "deletable": false,
    "editable": false,
    "nbgrader": {
     "checksum": "a7b8639f5507e538da9ab32401a00558",
     "grade": false,
     "grade_id": "cell-36f5c1ecda2be90b",
     "locked": true,
     "schema_version": 1,
     "solution": false
    }
   },
   "outputs": [],
   "source": [
    "# Import libraries \n",
    "import numpy as np"
   ]
  },
  {
   "cell_type": "markdown",
   "metadata": {
    "deletable": false,
    "editable": false,
    "nbgrader": {
     "checksum": "53c1e5ced0ba8596ad4cb05b0c40d650",
     "grade": false,
     "grade_id": "cell-241d653226e6b47b",
     "locked": true,
     "schema_version": 1,
     "solution": false
    }
   },
   "source": [
    " # The Convolution Conundrum\n",
    "\n",
    "Convolutions are the fundamental operations that are performed in a Convolutional Neural Network. This question aims to realise these operations using our knowledge of numpy.\n",
    "\n",
    "Refer to the figure below which illustrates how a convolution is performed. The explanation goes as follows:-\n",
    "\n",
    "1. The kernel window (the yellow matrix) is superimposed over the 3x3 region in the source matrix and a dot product is computed between the values in the kernel and corresponding values in the source matrix.\n",
    "\n",
    "NOTE: Dot product is computed between 2 matrices A and B as follows:-\n",
    "      Multiply each element in A with the corresponding element in B.\n",
    "      The Dot product is the sum of all these products.\n",
    "\n",
    "2. Now the kernel is shifted to the right by one position and the operation described above is performed again to obtain another dot product value. \n",
    "\n",
    "3. This right shift happens continuously so long as the kernel does not cross the matrix bounds.\n",
    "\n",
    "4. Once the kernel reaches the right most position possible for a given row it jumps to the leftmost position possible in the next row and starts moving right again, computing dot products along the way. Note that at no point does the kernel go outside the source matrix bounds. \n",
    "\n",
    "Before Convolution, it is common to perform Zero Padding on the source matrix as an additional operation in order to preserve the size of the source matrix after the convolution. Zero padding involves attaching rows and columns of zeros on all four sides of the source matrix. The number of rows and columns to attach depends on the kernel size and the desired output size and it is easy to think why. \n",
    "\n",
    "# Task\n",
    "\n",
    "The task is divied into two sections:-\n",
    "1. Perform appropriate Zero Padding on the imput image so as to obtain output of same size as original input matrix.\n",
    "2. Perform the convolution operation on the matrix obtained after padding. The kernel is provided as a function parameter. Assume kernel dimension is an odd number.\n",
    "\n",
    "\n",
    "\n",
    "# Marking \n",
    "\n",
    "You will be marked on the hidden test cases.  \n",
    "Marks will be awarded for Zero Padding and Convolution seperately.  \n",
    "4 marks for Zero Padding  \n",
    "6 marks for Convolution\n"
   ]
  },
  {
   "cell_type": "markdown",
   "metadata": {
    "deletable": false,
    "editable": false,
    "nbgrader": {
     "checksum": "b418511ad3e33924a8bdb7af40b16759",
     "grade": false,
     "grade_id": "cell-049e1039040f6440",
     "locked": true,
     "schema_version": 1,
     "solution": false
    }
   },
   "source": [
    "# CONVOLUTION"
   ]
  },
  {
   "cell_type": "markdown",
   "metadata": {
    "deletable": false,
    "editable": false,
    "nbgrader": {
     "checksum": "78ca7b3508639f9774e0f0cdc829529a",
     "grade": false,
     "grade_id": "cell-d971bd7ac3e93838",
     "locked": true,
     "schema_version": 1,
     "solution": false
    }
   },
   "source": [
    "![](./images/conv1.gif)"
   ]
  },
  {
   "cell_type": "markdown",
   "metadata": {
    "deletable": false,
    "editable": false,
    "nbgrader": {
     "checksum": "64300605c2da32ecf5b9609cf6ae05a6",
     "grade": false,
     "grade_id": "cell-166b1b028cd8f3a6",
     "locked": true,
     "schema_version": 1,
     "solution": false
    }
   },
   "source": [
    "# ZERO PADDING EXAMPLE"
   ]
  },
  {
   "cell_type": "markdown",
   "metadata": {
    "deletable": false,
    "editable": false,
    "nbgrader": {
     "checksum": "df314e8947da4fa6fbf340c50ca43d21",
     "grade": false,
     "grade_id": "cell-76de239e56877569",
     "locked": true,
     "schema_version": 1,
     "solution": false
    }
   },
   "source": [
    "![](./images/arbitrary_padding_no_strides.gif) "
   ]
  },
  {
   "cell_type": "code",
   "execution_count": null,
   "metadata": {
    "collapsed": true,
    "deletable": false,
    "nbgrader": {
     "checksum": "fb8dcd01fe62d018c7440097e955a6de",
     "grade": false,
     "grade_id": "cell-d188d2d47db02790",
     "locked": false,
     "schema_version": 1,
     "solution": true
    }
   },
   "outputs": [],
   "source": [
    "def zero_pad(img, kernel):\n",
    "    \n",
    "    \"\"\" Both img and kernel are square matrices.\n",
    "        Define a matrix zero_padded_img with appropriate size.\n",
    "        zero_padded_img is returned by the function.\n",
    "        Assume kernel dimension is an odd number. \"\"\"\n",
    "    \n",
    "    # YOUR CODE HERE\n",
    "    raise NotImplementedError()\n",
    "    \n",
    "    return zero_padded_img"
   ]
  },
  {
   "cell_type": "code",
   "execution_count": null,
   "metadata": {
    "collapsed": true,
    "deletable": false,
    "nbgrader": {
     "checksum": "e762ebd337a70d6763bb5fd42e337544",
     "grade": false,
     "grade_id": "cell-50fdca5027f11d90",
     "locked": false,
     "schema_version": 1,
     "solution": true
    }
   },
   "outputs": [],
   "source": [
    "def convolve_image(img, kernel):\n",
    "    \"\"\" Both img and kernel are square matrices.\n",
    "        Assume kernel dimension is an odd number. \"\"\"\n",
    "    \n",
    "    ans_img = np.zeros_like(img)\n",
    "    \n",
    "    # YOUR CODE HERE\n",
    "    raise NotImplementedError()\n",
    "    \n",
    "    return ans_img"
   ]
  },
  {
   "cell_type": "code",
   "execution_count": null,
   "metadata": {
    "collapsed": true,
    "deletable": false,
    "editable": false,
    "nbgrader": {
     "checksum": "934dbb38e0b6df7b1d8e58441f311e51",
     "grade": true,
     "grade_id": "cell-f7b89b5d1f21381b",
     "locked": true,
     "points": 2,
     "schema_version": 1,
     "solution": false
    }
   },
   "outputs": [],
   "source": [
    "# Running Hidden Test Case..."
   ]
  },
  {
   "cell_type": "code",
   "execution_count": null,
   "metadata": {
    "collapsed": true,
    "deletable": false,
    "editable": false,
    "nbgrader": {
     "checksum": "7a7f46d19ac00a28d0d3ac4bd4f768b7",
     "grade": true,
     "grade_id": "cell-8ab150b4841868d2",
     "locked": true,
     "points": 2,
     "schema_version": 1,
     "solution": false
    }
   },
   "outputs": [],
   "source": [
    "# Running Hidden Test Case..."
   ]
  },
  {
   "cell_type": "code",
   "execution_count": null,
   "metadata": {
    "collapsed": true,
    "deletable": false,
    "editable": false,
    "nbgrader": {
     "checksum": "345c7663b532d22168857ad524b5d3cf",
     "grade": true,
     "grade_id": "cell-5925c1058171e6c7",
     "locked": true,
     "points": 3,
     "schema_version": 1,
     "solution": false
    }
   },
   "outputs": [],
   "source": [
    "# Running Hidden Test Case..."
   ]
  },
  {
   "cell_type": "code",
   "execution_count": null,
   "metadata": {
    "collapsed": true,
    "deletable": false,
    "editable": false,
    "nbgrader": {
     "checksum": "1e3cc0fa46d298507f78fa82e29e2b52",
     "grade": true,
     "grade_id": "cell-9de25b6390f5a92a",
     "locked": true,
     "points": 3,
     "schema_version": 1,
     "solution": false
    }
   },
   "outputs": [],
   "source": [
    "# Running Hidden Test Case..."
   ]
  },
  {
   "cell_type": "code",
   "execution_count": null,
   "metadata": {
    "collapsed": true,
    "deletable": false,
    "editable": false,
    "nbgrader": {
     "checksum": "ccd5a1a6c5ece80ecaa931115153c7e2",
     "grade": false,
     "grade_id": "cell-f374cae0da12e489",
     "locked": true,
     "schema_version": 1,
     "solution": false
    }
   },
   "outputs": [],
   "source": [
    "print(\"Running base test case 1...\")\n",
    "img_test1 = np.array([[1, 1, 1, 0, 0],\n",
    "                      [0, 1, 1, 1, 0],\n",
    "                      [0, 0, 1, 1, 1],\n",
    "                      [0, 0, 1, 1, 0],\n",
    "                      [0, 1, 1, 0, 0]])\n",
    "ker_test1 = np.array([[1, 0, 1],\n",
    "                      [0, 1, 0],\n",
    "                      [1, 0, 1]])\n",
    "test1 = convolve_image(img_test1,ker_test1)\n",
    "ans_test1 = np.array([[2, 2, 3, 1, 1],\n",
    "                      [1, 4, 3, 4, 1],\n",
    "                      [1, 2, 4, 3, 3],\n",
    "                      [1, 2, 3, 4, 1],\n",
    "                      [0, 2, 2, 1, 1]])\n",
    "assert np.array_equal(ans_test1,test1)\n",
    "print(\"Base test case 1 successful!!\")"
   ]
  },
  {
   "cell_type": "code",
   "execution_count": null,
   "metadata": {
    "collapsed": true,
    "deletable": false,
    "editable": false,
    "nbgrader": {
     "checksum": "5c0229bf3fb063d7a674e7dbd3916692",
     "grade": false,
     "grade_id": "cell-b840493fc7aadfb8",
     "locked": true,
     "schema_version": 1,
     "solution": false
    }
   },
   "outputs": [],
   "source": [
    "print(\"Running base test case 2...\")\n",
    "img_test2 = np.array([[-1, 0, 2, 2, 3, 1],\n",
    "                     [2, 1, 4, 3, 4, 1],\n",
    "                     [-3, 1, 2, 4, 3, 3],\n",
    "                     [0, 1, 2, 3, 4, 1],\n",
    "                     [4, 0, 2, 2, 1, 1],\n",
    "                     [5, 1, 3, 2, 2, 0]])\n",
    "ker_test2 = np.array([[1, 0, 1],\n",
    "                      [2, 4, 1],\n",
    "                      [2, 1, 0]])\n",
    "test2 = convolve_image(img_test2,ker_test2)\n",
    "ans_test2 = np.array([[ -2, 5,  16,  26,  27,  19],\n",
    "                      [  6, 8,  27,  37,  37,  24],\n",
    "                      [-10, 7,  22,  38,  37,  31],\n",
    "                      [  6, 13,  20,  31,  35,  18],\n",
    "                      [ 22, 23,  19,  27,  19,  14],\n",
    "                      [ 21, 23,  18,  19,  15,   5]])\n",
    "assert np.array_equal(ans_test2,test2)\n",
    "print(\"Base test case 2 successful!!\")"
   ]
  },
  {
   "cell_type": "code",
   "execution_count": null,
   "metadata": {
    "collapsed": true,
    "deletable": false,
    "editable": false,
    "nbgrader": {
     "checksum": "2f1c4686504d055b8d076077271db93c",
     "grade": false,
     "grade_id": "cell-1c89fe2ba73864fa",
     "locked": true,
     "schema_version": 1,
     "solution": false
    }
   },
   "outputs": [],
   "source": [
    "print(\"Running base test case 3...\")\n",
    "img_test3 = np.array([[-1, 0, 2, 2, 3, 1, 1],\n",
    "                [2, 1, 4, 3, 4, 1, 0],\n",
    "                [-3, 1, 2, 4, 3, 3, 1],\n",
    "                [0, 1, 2, 3, 4, 1, 4],\n",
    "                [4, 0, 2, 2, 1, 1, 5],\n",
    "                [5, 1, 3, 2, 2, 0, -1],\n",
    "                [-2, 1, 0, -3, -3, 4, 0]])\n",
    "ker_test3 = np.array([[1, 0, 1, 0, 0],\n",
    "                      [2, 0, 1, 0, 1],\n",
    "                      [2, 1, 0, 1, 1],\n",
    "                      [0, 0, 2, 1, 2],\n",
    "                      [1, 0, 3, 2, 0]])\n",
    "test3 = convolve_image(img_test3,ker_test3)\n",
    "ans_test3 = np.array([[  8, 22, 33, 37, 34, 25, 13],\n",
    "                      [  7, 30, 41, 49, 47, 36, 34],\n",
    "                      [ 25, 21, 44, 38, 53, 43, 45],\n",
    "                      [ 33, 26, 39, 40, 50, 36, 29],\n",
    "                      [ 14, 25, 20,  7, 30, 32, 14],\n",
    "                      [  7,  9, 19, 13, 21, 22, 19],\n",
    "                      [ 13, -2, 12,  9, 11, -2, 7]])\n",
    "assert np.array_equal(ans_test3,test3)\n",
    "print(\"Base test case 3 successful!\")"
   ]
  }
 ],
 "metadata": {
  "kernelspec": {
   "display_name": "Python 3",
   "language": "python",
   "name": "python3"
  },
  "language_info": {
   "codemirror_mode": {
    "name": "ipython",
    "version": 2
   },
   "file_extension": ".py",
   "mimetype": "text/x-python",
   "name": "python",
   "nbconvert_exporter": "python",
   "pygments_lexer": "ipython2",
   "version": "2.7.12+"
  }
 },
 "nbformat": 4,
 "nbformat_minor": 2
}
