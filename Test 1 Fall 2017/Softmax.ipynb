{
 "cells": [
  {
   "cell_type": "markdown",
   "metadata": {},
   "source": [
    "Make sure you fill in any place that says `YOUR CODE HERE` or \"YOUR ANSWER HERE\", as well as your name and collaborators below:"
   ]
  },
  {
   "cell_type": "code",
   "execution_count": null,
   "metadata": {
    "collapsed": true,
    "deletable": false,
    "editable": false,
    "nbgrader": {
     "checksum": "8c9be7223464fe4200b44308269c2424",
     "grade": false,
     "grade_id": "cell-c44cb6c102c57efe",
     "locked": true,
     "schema_version": 1,
     "solution": false
    }
   },
   "outputs": [],
   "source": [
    "import numpy as np"
   ]
  },
  {
   "cell_type": "markdown",
   "metadata": {
    "deletable": false,
    "editable": false,
    "nbgrader": {
     "checksum": "d43c181dcc1b3f69f55e53c25063a06e",
     "grade": false,
     "grade_id": "cell-0515521a2f8bc8fb",
     "locked": true,
     "schema_version": 1,
     "solution": false
    }
   },
   "source": [
    "# Softmax Function\n",
    "The softmax function is a very important function in neural networks due to its mathemetical properties and is very widely used in various implementations of ANNs. The softmax function is defined as follows:\n",
    "![softmax_basic.png](./images/softmax_basic.png)\n",
    " But, one drawback of the direct implementation of the softmax function, as given above, is that the individual exponentiation may blow up(reach infifnity) in the presence of large positive numbers in the vector or die down(reach 0) in the presence of small negative numbers. In such case, Python will not return the correct values of the softmax. The solution to this is to subtract the maximum element of the vector from each element of the vector and then applying the softmax function over the changed vector. The new softmax value is same as the old softax value (check out for yourself) since\n",
    "![softmax_const.png](./images/softmax_const.png)\n",
    "\n",
    "This implementation of softmax is called the shifted softmax implementation.\n",
    "\n",
    "So, if we have to implement the direct softmax function on a matrix, we consider the vectors to be arranged in the form of rows and we use softmax on each row. The following are the steps for implementing softmax on a matrix\n",
    "1. Take a row and exponentiate all the elements of the row\n",
    "2. Sum up the exponentiated elements from the row\n",
    "3. Divide each element from the row by the sum. The new value of the row gives the softmax implementation over        of that particular row vector\n",
    "4. Do the same for all the rows\n",
    "\n",
    "For the shifted-softmax implementation on a matrix, the following are the steps\n",
    "1. Take a row and subtract the maximum element of the row from each element of the row\n",
    "2. Exponentiate all the elements of the row (now max-subtracted)\n",
    "3. Sum up the exponentiated elements (now max-subtracted) from the row\n",
    "4. Divide each element from the row by the sum. The new value of the row gives the softmax implementation over        of that particular row vector\n",
    "5. Do the same for all the rows\n"
   ]
  },
  {
   "cell_type": "code",
   "execution_count": null,
   "metadata": {
    "collapsed": true,
    "deletable": false,
    "nbgrader": {
     "checksum": "ae2e7e138c70f2f72cac49b3ec68855b",
     "grade": false,
     "grade_id": "cell-9add2d045f0e1010",
     "locked": false,
     "schema_version": 1,
     "solution": true
    }
   },
   "outputs": [],
   "source": [
    "#  You may find the following functions useful:\n",
    "#  np.exp, np.sum, np.reshape, np.max for this task\n",
    "def softmax_vector(x):\n",
    "    \"\"\"\n",
    "    This function computes softmax on a vector (similar to 1D array).\n",
    "\n",
    "    Please use vectorized operations and numpy broadcasting for the task\n",
    "    instead of loops to make your code efficient.\n",
    "\n",
    "\n",
    "    You should make sure that your code works for a single\n",
    "    N-dimensional vector (treat the vector as a single row). Also,\n",
    "    make sure that the dimensions of the output match the input.\n",
    "\n",
    "    Arguments:\n",
    "    x -- An N dimensional vector \n",
    "\n",
    "    Return:\n",
    "    x -- You are allowed to modify x in-place\n",
    "    \"\"\"\n",
    "    orig_shape = x.shape\n",
    "    assert len(x.shape)==1\n",
    "    # YOUR CODE HERE\n",
    "    raise NotImplementedError()\n",
    "    assert x.shape == orig_shape #checks if output shape same as input shape\n",
    "    return x"
   ]
  },
  {
   "cell_type": "code",
   "execution_count": null,
   "metadata": {
    "collapsed": true,
    "deletable": false,
    "editable": false,
    "nbgrader": {
     "checksum": "f2c2a6b99d0056d4d3925077575b9ee8",
     "grade": false,
     "grade_id": "cell-2c4220d904b5753f",
     "locked": true,
     "schema_version": 1,
     "solution": false
    }
   },
   "outputs": [],
   "source": [
    "# Running basic test 1 for softmax on vector\n",
    "test1 = softmax_vector(np.array([1,2]))\n",
    "print(test1)\n",
    "ans1 = np.array([0.26894142,  0.73105858])\n",
    "assert np.allclose(test1, ans1, rtol=1e-05, atol=1e-06)\n"
   ]
  },
  {
   "cell_type": "code",
   "execution_count": null,
   "metadata": {
    "collapsed": true,
    "deletable": false,
    "editable": false,
    "nbgrader": {
     "checksum": "641065f26da68d7a434f416333ebd774",
     "grade": true,
     "grade_id": "cell-ae6cf33fbe67fb08",
     "locked": true,
     "points": 1,
     "schema_version": 1,
     "solution": false
    }
   },
   "outputs": [],
   "source": [
    "# Running hidden test 1 for softmax on vector. Don't edit cell.   *** 1 mark ***"
   ]
  },
  {
   "cell_type": "code",
   "execution_count": null,
   "metadata": {
    "collapsed": true,
    "deletable": false,
    "editable": false,
    "nbgrader": {
     "checksum": "fa37370965c72e538bd91dd2c4228dfb",
     "grade": true,
     "grade_id": "cell-b2cdac3a253be7d6",
     "locked": true,
     "points": 1,
     "schema_version": 1,
     "solution": false
    }
   },
   "outputs": [],
   "source": [
    "# Running hidden test 2 for softmax on vector. Don't edit cell.    *** 1 mark ***"
   ]
  },
  {
   "cell_type": "code",
   "execution_count": null,
   "metadata": {
    "collapsed": true,
    "deletable": false,
    "nbgrader": {
     "checksum": "b6ead8ab5932eba4dda580c9d26454eb",
     "grade": false,
     "grade_id": "cell-9bed196cfa0cb40d",
     "locked": false,
     "schema_version": 1,
     "solution": true
    }
   },
   "outputs": [],
   "source": [
    "#   You may find the following functions useful:\n",
    "#    np.exp, np.sum, np.reshape, np.max fot this task\n",
    "def softmax_matrix(x):\n",
    "    \"\"\"\n",
    "    This function computes softmax on a matrix (similar to 2D array).\n",
    "\n",
    "    Please use vectorized operations and numpy broadcasting for the task\n",
    "    instead of loops to make your code efficient.\n",
    " \n",
    "\n",
    "    You should make sure that your code works for M x N matrices. \n",
    "    Also, make sure that the dimensions of the output match the input.\n",
    "\n",
    "\n",
    "\n",
    "    Arguments:\n",
    "    x -- An M x N dimensional numpy matrix.\n",
    "\n",
    "    Return:\n",
    "    x -- You are allowed to modify x in-place\n",
    "    \"\"\"\n",
    "    orig_shape = x.shape\n",
    "    assert len(x.shape)>1\n",
    "    # YOUR CODE HERE\n",
    "    raise NotImplementedError()\n",
    "    assert x.shape == orig_shape\n",
    "    return x   \n"
   ]
  },
  {
   "cell_type": "code",
   "execution_count": null,
   "metadata": {
    "collapsed": true,
    "deletable": false,
    "editable": false,
    "nbgrader": {
     "checksum": "514a6389a8568b6d5dd2fbd960590a4f",
     "grade": false,
     "grade_id": "cell-97f2b048c01a1183",
     "locked": true,
     "schema_version": 1,
     "solution": false
    }
   },
   "outputs": [],
   "source": [
    "# Running basic test 1 for softmax on matrix\n",
    "test2 = softmax_matrix(np.array([[1,2],[3,4]]))\n",
    "print(test2)\n",
    "ans2 = np.array([\n",
    "        [0.26894142, 0.73105858],\n",
    "        [0.26894142, 0.73105858]])\n",
    "assert np.allclose(test2, ans2, rtol=1e-05, atol=1e-06)\n",
    "\n"
   ]
  },
  {
   "cell_type": "code",
   "execution_count": null,
   "metadata": {
    "collapsed": true,
    "deletable": false,
    "editable": false,
    "nbgrader": {
     "checksum": "ae2e8e526601095e5e8f0b85a8798892",
     "grade": true,
     "grade_id": "cell-b8911453bce480ca",
     "locked": true,
     "points": 2,
     "schema_version": 1,
     "solution": false
    }
   },
   "outputs": [],
   "source": [
    "# Running hidden test 1 for softmax on matrix. Don't edit cell.   *** 2 marks ***"
   ]
  },
  {
   "cell_type": "code",
   "execution_count": null,
   "metadata": {
    "collapsed": true,
    "deletable": false,
    "editable": false,
    "nbgrader": {
     "checksum": "c8855cdab9736d3e9a0093ab0c8fe51c",
     "grade": true,
     "grade_id": "cell-bebc825a88b2bd87",
     "locked": true,
     "points": 2,
     "schema_version": 1,
     "solution": false
    }
   },
   "outputs": [],
   "source": [
    "# Running hidden test 2 for softmax on matrix. Don't edit cell.     *** 2 marks ***"
   ]
  },
  {
   "cell_type": "code",
   "execution_count": null,
   "metadata": {
    "collapsed": true,
    "deletable": false,
    "nbgrader": {
     "checksum": "7aa62cba85ae318ac033fae22549ba3e",
     "grade": false,
     "grade_id": "cell-6dc559594d8bbd6d",
     "locked": false,
     "schema_version": 1,
     "solution": true
    }
   },
   "outputs": [],
   "source": [
    "#   You may find the following functions useful:\n",
    "#    np.exp, np.sum, np.reshape, np.max for this task\n",
    "def softmax_shift(x):\n",
    "    \"\"\"\n",
    "    Compute the softmax function for each row of the input x (may be vector or matrix).\n",
    "\n",
    "    Please use vectorized operations and numpy broadcasting for the task\n",
    "    instead of loops to make your code efficient.\n",
    "\n",
    "    You should also make sure that your code works for a single\n",
    "    N-dimensional vector (treat the vector as a single row) and\n",
    "    for M x N matrices. Also,make sure that the dimensions \n",
    "    of the output match the input.\n",
    "\n",
    "    Arguments:\n",
    "    x -- A N dimensional vector or M x N dimensional numpy matrix.\n",
    "\n",
    "    Return:\n",
    "    x -- You are allowed to modify x in-place\n",
    "    \"\"\"\n",
    "    orig_shape = x.shape\n",
    "\n",
    "    if len(x.shape) > 1:\n",
    "    # YOUR CODE HERE\n",
    "    raise NotImplementedError()\n",
    "    else:\n",
    "    # YOUR CODE HERE\n",
    "    raise NotImplementedError()\n",
    "    assert x.shape == orig_shape\n",
    "    return x\n"
   ]
  },
  {
   "cell_type": "code",
   "execution_count": null,
   "metadata": {
    "collapsed": true,
    "deletable": false,
    "editable": false,
    "nbgrader": {
     "checksum": "6961130feb8c8d9908ccacc569a7ccc9",
     "grade": false,
     "grade_id": "cell-805ffcd5621a4b60",
     "locked": true,
     "schema_version": 1,
     "solution": false
    }
   },
   "outputs": [],
   "source": [
    "# Running basic test 1 for shifted-softmax on vector\n",
    "test3 = softmax_shift(np.array([-1001,-1002]))\n",
    "print(test3)\n",
    "ans3 = np.array([0.73105858, 0.26894142])\n",
    "assert np.allclose(test3, ans3, rtol=1e-05, atol=1e-06)\n",
    "\n",
    "# Running basic test 2 for shifted-softmax on matrix\n",
    "test4 = softmax_shift(np.array([[1001,1002],[3,4]]))\n",
    "print(test4)\n",
    "ans4 = np.array([\n",
    "        [0.26894142, 0.73105858],\n",
    "        [0.26894142, 0.73105858]])\n",
    "assert np.allclose(test4, ans4, rtol=1e-05, atol=1e-06)\n",
    "\n"
   ]
  },
  {
   "cell_type": "code",
   "execution_count": null,
   "metadata": {
    "collapsed": true,
    "deletable": false,
    "editable": false,
    "nbgrader": {
     "checksum": "aa55bdc732143579d3b4425c16926e62",
     "grade": true,
     "grade_id": "cell-ae2225d82f6652e0",
     "locked": true,
     "points": 2,
     "schema_version": 1,
     "solution": false
    }
   },
   "outputs": [],
   "source": [
    "# Running hidden test 1 for shifted-softmax on vector. Don't edit cell.   *** 2 marks ***"
   ]
  },
  {
   "cell_type": "code",
   "execution_count": null,
   "metadata": {
    "collapsed": true,
    "deletable": false,
    "editable": false,
    "nbgrader": {
     "checksum": "9e9524599d0ad15c7750b2607c88e270",
     "grade": true,
     "grade_id": "cell-4c95b3c38d77b85b",
     "locked": true,
     "points": 2,
     "schema_version": 1,
     "solution": false
    }
   },
   "outputs": [],
   "source": [
    "# Running hidden test 1 for shifted-softmax on matrix. Don't edit cell.   *** 2 marks ***"
   ]
  }
 ],
 "metadata": {
  "kernelspec": {
   "display_name": "Python 2",
   "language": "python",
   "name": "python2"
  },
  "language_info": {
   "codemirror_mode": {
    "name": "ipython",
    "version": 2
   },
   "file_extension": ".py",
   "mimetype": "text/x-python",
   "name": "python",
   "nbconvert_exporter": "python",
   "pygments_lexer": "ipython2",
   "version": "2.7.12+"
  }
 },
 "nbformat": 4,
 "nbformat_minor": 2
}
