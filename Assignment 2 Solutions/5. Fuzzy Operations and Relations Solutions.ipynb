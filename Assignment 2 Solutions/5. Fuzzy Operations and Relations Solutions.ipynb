{
 "cells": [
  {
   "cell_type": "code",
   "execution_count": 19,
   "metadata": {
    "collapsed": true,
    "deletable": true,
    "editable": true
   },
   "outputs": [],
   "source": [
    "import numpy as np\n",
    "from collections import defaultdict"
   ]
  },
  {
   "cell_type": "code",
   "execution_count": 20,
   "metadata": {
    "collapsed": false,
    "deletable": true,
    "editable": true
   },
   "outputs": [],
   "source": [
    "# Helper function to print a fuzzy membership function\n",
    "# The function prints the membership function in the following way:-\n",
    "# { 0.1/1 0.2/2 0.3/3 }\n",
    "\n",
    "def print_fuzzy(D):\n",
    "    print('{ ', end='')\n",
    "    for keys in D.keys():\n",
    "        print(str(D[keys]) + \"/\" + str(keys) + \" \", end='')\n",
    "    print('}')   "
   ]
  },
  {
   "cell_type": "markdown",
   "metadata": {
    "deletable": true,
    "editable": true
   },
   "source": [
    "## 1. Bold Intersection\n",
    "\n",
    "Bold Intersection is defined as:-  \n",
    "µAoB(x) = Max [0, µA(x) + µB(x) - 1]\n",
    "\n",
    "### Question 1: \n",
    "Compute AoB, where   \n",
    "A = { 0.4/1, 0.9/2, 0.9/3, 1/4 }  \n",
    "B = { 0.9/1, 0.5/2, 0.8/3  }  \n",
    "X = {1, 2, 3, 4} Universe of Discourse"
   ]
  },
  {
   "cell_type": "code",
   "execution_count": 43,
   "metadata": {
    "collapsed": false,
    "deletable": true,
    "editable": true
   },
   "outputs": [
    {
     "name": "stdout",
     "output_type": "stream",
     "text": [
      "{ 0.3/1 0.4/2 0.7/3 }\n"
     ]
    }
   ],
   "source": [
    "def fuzzy_bold_intersection(A, B):\n",
    "    # A and B are dictionaries whose keys are integers and whose values are the degrees of membership of the integers.\n",
    "    # Compute the Bold Intersection of A and B store it in a new dictionary fuzz_bu.\n",
    "    fuzz_bu = {}\n",
    "    keys = set.intersection(set(A.keys()), set(B.keys()))\n",
    "    for key in keys:\n",
    "        #To prevent zero values\n",
    "        if round(max(0, A[key] + B[key] - 1), 2) != 0:\n",
    "            fuzz_bu[key] = round(max(0, A[key] + B[key] - 1), 2)\n",
    "    return fuzz_bu\n",
    "\n",
    "# Create dictionary A\n",
    "A = {1:0.4, 2:0.9, 3:0.9, 4:1}\n",
    "# Create dictionary B\n",
    "B = {1:0.9, 2:0.5, 3:0.8}\n",
    "print_fuzzy(fuzzy_bold_intersection(A,B))"
   ]
  },
  {
   "cell_type": "markdown",
   "metadata": {
    "deletable": true,
    "editable": true
   },
   "source": [
    "## 2. Complement\n",
    "\n",
    "Complement is defined as:-  \n",
    "µA’(x) =  [1 - µA(x) ], x belongs to X,  \n",
    "where X is the Universe of Discourse\n",
    "\n",
    "### Question 2:  \n",
    "Compute C complement  \n",
    "C = { 0.2/1, 0.9/3, 0.5/4 }  \n",
    "X = {1, 2, 3, 4} Universe of Discourse\n",
    "\n"
   ]
  },
  {
   "cell_type": "code",
   "execution_count": 44,
   "metadata": {
    "collapsed": false,
    "deletable": true,
    "editable": true
   },
   "outputs": [
    {
     "name": "stdout",
     "output_type": "stream",
     "text": [
      "{ 0.8/1 1/2 0.1/3 0.5/4 }\n"
     ]
    }
   ],
   "source": [
    "def fuzzy_complement(C, X):\n",
    "    # C is a dictionary whose keys are integers and whose values are the degrees of membership of the integers.\n",
    "    # Compute the Complement of C store it in a new dictionary fuzz_comp.\n",
    "    fuzz_comp = {}\n",
    "    for x in X:\n",
    "        if x in C:\n",
    "            #To prevent 0 values\n",
    "            if C[x] is not 1:\n",
    "                fuzz_comp[x] = round(1 - C[x], 2)\n",
    "        else:\n",
    "            fuzz_comp[x] = 1\n",
    "    return fuzz_comp\n",
    "\n",
    "# Create fuzzy set C\n",
    "C = {1:0.2, 3:0.9, 4:0.5}\n",
    "X = [1, 2, 3, 4]\n",
    "\n",
    "print_fuzzy(fuzzy_complement(C, X))"
   ]
  },
  {
   "cell_type": "markdown",
   "metadata": {
    "deletable": true,
    "editable": true
   },
   "source": [
    "## 3. Addition\n",
    "\n",
    "+ Consider all possible pairs (x,y) such that x belongs to A and y belongs to B. \n",
    "+ Each pair gives rise to a new element in the set(A+B) whose value is (x+y) and corresponding membership degree is min(µA(x), µB(y)). \n",
    "+ Next eliminate all the repeating values in the set(A+B) by picking the maximum membership degree among all membership degrees for a particular value.  \n",
    "\n",
    "Here is an example:-\n",
    "\n",
    "A = 0.3/1 + 0.6/2 + 1/3 + 0.7/4 + 0.2/5  \n",
    "B = 0.5/10 + 1/11 + 0.5/12\n",
    "\n",
    "(A + B) = 0.3/11 + 0.5/12 + 0.5/13 + 0.5/14 + 0.2/15 + 0.3/12 + 0.6/13+1/14 + 0.7/15 + 0.2/16 + 0.3/13 + 0.5/14 + 0.5/15 + 0.5/16 + 0.2/17  \n",
    "\n",
    "Get the max of the duplicates, so we get,  \n",
    "(A + B) = (0.3/11) + 0.5/12 + 0.6/13 + 1/14 + 0.7/15 + 0.5/16 + 0.2/17\n",
    "\n",
    "## 4. Addition Modified:-\n",
    "\n",
    "Define a function 'fuzzy_add_mod' which takes in 3 membership functions A,B and C.  \n",
    "Modified add is defined as follows:-  \n",
    "µ(A,B,C) =  µ(AoB) +  µC'\n",
    "\n",
    "### Question 3: \n",
    "Compute Add_modified(A,B,C)   \n",
    "Use A,B and C from questions 1 and 2\n"
   ]
  },
  {
   "cell_type": "code",
   "execution_count": 46,
   "metadata": {
    "collapsed": false,
    "deletable": true,
    "editable": true
   },
   "outputs": [
    {
     "name": "stdout",
     "output_type": "stream",
     "text": [
      "{ 0.2/2 0.2/3 0.3/4 0.4/5 0.7/6 0.5/7 }\n"
     ]
    }
   ],
   "source": [
    "def fuzzy_add_mod(A,B,C):\n",
    "    # A,B and C are dictionaries whose keys are integers and whose values are the degrees of membership of the integers.\n",
    "    # Compute the Modified Sum of A, B and C and store it in a new dictionary fuzz_sum.\n",
    "    D = fuzzy_bold_intersection(A, B)\n",
    "    # This gives a default value of 0 for all keys of the dictionary which don't already exist\n",
    "    fuzz_sum = defaultdict(lambda: 0)\n",
    "    for key1 in D.keys():\n",
    "        for key2 in C.keys():\n",
    "            fuzz_sum[key1 + key2] = max(min(D[key1],C[key2]), fuzz_sum[key1 + key2])\n",
    "    return fuzz_sum \n",
    "    \n",
    "print_fuzzy(fuzzy_add_mod(A,B,C))"
   ]
  },
  {
   "cell_type": "markdown",
   "metadata": {
    "deletable": true,
    "editable": true
   },
   "source": [
    "# 4. Fuzzy Relations\n",
    "\n",
    "Let's define a fuzzy relation for the statement, \"If test is tough, marks are scored\".\n",
    "\n",
    "We can have 2 fuzzy sets for toughness of a test and scores in the test. Assume toughness on a scale of 1 to 5 and marks from 0 to 10.\n",
    "\n",
    "A = 0.3/1 + 0.4/2 + 0.7/3 + 0.5/4 + 0.2/5\n",
    "\n",
    "B = 0.1/0 + 0.3/1 + 0.5/2 + 0.7/3 + 0.8/4 + 0.9/5 + 0.8/6 + 0.7/7 + 0.5/8 + 0.3/9 + 0.1/10\n",
    "\n",
    "The fuzzy relation can be calculated by computing the minimum of µA(x) and µB(y) for each µR(x, y). This would give us:\n",
    "\n",
    "µR(x, y) = [ 0.1  0.3  0.3  0.3  0.3  0.3  0.3  0.3  0.3  0.3  0.1   \n",
    "&nbsp;&nbsp;&nbsp;&nbsp;&nbsp;&nbsp;&nbsp;&nbsp;&nbsp;&nbsp;&nbsp;&nbsp;&nbsp;&nbsp;&nbsp;&nbsp;&nbsp;&nbsp;&nbsp;0.1  0.3  0.4  0.4  0.4  0.4  0.4  0.4  0.4  0.3  0.1   \n",
    "&nbsp;&nbsp;&nbsp;&nbsp;&nbsp;&nbsp;&nbsp;&nbsp;&nbsp;&nbsp;&nbsp;&nbsp;&nbsp;&nbsp;&nbsp;&nbsp;&nbsp;&nbsp;&nbsp;0.1  0.3  0.5  0.7  0.7  0.7  0.7  0.7  0.5  0.3  0.1   \n",
    "&nbsp;&nbsp;&nbsp;&nbsp;&nbsp;&nbsp;&nbsp;&nbsp;&nbsp;&nbsp;&nbsp;&nbsp;&nbsp;&nbsp;&nbsp;&nbsp;&nbsp;&nbsp;&nbsp;0.1  0.3  0.5  0.5  0.5  0.5  0.5  0.5  0.5  0.3  0.1   \n",
    "&nbsp;&nbsp;&nbsp;&nbsp;&nbsp;&nbsp;&nbsp;&nbsp;&nbsp;&nbsp;&nbsp;&nbsp;&nbsp;&nbsp;&nbsp;&nbsp;&nbsp;&nbsp;&nbsp;0.1  0.2  0.2  0.2  0.2  0.2  0.2  0.2  0.2  0.2  0.1 ]\n",
    "             "
   ]
  },
  {
   "cell_type": "code",
   "execution_count": 31,
   "metadata": {
    "collapsed": false,
    "deletable": true,
    "editable": true
   },
   "outputs": [
    {
     "name": "stdout",
     "output_type": "stream",
     "text": [
      "[[ 0.1  0.3  0.3  0.3  0.3  0.3  0.3  0.3  0.3  0.3  0.1]\n",
      " [ 0.1  0.3  0.4  0.4  0.4  0.4  0.4  0.4  0.4  0.3  0.1]\n",
      " [ 0.1  0.3  0.5  0.7  0.7  0.7  0.7  0.7  0.5  0.3  0.1]\n",
      " [ 0.1  0.3  0.5  0.5  0.5  0.5  0.5  0.5  0.5  0.3  0.1]\n",
      " [ 0.1  0.2  0.2  0.2  0.2  0.2  0.2  0.2  0.2  0.2  0.1]]\n"
     ]
    }
   ],
   "source": [
    "def fuzzy_if(A, B):\n",
    "    # A and B are dictionaries whose keys are integers and whose values are the degrees of membership of the integers.\n",
    "    # Compute the fuzzy relation of A and B and store it in a new matrix fuzz_rel.\n",
    "    fuzz_rel = np.zeros((len(A.keys()), len(B.keys())))\n",
    "    for i, key1 in enumerate(A.keys()):\n",
    "        for j, key2 in enumerate(B.keys()):\n",
    "            fuzz_rel[i][j] = min(A[key1], B[key2])\n",
    "    return fuzz_rel\n",
    "    \n",
    "# Create fuzzy set A for toughness\n",
    "A = {1:0.3, 2:0.4, 3:0.7, 4:0.5, 5:0.2}\n",
    "# Create fuzzy set B for scores\n",
    "B = {0:0.1, 1:0.3, 2:0.5, 3:0.7, 4:0.8, 5:0.9, 6:0.8, 7:0.7, 8:0.5, 9:0.3, 10:0.1}\n",
    "\n",
    "print(fuzzy_if(A, B))"
   ]
  },
  {
   "cell_type": "markdown",
   "metadata": {
    "deletable": true,
    "editable": true
   },
   "source": [
    "### Composite relation\n",
    " We can define another to relate toughness with the preparedness for the test.\n",
    " \n",
    " Let preparedness be on a scale of 1 to 5:\n",
    " \n",
    " C = 0.2/1 + 0.3/2 + 0.5/3 + 0.7/4 + 0.2/5\n",
    " \n",
    " We can now define two relations from A to B and from B to C to relate A to C. We will use the min-max method to do the same."
   ]
  },
  {
   "cell_type": "code",
   "execution_count": 47,
   "metadata": {
    "collapsed": false,
    "deletable": true,
    "editable": true
   },
   "outputs": [
    {
     "name": "stdout",
     "output_type": "stream",
     "text": [
      "[[ 0.4  0.4  0.5  0.5  0.4]\n",
      " [ 0.5  0.5  0.5  0.5  0.5]\n",
      " [ 0.5  0.5  0.5  0.5  0.5]\n",
      " [ 0.5  0.5  0.5  0.5  0.5]]\n"
     ]
    }
   ],
   "source": [
    "def fuzzy_comp(A, B):\n",
    "    # A and B are relations.\n",
    "    # Compute the fuzzy composition of A and B and store it in a new matrix fuzz_rel.\n",
    "    \n",
    "    #We use 1's as we would apply the min operation on it later\n",
    "    fuzz_rel = np.ones((np.shape(A)[0], np.shape(B)[1]))\n",
    "    #The loops for i, j, k can be shuffled around as most convenient\n",
    "    for i in range(0, np.shape(A)[0]):\n",
    "        for j in range(0, np.shape(B)[1]):\n",
    "            for k in range(0, np.shape(A)[1]):\n",
    "                fuzz_rel[i][j] = min(fuzz_rel[i][j], max(A[i][k], B[k][j]))\n",
    "    return fuzz_rel\n",
    "    \n",
    "# Create fuzzy set C for preparedness\n",
    "C = {1:0.2, 2:0.3, 3:0.5, 4:0.7, 5:0.2}\n",
    "# Create fuzzy relation R1 for toughness to scores\n",
    "R1 = fuzzy_if(A, B)\n",
    "# Create fuzzy relation R2 for scores to preparedness\n",
    "R2 = fuzzy_if(B, C)\n",
    "\n",
    "print(fuzzy_comp(R1, R2))"
   ]
  }
 ],
 "metadata": {
  "kernelspec": {
   "display_name": "Python 3",
   "language": "python",
   "name": "python3"
  },
  "language_info": {
   "codemirror_mode": {
    "name": "ipython",
    "version": 3
   },
   "file_extension": ".py",
   "mimetype": "text/x-python",
   "name": "python",
   "nbconvert_exporter": "python",
   "pygments_lexer": "ipython3",
   "version": "3.5.2"
  }
 },
 "nbformat": 4,
 "nbformat_minor": 0
}
