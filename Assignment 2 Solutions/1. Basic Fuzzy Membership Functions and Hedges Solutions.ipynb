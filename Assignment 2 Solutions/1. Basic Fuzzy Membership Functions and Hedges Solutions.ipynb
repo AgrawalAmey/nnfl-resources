{
 "cells": [
  {
   "cell_type": "markdown",
   "metadata": {},
   "source": [
    "# Some Basic Fuzzy Mambership Functions and Hedges\n"
   ]
  },
  {
   "cell_type": "code",
   "execution_count": 1,
   "metadata": {
    "collapsed": true
   },
   "outputs": [],
   "source": [
    "import sys\n",
    "import math\n",
    "from operator import itemgetter\n",
    "from functools import partial"
   ]
  },
  {
   "cell_type": "markdown",
   "metadata": {
    "collapsed": true
   },
   "source": [
    "# 1. Membership Functions \n"
   ]
  },
  {
   "cell_type": "markdown",
   "metadata": {},
   "source": [
    "# 1a. Up Membership Function\n"
   ]
  },
  {
   "cell_type": "markdown",
   "metadata": {},
   "source": [
    "\n",
    "\n",
    "   \n",
    "mu(x,a,b) = \n",
    "     \\begin{cases}\n",
    "       \\text{0} &\\quad\\text{if x}\\le a, \\\\\n",
    "       \\dfrac{x-a}{b-a} &\\quad\\text{if x}\\ge a \\text{ and x}\\le b,\\\\\n",
    "       \\text{1} &\\quad\\text{otherwise.} \\\\ \n",
    "     \\end{cases}\n",
    "\n",
    "\n"
   ]
  },
  {
   "cell_type": "code",
   "execution_count": 2,
   "metadata": {
    "collapsed": true
   },
   "outputs": [],
   "source": [
    "# a,b -> as defined above\n",
    "# x -> point for which the membershi value is to be obtained\n",
    "# return the correct membership value\n",
    "def up(a, b, x):\n",
    "    # Your code here\n",
    "    if x < a:\n",
    "        return 0.0\n",
    "    if x < b:\n",
    "        return (x - a) / (b - a)\n",
    " #raise NotImplementedError()\n",
    "    return 1.0"
   ]
  },
  {
   "cell_type": "code",
   "execution_count": 3,
   "metadata": {
    "collapsed": true
   },
   "outputs": [],
   "source": [
    "test1=up(1,2,0.5)\n",
    "assert test1==0\n",
    "test2=up(1,2,1.5)\n",
    "assert test2==0.5"
   ]
  },
  {
   "cell_type": "markdown",
   "metadata": {},
   "source": [
    "# 1b. Triangular Membership Function"
   ]
  },
  {
   "cell_type": "markdown",
   "metadata": {},
   "source": [
    "mu(x,a,b,m) = \n",
    "     \\begin{cases}\n",
    "       \\text{0} &\\quad\\text{if x}\\le a, \\\\\n",
    "       \\dfrac{x-a}{m-a} &\\quad\\text{if x}\\ge a \\text{ and x}\\le m,\\\\\n",
    "       \\dfrac{b-x}{b-m} &\\quad\\text{if x}\\ge m \\text{ and x}\\le b,\\\\\n",
    "       \\text{1} &\\quad\\text{otherwise.} \\\\ \n",
    "     \\end{cases}\n",
    "\n",
    "                  where m = (a+b)/2"
   ]
  },
  {
   "cell_type": "code",
   "execution_count": 12,
   "metadata": {
    "collapsed": true
   },
   "outputs": [],
   "source": [
    "# a,b,m -> as defined above\n",
    "# x -> point for which the membershi value is to be obtained\n",
    "# return the correct membership value\n",
    "def tri(a, b, x):\n",
    "    #Your code here\n",
    "    #raise NotImplementedError()\n",
    "    a = float(a)\n",
    "    b = float(b)\n",
    "    m = (a + b) / 2.\n",
    "    first = (x - a) / (m - a)\n",
    "    second = (b - x) / (b - m)\n",
    "    return max(min(first, second), 0.)"
   ]
  },
  {
   "cell_type": "code",
   "execution_count": 13,
   "metadata": {},
   "outputs": [
    {
     "name": "stdout",
     "output_type": "stream",
     "text": [
      "test1: 0.0\n",
      "test2: 1.0\n"
     ]
    }
   ],
   "source": [
    "test1=tri(1,2,0.5)\n",
    "print(\"test1:\",test1)\n",
    "assert test1==0\n",
    "test2=tri(1,2,1.5)\n",
    "print(\"test2:\",test2)\n",
    "assert test2==1.0"
   ]
  },
  {
   "cell_type": "markdown",
   "metadata": {},
   "source": [
    "mu(x,a,b,c, d) = \n",
    "     \\begin{cases}\n",
    "       \\text{0} &\\quad\\text{if x}\\le a, \\\\\n",
    "       \\dfrac{x-a}{b-a} &\\quad\\text{if x}\\ge a \\text{ and x}\\le b,\\\\\n",
    "        \\text{1} &\\quad\\text{if x}\\ge b \\text{ and x}\\le c,\\\\\n",
    "       \\dfrac{d-x}{d-c} &\\quad\\text{if x}\\ge c \\text{ and x}\\le d,\\\\\n",
    "       \\text{1} &\\quad\\text{otherwise.} \\\\ \n",
    "     \\end{cases}\n"
   ]
  },
  {
   "cell_type": "code",
   "execution_count": 6,
   "metadata": {
    "collapsed": true
   },
   "outputs": [],
   "source": [
    "# a,b,c,d -> as defined above\n",
    "# x -> point for which the membershi value is to be obtained\n",
    "# return the correct membership value\n",
    "def trap(a, b, c, d, x):\n",
    "    #Your code here\n",
    "    #raise NotImplementedError()\n",
    "    a=float(a)\n",
    "    b=float(b)\n",
    "    c=float(c)\n",
    "    d=float(d)\n",
    "    first = (x - a) / (b - a)\n",
    "    second = (d - x) / (d - c)\n",
    "    return max(min(first, 1., second), 0.)\n"
   ]
  },
  {
   "cell_type": "code",
   "execution_count": 7,
   "metadata": {},
   "outputs": [
    {
     "name": "stdout",
     "output_type": "stream",
     "text": [
      "test1: 1.0\n",
      "test2: 0.5\n"
     ]
    }
   ],
   "source": [
    "test1=trap(1,2,3,5,2.5)\n",
    "print(\"test1:\",test1)\n",
    "assert test1==1.0\n",
    "test2=trap(1,2,3,5,4)\n",
    "print(\"test2:\",test2)\n",
    "assert test2==0.5"
   ]
  },
  {
   "cell_type": "markdown",
   "metadata": {},
   "source": [
    "# 2. Hedges"
   ]
  },
  {
   "cell_type": "code",
   "execution_count": 8,
   "metadata": {},
   "outputs": [
    {
     "data": {
      "image/png": "[encoded data removed]",
      "text/plain": [
       "<IPython.core.display.Image object>"
      ]
     },
     "execution_count": 8,
     "metadata": {},
     "output_type": "execute_result"
    }
   ],
   "source": [
    "from IPython.core.display import Image\n",
    "Image(filename=('images/Hedges1.png'))"
   ]
  },
  {
   "cell_type": "code",
   "execution_count": 9,
   "metadata": {
    "collapsed": true
   },
   "outputs": [],
   "source": [
    "# hedges\n",
    "#raise mvalue to the power of p\n",
    "def hedge(mvalue, p):\n",
    "    \"\"\"Generic definition of a function that alters a given membership function\n",
    "    by intensifying it in the case of *very* of diluting it in the case of\n",
    "    *somewhat*.  \"\"\"\n",
    "\n",
    "    #Your code here\n",
    "    #raise NotImplementedError()\n",
    "    mvalue = float(mvalue)\n",
    "    if not p:\n",
    "        return 0.0\n",
    "    return math.pow(mvalue, p)"
   ]
  },
  {
   "cell_type": "code",
   "execution_count": 10,
   "metadata": {},
   "outputs": [
    {
     "name": "stdout",
     "output_type": "stream",
     "text": [
      "very: 0.09\n",
      "extremely: 0.026999999999999996\n",
      "somewhat: 0.5477225575051661\n",
      "slightly: 0.6694329500821695\n"
     ]
    }
   ],
   "source": [
    "mvalue=0.3\n",
    "very = hedge(mvalue, 2.)\n",
    "print(\"very:\",very)\n",
    "assert very==0.09\n",
    "extremely = hedge(mvalue, 3.)\n",
    "print(\"extremely:\",extremely)\n",
    "assert extremely==0.026999999999999996\n",
    "somewhat = hedge(mvalue, 0.5)\n",
    "print(\"somewhat:\",somewhat)\n",
    "assert somewhat==0.5477225575051661\n",
    "slightly = hedge(mvalue, 1. / 3.)\n",
    "print(\"slightly:\",slightly)\n",
    "assert slightly==0.6694329500821695"
   ]
  }
 ],
 "metadata": {
  "kernelspec": {
   "display_name": "Python 3.6",
   "language": "python",
   "name": "python36"
  },
  "language_info": {
   "codemirror_mode": {
    "name": "ipython",
    "version": 3
   },
   "file_extension": ".py",
   "mimetype": "text/x-python",
   "name": "python",
   "nbconvert_exporter": "python",
   "pygments_lexer": "ipython3",
   "version": "3.6.0"
  }
 },
 "nbformat": 4,
 "nbformat_minor": 2
}
